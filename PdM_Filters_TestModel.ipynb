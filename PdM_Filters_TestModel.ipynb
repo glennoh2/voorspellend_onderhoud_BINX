{
 "cells": [
  {
   "cell_type": "code",
   "execution_count": 1,
   "id": "7c25a83f",
   "metadata": {},
   "outputs": [
    {
     "data": {
      "text/plain": [
       "array([65.95900538])"
      ]
     },
     "execution_count": 1,
     "metadata": {},
     "output_type": "execute_result"
    }
   ],
   "source": [
    "# importeren van bibliotheken\n",
    "from joblib import load\n",
    "import pandas as pd\n",
    "\n",
    "# Gebruik test data\n",
    "data_filter_test = {'Aansturing Ventilator': [100],\n",
    "                    'Fijnstofconcentratie PM10': [17],\n",
    "                    'Fijnstofconcentratie PM2.5': [10],\n",
    "                    'Filteroppervlak': [59.78144],\n",
    "                    'Klasse': [\"F7\"],\n",
    "                    'Totale Flow': [20000],\n",
    "                    'Voltooide Levensduur': [5000]}\n",
    "\n",
    "data_filter_test = pd.DataFrame(data=data_filter_test)\n",
    "\n",
    "# Model ophalen\n",
    "def_model_loaded = load(\"def_model_123.pkl\")\n",
    "def_model_loaded_2 = load(\"def_model.pkl\")\n",
    "\n",
    "# Voorspel het drukverschil\n",
    "def_model_loaded.predict(data_filter_test)"
   ]
  },
  {
   "cell_type": "code",
   "execution_count": 2,
   "id": "4a46ccc1",
   "metadata": {},
   "outputs": [
    {
     "data": {
      "text/plain": [
       "Pipeline(steps=[('voorbereiding',\n",
       "                 ColumnTransformer(transformers=[('num',\n",
       "                                                  Pipeline(steps=[('imputer',\n",
       "                                                                   SimpleImputer()),\n",
       "                                                                  ('norm_scaler',\n",
       "                                                                   MinMaxScaler())]),\n",
       "                                                  ['Aansturing Ventilator',\n",
       "                                                   'Fijnstofconcentratie PM10',\n",
       "                                                   'Fijnstofconcentratie PM2.5',\n",
       "                                                   'Filteroppervlak',\n",
       "                                                   'Totale Flow',\n",
       "                                                   'Voltooide Levensduur']),\n",
       "                                                 ('cat', OneHotEncoder(),\n",
       "                                                  ['Klasse'])])),\n",
       "                ('rand_forest',\n",
       "                 RandomForestRegressor(max_features=5, n_estimators=131,\n",
       "                                       random_state=42))])"
      ]
     },
     "execution_count": 2,
     "metadata": {},
     "output_type": "execute_result"
    }
   ],
   "source": [
    "def_model_loaded"
   ]
  },
  {
   "cell_type": "code",
   "execution_count": 3,
   "id": "e57e3c3e",
   "metadata": {},
   "outputs": [
    {
     "data": {
      "text/plain": [
       "Pipeline(steps=[('voorbereiding',\n",
       "                 ColumnTransformer(transformers=[('num',\n",
       "                                                  Pipeline(steps=[('imputer',\n",
       "                                                                   SimpleImputer()),\n",
       "                                                                  ('norm_scaler',\n",
       "                                                                   MinMaxScaler())]),\n",
       "                                                  ['Aansturing Ventilator',\n",
       "                                                   'Fijnstofconcentratie PM10',\n",
       "                                                   'Fijnstofconcentratie PM2.5',\n",
       "                                                   'Filteroppervlak',\n",
       "                                                   'Totale Flow',\n",
       "                                                   'Voltooide Levensduur']),\n",
       "                                                 ('cat',\n",
       "                                                  Pipeline(steps=[('enc',\n",
       "                                                                   OneHotEncoder(handle_unknown='ignore'))]),\n",
       "                                                  ['Klasse'])])),\n",
       "                ('rand_forest',\n",
       "                 RandomForestRegressor(max_features=5, n_estimators=131,\n",
       "                                       random_state=42))])"
      ]
     },
     "execution_count": 3,
     "metadata": {},
     "output_type": "execute_result"
    }
   ],
   "source": [
    "def_model_loaded_2"
   ]
  },
  {
   "cell_type": "code",
   "execution_count": null,
   "id": "9538355b",
   "metadata": {},
   "outputs": [],
   "source": []
  }
 ],
 "metadata": {
  "kernelspec": {
   "display_name": "Python 3 (ipykernel)",
   "language": "python",
   "name": "python3"
  },
  "language_info": {
   "codemirror_mode": {
    "name": "ipython",
    "version": 3
   },
   "file_extension": ".py",
   "mimetype": "text/x-python",
   "name": "python",
   "nbconvert_exporter": "python",
   "pygments_lexer": "ipython3",
   "version": "3.9.9"
  }
 },
 "nbformat": 4,
 "nbformat_minor": 5
}
