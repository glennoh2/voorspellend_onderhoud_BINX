{
 "cells": [
  {
   "cell_type": "markdown",
   "id": "252eb7da",
   "metadata": {},
   "source": [
    "# Voorspellend onderhoud binnen de utiliteitsbouw\n",
    "\n",
    "*Het programma dat u voor u ziet, is het resultaat van de tweede fase in het afstudeerproject naar voorspellend onderhoud voor filters in luchtbehandelingskasten. Voor informatie over de gebruikte functies of de verschillende ontwerpkeuzes die gemaakt zijn, wordt doorverwezen naar document 'Verslag machine learning'. Deze wordt als bijlage bij het eindverslag van de student geleverd; 'Voorspellend onderhoud binnen de utiliteitsbouw'.*\n",
    "\n",
    "**Een virtuele omgeving ontworpen door Glenn Huitink.**"
   ]
  },
  {
   "cell_type": "markdown",
   "id": "4bc811ff",
   "metadata": {},
   "source": [
    "**December 2021, Groenlo.**"
   ]
  },
  {
   "cell_type": "markdown",
   "id": "eec5eae5",
   "metadata": {},
   "source": [
    "**BINX Smartility.**"
   ]
  },
  {
   "cell_type": "markdown",
   "id": "365d9a57",
   "metadata": {},
   "source": [
    "# Opzet"
   ]
  },
  {
   "cell_type": "markdown",
   "id": "0829e52b",
   "metadata": {},
   "source": [
    "Allereerst zullen een aantal bibliotheken geïmporteerd moeten worden om het gebruik van externe functies mogelijk te maken:\n",
    "- SciKit-Learn (`sklearn`)\n",
    "- Matplotlib (`matplotlib`)\n",
    "- pandas (`pandas`)\n",
    "\n",
    "De relevantie van elke bibliotheek afzonderlijk, wordt uitgebreid beschreven in het verslag."
   ]
  },
  {
   "cell_type": "code",
   "execution_count": 1,
   "id": "5b5d0859",
   "metadata": {},
   "outputs": [],
   "source": [
    "# Python ≥3.5 is nodig (loopt op dit moment op 3.9.9)\n",
    "import sys\n",
    "assert sys.version_info >= (3, 5)\n",
    "\n",
    "# Scikit-Learn ≥0.20 is nodig\n",
    "import sklearn\n",
    "assert sklearn.__version__ >= \"0.20\"\n",
    "\n",
    "# Algemene bibliotheken \n",
    "import numpy as np\n",
    "import os\n",
    "\n",
    "# Bibliotheken om grafieken te plotten via Matplot\n",
    "%matplotlib inline\n",
    "import matplotlib as mpl\n",
    "import matplotlib.pyplot as plt\n",
    "mpl.rc('axes', labelsize=14)\n",
    "mpl.rc('xtick', labelsize=12)\n",
    "mpl.rc('ytick', labelsize=12)\n",
    "\n",
    "# Where to save the figures\n",
    "PROJECT_ROOT_DIR = \".\"\n",
    "CHAPTER_ID = \"PdM_Filters_Project\"\n",
    "IMAGES_PATH = os.path.join(PROJECT_ROOT_DIR, \"images\", CHAPTER_ID)\n",
    "os.makedirs(IMAGES_PATH, exist_ok=True)\n",
    "\n",
    "def save_fig(fig_id, tight_layout=True, fig_extension=\"png\", resolution=300):\n",
    "    path = os.path.join(IMAGES_PATH, fig_id + \".\" + fig_extension)\n",
    "    print(\"Saving figure\", fig_id)\n",
    "    if tight_layout:\n",
    "        plt.tight_layout()\n",
    "    plt.savefig(path, format=fig_extension, dpi=resolution)"
   ]
  },
  {
   "cell_type": "markdown",
   "id": "b67e449f",
   "metadata": {},
   "source": [
    "# Importeren van data"
   ]
  },
  {
   "cell_type": "markdown",
   "id": "12a67d9c",
   "metadata": {},
   "source": [
    "De data wordt geïmporteerd vanuit een Microsoft Excel document. Deze is gegenereerd vanuit SkySpark; het platform waar BINX data vanuit het gebouwbeheersysteem opslaat. De dataverzameling begon op woensdag 10 november 2021 om 13:00 tot en met vrijdag 26 november om 10:00. "
   ]
  },
  {
   "cell_type": "code",
   "execution_count": 2,
   "id": "6e8800d7",
   "metadata": {
    "scrolled": true
   },
   "outputs": [],
   "source": [
    "# Importeer de data als 'dataset_filter'\n",
    "import  os \n",
    "import  tarfile \n",
    "import  urllib\n",
    "import pandas as pd\n",
    "dataset_filter = pd.read_csv(r'C:\\Users\\ZBook\\OneDrive - Binx Smartility B.V\\DataMining\\Dataset_PdM_Filters_1_2.csv')\n"
   ]
  },
  {
   "cell_type": "code",
   "execution_count": 3,
   "id": "7d9896cc",
   "metadata": {},
   "outputs": [
    {
     "data": {
      "text/html": [
       "<div>\n",
       "<style scoped>\n",
       "    .dataframe tbody tr th:only-of-type {\n",
       "        vertical-align: middle;\n",
       "    }\n",
       "\n",
       "    .dataframe tbody tr th {\n",
       "        vertical-align: top;\n",
       "    }\n",
       "\n",
       "    .dataframe thead th {\n",
       "        text-align: right;\n",
       "    }\n",
       "</style>\n",
       "<table border=\"1\" class=\"dataframe\">\n",
       "  <thead>\n",
       "    <tr style=\"text-align: right;\">\n",
       "      <th></th>\n",
       "      <th>Timestamp</th>\n",
       "      <th>SCE Weather Station Weather station particulate PM2.5</th>\n",
       "      <th>SCE Weather Station Weater station particulate PM10</th>\n",
       "      <th>SCE StageFilters Airflow TV meting 2-1</th>\n",
       "      <th>SCE StageFilters Airflow TV meting 1-3</th>\n",
       "      <th>SCE StageFilters Airflow TV meting 0-1</th>\n",
       "      <th>SCE StageFilters Airflow TV meting 0-3</th>\n",
       "      <th>SCE StageFilters Fan</th>\n",
       "      <th>SCE StageFilters Airflow TV meting 1-1</th>\n",
       "      <th>SCE StageFilters Airflow TV meting 3-1</th>\n",
       "      <th>SCE StageFilters Airflow TV meting 2-2</th>\n",
       "      <th>SCE StageFilters Filter</th>\n",
       "      <th>SCE StageFilters Airflow TV meting 0-2</th>\n",
       "      <th>SCE StageFilters Airflow TV meting 3-2</th>\n",
       "      <th>SCE StageFilters Airflow TV meting 1-2</th>\n",
       "      <th>SCE StageFilters Airflow TV meting 2-3</th>\n",
       "    </tr>\n",
       "  </thead>\n",
       "  <tbody>\n",
       "    <tr>\n",
       "      <th>0</th>\n",
       "      <td>2021-11-10T13:00:00+01:00 Amsterdam</td>\n",
       "      <td>10.038417</td>\n",
       "      <td>17.142726</td>\n",
       "      <td>2381.875m³/h</td>\n",
       "      <td>1292.3m³/h</td>\n",
       "      <td>1613.76m³/h</td>\n",
       "      <td>968.3478260869565m³/h</td>\n",
       "      <td>59.04%</td>\n",
       "      <td>1154.2857142857142m³/h</td>\n",
       "      <td>1335.4406779661017m³/h</td>\n",
       "      <td>623.375m³/h</td>\n",
       "      <td>39.48148148148148Pa</td>\n",
       "      <td>377.30434782608694m³/h</td>\n",
       "      <td>628.7096774193549m³/h</td>\n",
       "      <td>739m³/h</td>\n",
       "      <td>2850m³/h</td>\n",
       "    </tr>\n",
       "    <tr>\n",
       "      <th>1</th>\n",
       "      <td>2021-11-10T14:00:00+01:00 Amsterdam</td>\n",
       "      <td>9.512948</td>\n",
       "      <td>16.357076</td>\n",
       "      <td>2467.05m³/h</td>\n",
       "      <td>1273.7666666666667m³/h</td>\n",
       "      <td>1618.6440677966102m³/h</td>\n",
       "      <td>483.6140350877193m³/h</td>\n",
       "      <td>56.44%</td>\n",
       "      <td>981.1525423728814m³/h</td>\n",
       "      <td>1259.6m³/h</td>\n",
       "      <td>625.2372881355932m³/h</td>\n",
       "      <td>37.702127659574465Pa</td>\n",
       "      <td>375.7241379310345m³/h</td>\n",
       "      <td>561.6271186440678m³/h</td>\n",
       "      <td>649.3389830508474m³/h</td>\n",
       "      <td>2807.55m³/h</td>\n",
       "    </tr>\n",
       "    <tr>\n",
       "      <th>2</th>\n",
       "      <td>2021-11-10T15:00:00+01:00 Amsterdam</td>\n",
       "      <td>9.257286</td>\n",
       "      <td>15.869389</td>\n",
       "      <td>1184.6333333333334m³/h</td>\n",
       "      <td>1257.4833333333333m³/h</td>\n",
       "      <td>1589.9833333333333m³/h</td>\n",
       "      <td>34.58181818181818m³/h</td>\n",
       "      <td>46.31%</td>\n",
       "      <td>996.2166666666667m³/h</td>\n",
       "      <td>1198.8m³/h</td>\n",
       "      <td>516.8833333333333m³/h</td>\n",
       "      <td>25.916666666666668Pa</td>\n",
       "      <td>373.5344827586207m³/h</td>\n",
       "      <td>365.46666666666664m³/h</td>\n",
       "      <td>657.1833333333333m³/h</td>\n",
       "      <td>462.7719298245614m³/h</td>\n",
       "    </tr>\n",
       "    <tr>\n",
       "      <th>3</th>\n",
       "      <td>2021-11-10T16:00:00+01:00 Amsterdam</td>\n",
       "      <td>8.921606</td>\n",
       "      <td>15.484973</td>\n",
       "      <td>940.4m³/h</td>\n",
       "      <td>1225.5833333333333m³/h</td>\n",
       "      <td>1580.322033898305m³/h</td>\n",
       "      <td>33.982142857142854m³/h</td>\n",
       "      <td>43.26%</td>\n",
       "      <td>320.10526315789474m³/h</td>\n",
       "      <td>1207.05m³/h</td>\n",
       "      <td>505.1525423728813m³/h</td>\n",
       "      <td>20.41176470588235Pa</td>\n",
       "      <td>372.2542372881356m³/h</td>\n",
       "      <td>367.271186440678m³/h</td>\n",
       "      <td>500.8474576271187m³/h</td>\n",
       "      <td>37.672413793103445m³/h</td>\n",
       "    </tr>\n",
       "    <tr>\n",
       "      <th>4</th>\n",
       "      <td>2021-11-10T17:00:00+01:00 Amsterdam</td>\n",
       "      <td>9.507996</td>\n",
       "      <td>16.853290</td>\n",
       "      <td>985.85m³/h</td>\n",
       "      <td>1215.4745762711864m³/h</td>\n",
       "      <td>1570.4655172413793m³/h</td>\n",
       "      <td>33.85964912280702m³/h</td>\n",
       "      <td>42.75%</td>\n",
       "      <td>45.68421052631579m³/h</td>\n",
       "      <td>1019.2586206896551m³/h</td>\n",
       "      <td>502.6842105263158m³/h</td>\n",
       "      <td>18.464285714285715Pa</td>\n",
       "      <td>369.9642857142857m³/h</td>\n",
       "      <td>364.8135593220339m³/h</td>\n",
       "      <td>329.57894736842104m³/h</td>\n",
       "      <td>37.42m³/h</td>\n",
       "    </tr>\n",
       "  </tbody>\n",
       "</table>\n",
       "</div>"
      ],
      "text/plain": [
       "                             Timestamp  \\\n",
       "0  2021-11-10T13:00:00+01:00 Amsterdam   \n",
       "1  2021-11-10T14:00:00+01:00 Amsterdam   \n",
       "2  2021-11-10T15:00:00+01:00 Amsterdam   \n",
       "3  2021-11-10T16:00:00+01:00 Amsterdam   \n",
       "4  2021-11-10T17:00:00+01:00 Amsterdam   \n",
       "\n",
       "   SCE Weather Station Weather station particulate PM2.5  \\\n",
       "0                                          10.038417       \n",
       "1                                           9.512948       \n",
       "2                                           9.257286       \n",
       "3                                           8.921606       \n",
       "4                                           9.507996       \n",
       "\n",
       "   SCE Weather Station Weater station particulate PM10  \\\n",
       "0                                          17.142726     \n",
       "1                                          16.357076     \n",
       "2                                          15.869389     \n",
       "3                                          15.484973     \n",
       "4                                          16.853290     \n",
       "\n",
       "  SCE StageFilters Airflow TV meting 2-1  \\\n",
       "0                           2381.875m³/h   \n",
       "1                            2467.05m³/h   \n",
       "2                 1184.6333333333334m³/h   \n",
       "3                              940.4m³/h   \n",
       "4                             985.85m³/h   \n",
       "\n",
       "  SCE StageFilters Airflow TV meting 1-3  \\\n",
       "0                             1292.3m³/h   \n",
       "1                 1273.7666666666667m³/h   \n",
       "2                 1257.4833333333333m³/h   \n",
       "3                 1225.5833333333333m³/h   \n",
       "4                 1215.4745762711864m³/h   \n",
       "\n",
       "  SCE StageFilters Airflow TV meting 0-1  \\\n",
       "0                            1613.76m³/h   \n",
       "1                 1618.6440677966102m³/h   \n",
       "2                 1589.9833333333333m³/h   \n",
       "3                  1580.322033898305m³/h   \n",
       "4                 1570.4655172413793m³/h   \n",
       "\n",
       "  SCE StageFilters Airflow TV meting 0-3 SCE StageFilters Fan  \\\n",
       "0                  968.3478260869565m³/h               59.04%   \n",
       "1                  483.6140350877193m³/h               56.44%   \n",
       "2                  34.58181818181818m³/h               46.31%   \n",
       "3                 33.982142857142854m³/h               43.26%   \n",
       "4                  33.85964912280702m³/h               42.75%   \n",
       "\n",
       "  SCE StageFilters Airflow TV meting 1-1  \\\n",
       "0                 1154.2857142857142m³/h   \n",
       "1                  981.1525423728814m³/h   \n",
       "2                  996.2166666666667m³/h   \n",
       "3                 320.10526315789474m³/h   \n",
       "4                  45.68421052631579m³/h   \n",
       "\n",
       "  SCE StageFilters Airflow TV meting 3-1  \\\n",
       "0                 1335.4406779661017m³/h   \n",
       "1                             1259.6m³/h   \n",
       "2                             1198.8m³/h   \n",
       "3                            1207.05m³/h   \n",
       "4                 1019.2586206896551m³/h   \n",
       "\n",
       "  SCE StageFilters Airflow TV meting 2-2 SCE StageFilters Filter  \\\n",
       "0                            623.375m³/h     39.48148148148148Pa   \n",
       "1                  625.2372881355932m³/h    37.702127659574465Pa   \n",
       "2                  516.8833333333333m³/h    25.916666666666668Pa   \n",
       "3                  505.1525423728813m³/h     20.41176470588235Pa   \n",
       "4                  502.6842105263158m³/h    18.464285714285715Pa   \n",
       "\n",
       "  SCE StageFilters Airflow TV meting 0-2  \\\n",
       "0                 377.30434782608694m³/h   \n",
       "1                  375.7241379310345m³/h   \n",
       "2                  373.5344827586207m³/h   \n",
       "3                  372.2542372881356m³/h   \n",
       "4                  369.9642857142857m³/h   \n",
       "\n",
       "  SCE StageFilters Airflow TV meting 3-2  \\\n",
       "0                  628.7096774193549m³/h   \n",
       "1                  561.6271186440678m³/h   \n",
       "2                 365.46666666666664m³/h   \n",
       "3                   367.271186440678m³/h   \n",
       "4                  364.8135593220339m³/h   \n",
       "\n",
       "  SCE StageFilters Airflow TV meting 1-2  \\\n",
       "0                                739m³/h   \n",
       "1                  649.3389830508474m³/h   \n",
       "2                  657.1833333333333m³/h   \n",
       "3                  500.8474576271187m³/h   \n",
       "4                 329.57894736842104m³/h   \n",
       "\n",
       "  SCE StageFilters Airflow TV meting 2-3  \n",
       "0                               2850m³/h  \n",
       "1                            2807.55m³/h  \n",
       "2                  462.7719298245614m³/h  \n",
       "3                 37.672413793103445m³/h  \n",
       "4                              37.42m³/h  "
      ]
     },
     "execution_count": 3,
     "metadata": {},
     "output_type": "execute_result"
    }
   ],
   "source": [
    "dataset_filter.head()"
   ]
  },
  {
   "cell_type": "markdown",
   "id": "3822462b",
   "metadata": {},
   "source": [
    "**Data opschonen**"
   ]
  },
  {
   "cell_type": "markdown",
   "id": "1241f708",
   "metadata": {},
   "source": [
    "Vanuit Excel wordt de data niet in het juiste format (voor Machine Learning) aangeleverd. Eerst moet de data gemanipuleerd worden, voordat de ontwerper kan beginnen met het verkrijgen van inzichten."
   ]
  },
  {
   "cell_type": "code",
   "execution_count": 4,
   "id": "9b542eae",
   "metadata": {},
   "outputs": [],
   "source": [
    "# Benaming van kolom veranderen naar logische namen\n",
    "dataset_filter = dataset_filter.rename(columns={'SCE StageFilters Fan': 'Aansturing Ventilator', \n",
    "                                                'SCE StageFilters Filter': 'Drukverschil Filter',\n",
    "                                                'SCE Weather Station Weather station particulate PM2.5': 'Fijnstofconcentratie PM2.5',\n",
    "                                                'SCE Weather Station Weater station particulate PM10': 'Fijnstofconcentratie PM10'\n",
    "                                               })"
   ]
  },
  {
   "cell_type": "code",
   "execution_count": 5,
   "id": "b30f621f",
   "metadata": {},
   "outputs": [
    {
     "data": {
      "text/plain": [
       "0    2021-11-10T13:00:00+01:00 Amsterdam\n",
       "1    2021-11-10T14:00:00+01:00 Amsterdam\n",
       "2    2021-11-10T15:00:00+01:00 Amsterdam\n",
       "3    2021-11-10T16:00:00+01:00 Amsterdam\n",
       "4    2021-11-10T17:00:00+01:00 Amsterdam\n",
       "Name: Timestamp, dtype: object"
      ]
     },
     "execution_count": 5,
     "metadata": {},
     "output_type": "execute_result"
    }
   ],
   "source": [
    "# Type controleren van 'Timestamp'\n",
    "dataset_filter.Timestamp.head()"
   ]
  },
  {
   "cell_type": "code",
   "execution_count": 6,
   "id": "595f92fb",
   "metadata": {},
   "outputs": [
    {
     "data": {
      "text/plain": [
       "0    2021-11-10T13:00:00+01:00\n",
       "1    2021-11-10T14:00:00+01:00\n",
       "2    2021-11-10T15:00:00+01:00\n",
       "3    2021-11-10T16:00:00+01:00\n",
       "4    2021-11-10T17:00:00+01:00\n",
       "Name: Timestamp, dtype: object"
      ]
     },
     "execution_count": 6,
     "metadata": {},
     "output_type": "execute_result"
    }
   ],
   "source": [
    "# 'Amsterdam' verwijderen om type te kunnen formatteren\n",
    "dataset_filter['Timestamp'] = dataset_filter['Timestamp'].str.replace(\" Amsterdam\",\"\")\n",
    "dataset_filter.Timestamp.head()"
   ]
  },
  {
   "cell_type": "code",
   "execution_count": 7,
   "id": "259828d7",
   "metadata": {},
   "outputs": [],
   "source": [
    "# Functie om een datum met een bepaald type te veranderen naar 'datetime64'-type\n",
    "def verander_format_datum(datum, format_datetime):\n",
    "    return pd.to_datetime(datum, format = format_datetime, errors = 'coerce')"
   ]
  },
  {
   "cell_type": "markdown",
   "id": "e1b5ae02",
   "metadata": {},
   "source": [
    "Het 'datetime64'-type maakt gebruik van karakters om het format te bepalen. Deze hebben ieder een eigen betekenis. In de tabel hieronder staan de karakters weergeven met de bijbehorende betekenis"
   ]
  },
  {
   "cell_type": "markdown",
   "id": "84ad1499",
   "metadata": {},
   "source": [
    "| Karakter | Betekenis |\n",
    "| --- | --- | --- |\n",
    "| '%a' | Afkorting van weekdag |\n",
    "| '%A' | Weekdag |\n",
    "| '%w' | Weekdag als getal |\n",
    "| '%d' | Dag van de maand als decimaal getal met nullen |\n",
    "| '%b' | Afkorting van maand |\n",
    "| '%B' | Maand |\n",
    "| '%m' | Maand als decimaal getal met nullen |\n",
    "| '%y' | Jaar zonder eeuw |\n",
    "| '%Y' | Jaar met eeuw |\n",
    "| '%H' | Uur per 24 |\n",
    "| '%I' | Uur per 12 |\n",
    "| '%p' | AM of PM |\n",
    "| '%M' | Minuten |\n",
    "| '%S' | Seconden |\n",
    "| '%f' | Microseconden (6 decimalen) |\n",
    "| '%z' | Tijdzone afwijking |\n",
    "| '%Z' | Benaming tijdzone |\n",
    "| '%j' | Dag van het jaar als decimaal getal |\n",
    "| '%U' | Weeknummer van het jaar (zondag eerst) |\n",
    "| '%W' | Weeknummer van het jaar (maandag eerst) |\n",
    "| '%c' | Lokale tijd- en datumweergave (Tue Aug 16 21:30:00 1988 (en_US)) |\n",
    "| '%x' | Lokale datumweergave (08/16/1988 (en_US)) |\n",
    "| '%X' | Lokale tijdweergave (21:30:00 (en_US)) |\n",
    "| '%%' | Een '%' karakter |"
   ]
  },
  {
   "cell_type": "code",
   "execution_count": 8,
   "id": "19a18061",
   "metadata": {},
   "outputs": [
    {
     "data": {
      "text/plain": [
       "0   2021-11-10 13:00:00+01:00\n",
       "1   2021-11-10 14:00:00+01:00\n",
       "2   2021-11-10 15:00:00+01:00\n",
       "3   2021-11-10 16:00:00+01:00\n",
       "4   2021-11-10 17:00:00+01:00\n",
       "Name: Timestamp, dtype: datetime64[ns, pytz.FixedOffset(60)]"
      ]
     },
     "execution_count": 8,
     "metadata": {},
     "output_type": "execute_result"
    }
   ],
   "source": [
    "# Format bepalen\n",
    "format_datetime = '%Y-%m-%dT%H:%M:%S%z'\n",
    "dataset_filter['Timestamp'] = verander_format_datum(dataset_filter['Timestamp'], format_datetime)\n",
    "dataset_filter.Timestamp.head()"
   ]
  },
  {
   "cell_type": "code",
   "execution_count": 9,
   "id": "c4f76fb1",
   "metadata": {},
   "outputs": [
    {
     "data": {
      "text/html": [
       "<div>\n",
       "<style scoped>\n",
       "    .dataframe tbody tr th:only-of-type {\n",
       "        vertical-align: middle;\n",
       "    }\n",
       "\n",
       "    .dataframe tbody tr th {\n",
       "        vertical-align: top;\n",
       "    }\n",
       "\n",
       "    .dataframe thead th {\n",
       "        text-align: right;\n",
       "    }\n",
       "</style>\n",
       "<table border=\"1\" class=\"dataframe\">\n",
       "  <thead>\n",
       "    <tr style=\"text-align: right;\">\n",
       "      <th></th>\n",
       "      <th>Timestamp</th>\n",
       "      <th>Fijnstofconcentratie PM2.5</th>\n",
       "      <th>Fijnstofconcentratie PM10</th>\n",
       "      <th>SCE StageFilters Airflow TV meting 2-1</th>\n",
       "      <th>SCE StageFilters Airflow TV meting 1-3</th>\n",
       "      <th>SCE StageFilters Airflow TV meting 0-1</th>\n",
       "      <th>SCE StageFilters Airflow TV meting 0-3</th>\n",
       "      <th>Aansturing Ventilator</th>\n",
       "      <th>SCE StageFilters Airflow TV meting 1-1</th>\n",
       "      <th>SCE StageFilters Airflow TV meting 3-1</th>\n",
       "      <th>SCE StageFilters Airflow TV meting 2-2</th>\n",
       "      <th>Drukverschil Filter</th>\n",
       "      <th>SCE StageFilters Airflow TV meting 0-2</th>\n",
       "      <th>SCE StageFilters Airflow TV meting 3-2</th>\n",
       "      <th>SCE StageFilters Airflow TV meting 1-2</th>\n",
       "      <th>SCE StageFilters Airflow TV meting 2-3</th>\n",
       "    </tr>\n",
       "  </thead>\n",
       "  <tbody>\n",
       "    <tr>\n",
       "      <th>0</th>\n",
       "      <td>2021-11-10 13:00:00+01:00</td>\n",
       "      <td>10.038417</td>\n",
       "      <td>17.142726</td>\n",
       "      <td>2381.875m³/h</td>\n",
       "      <td>1292.3m³/h</td>\n",
       "      <td>1613.76m³/h</td>\n",
       "      <td>968.3478260869565m³/h</td>\n",
       "      <td>59.04%</td>\n",
       "      <td>1154.2857142857142m³/h</td>\n",
       "      <td>1335.4406779661017m³/h</td>\n",
       "      <td>623.375m³/h</td>\n",
       "      <td>39.48148148148148Pa</td>\n",
       "      <td>377.30434782608694m³/h</td>\n",
       "      <td>628.7096774193549m³/h</td>\n",
       "      <td>739m³/h</td>\n",
       "      <td>2850m³/h</td>\n",
       "    </tr>\n",
       "    <tr>\n",
       "      <th>1</th>\n",
       "      <td>2021-11-10 14:00:00+01:00</td>\n",
       "      <td>9.512948</td>\n",
       "      <td>16.357076</td>\n",
       "      <td>2467.05m³/h</td>\n",
       "      <td>1273.7666666666667m³/h</td>\n",
       "      <td>1618.6440677966102m³/h</td>\n",
       "      <td>483.6140350877193m³/h</td>\n",
       "      <td>56.44%</td>\n",
       "      <td>981.1525423728814m³/h</td>\n",
       "      <td>1259.6m³/h</td>\n",
       "      <td>625.2372881355932m³/h</td>\n",
       "      <td>37.702127659574465Pa</td>\n",
       "      <td>375.7241379310345m³/h</td>\n",
       "      <td>561.6271186440678m³/h</td>\n",
       "      <td>649.3389830508474m³/h</td>\n",
       "      <td>2807.55m³/h</td>\n",
       "    </tr>\n",
       "    <tr>\n",
       "      <th>2</th>\n",
       "      <td>2021-11-10 15:00:00+01:00</td>\n",
       "      <td>9.257286</td>\n",
       "      <td>15.869389</td>\n",
       "      <td>1184.6333333333334m³/h</td>\n",
       "      <td>1257.4833333333333m³/h</td>\n",
       "      <td>1589.9833333333333m³/h</td>\n",
       "      <td>34.58181818181818m³/h</td>\n",
       "      <td>46.31%</td>\n",
       "      <td>996.2166666666667m³/h</td>\n",
       "      <td>1198.8m³/h</td>\n",
       "      <td>516.8833333333333m³/h</td>\n",
       "      <td>25.916666666666668Pa</td>\n",
       "      <td>373.5344827586207m³/h</td>\n",
       "      <td>365.46666666666664m³/h</td>\n",
       "      <td>657.1833333333333m³/h</td>\n",
       "      <td>462.7719298245614m³/h</td>\n",
       "    </tr>\n",
       "    <tr>\n",
       "      <th>3</th>\n",
       "      <td>2021-11-10 16:00:00+01:00</td>\n",
       "      <td>8.921606</td>\n",
       "      <td>15.484973</td>\n",
       "      <td>940.4m³/h</td>\n",
       "      <td>1225.5833333333333m³/h</td>\n",
       "      <td>1580.322033898305m³/h</td>\n",
       "      <td>33.982142857142854m³/h</td>\n",
       "      <td>43.26%</td>\n",
       "      <td>320.10526315789474m³/h</td>\n",
       "      <td>1207.05m³/h</td>\n",
       "      <td>505.1525423728813m³/h</td>\n",
       "      <td>20.41176470588235Pa</td>\n",
       "      <td>372.2542372881356m³/h</td>\n",
       "      <td>367.271186440678m³/h</td>\n",
       "      <td>500.8474576271187m³/h</td>\n",
       "      <td>37.672413793103445m³/h</td>\n",
       "    </tr>\n",
       "    <tr>\n",
       "      <th>4</th>\n",
       "      <td>2021-11-10 17:00:00+01:00</td>\n",
       "      <td>9.507996</td>\n",
       "      <td>16.853290</td>\n",
       "      <td>985.85m³/h</td>\n",
       "      <td>1215.4745762711864m³/h</td>\n",
       "      <td>1570.4655172413793m³/h</td>\n",
       "      <td>33.85964912280702m³/h</td>\n",
       "      <td>42.75%</td>\n",
       "      <td>45.68421052631579m³/h</td>\n",
       "      <td>1019.2586206896551m³/h</td>\n",
       "      <td>502.6842105263158m³/h</td>\n",
       "      <td>18.464285714285715Pa</td>\n",
       "      <td>369.9642857142857m³/h</td>\n",
       "      <td>364.8135593220339m³/h</td>\n",
       "      <td>329.57894736842104m³/h</td>\n",
       "      <td>37.42m³/h</td>\n",
       "    </tr>\n",
       "  </tbody>\n",
       "</table>\n",
       "</div>"
      ],
      "text/plain": [
       "                  Timestamp  Fijnstofconcentratie PM2.5  \\\n",
       "0 2021-11-10 13:00:00+01:00                   10.038417   \n",
       "1 2021-11-10 14:00:00+01:00                    9.512948   \n",
       "2 2021-11-10 15:00:00+01:00                    9.257286   \n",
       "3 2021-11-10 16:00:00+01:00                    8.921606   \n",
       "4 2021-11-10 17:00:00+01:00                    9.507996   \n",
       "\n",
       "   Fijnstofconcentratie PM10 SCE StageFilters Airflow TV meting 2-1  \\\n",
       "0                  17.142726                           2381.875m³/h   \n",
       "1                  16.357076                            2467.05m³/h   \n",
       "2                  15.869389                 1184.6333333333334m³/h   \n",
       "3                  15.484973                              940.4m³/h   \n",
       "4                  16.853290                             985.85m³/h   \n",
       "\n",
       "  SCE StageFilters Airflow TV meting 1-3  \\\n",
       "0                             1292.3m³/h   \n",
       "1                 1273.7666666666667m³/h   \n",
       "2                 1257.4833333333333m³/h   \n",
       "3                 1225.5833333333333m³/h   \n",
       "4                 1215.4745762711864m³/h   \n",
       "\n",
       "  SCE StageFilters Airflow TV meting 0-1  \\\n",
       "0                            1613.76m³/h   \n",
       "1                 1618.6440677966102m³/h   \n",
       "2                 1589.9833333333333m³/h   \n",
       "3                  1580.322033898305m³/h   \n",
       "4                 1570.4655172413793m³/h   \n",
       "\n",
       "  SCE StageFilters Airflow TV meting 0-3 Aansturing Ventilator  \\\n",
       "0                  968.3478260869565m³/h                59.04%   \n",
       "1                  483.6140350877193m³/h                56.44%   \n",
       "2                  34.58181818181818m³/h                46.31%   \n",
       "3                 33.982142857142854m³/h                43.26%   \n",
       "4                  33.85964912280702m³/h                42.75%   \n",
       "\n",
       "  SCE StageFilters Airflow TV meting 1-1  \\\n",
       "0                 1154.2857142857142m³/h   \n",
       "1                  981.1525423728814m³/h   \n",
       "2                  996.2166666666667m³/h   \n",
       "3                 320.10526315789474m³/h   \n",
       "4                  45.68421052631579m³/h   \n",
       "\n",
       "  SCE StageFilters Airflow TV meting 3-1  \\\n",
       "0                 1335.4406779661017m³/h   \n",
       "1                             1259.6m³/h   \n",
       "2                             1198.8m³/h   \n",
       "3                            1207.05m³/h   \n",
       "4                 1019.2586206896551m³/h   \n",
       "\n",
       "  SCE StageFilters Airflow TV meting 2-2   Drukverschil Filter  \\\n",
       "0                            623.375m³/h   39.48148148148148Pa   \n",
       "1                  625.2372881355932m³/h  37.702127659574465Pa   \n",
       "2                  516.8833333333333m³/h  25.916666666666668Pa   \n",
       "3                  505.1525423728813m³/h   20.41176470588235Pa   \n",
       "4                  502.6842105263158m³/h  18.464285714285715Pa   \n",
       "\n",
       "  SCE StageFilters Airflow TV meting 0-2  \\\n",
       "0                 377.30434782608694m³/h   \n",
       "1                  375.7241379310345m³/h   \n",
       "2                  373.5344827586207m³/h   \n",
       "3                  372.2542372881356m³/h   \n",
       "4                  369.9642857142857m³/h   \n",
       "\n",
       "  SCE StageFilters Airflow TV meting 3-2  \\\n",
       "0                  628.7096774193549m³/h   \n",
       "1                  561.6271186440678m³/h   \n",
       "2                 365.46666666666664m³/h   \n",
       "3                   367.271186440678m³/h   \n",
       "4                  364.8135593220339m³/h   \n",
       "\n",
       "  SCE StageFilters Airflow TV meting 1-2  \\\n",
       "0                                739m³/h   \n",
       "1                  649.3389830508474m³/h   \n",
       "2                  657.1833333333333m³/h   \n",
       "3                  500.8474576271187m³/h   \n",
       "4                 329.57894736842104m³/h   \n",
       "\n",
       "  SCE StageFilters Airflow TV meting 2-3  \n",
       "0                               2850m³/h  \n",
       "1                            2807.55m³/h  \n",
       "2                  462.7719298245614m³/h  \n",
       "3                 37.672413793103445m³/h  \n",
       "4                              37.42m³/h  "
      ]
     },
     "execution_count": 9,
     "metadata": {},
     "output_type": "execute_result"
    }
   ],
   "source": [
    "# Missende waardes aanvullen met voorgaande waardes\n",
    "dataset_filter.ffill(inplace=True)\n",
    "dataset_filter.head()"
   ]
  },
  {
   "cell_type": "code",
   "execution_count": 10,
   "id": "76eac520",
   "metadata": {},
   "outputs": [
    {
     "data": {
      "text/html": [
       "<div>\n",
       "<style scoped>\n",
       "    .dataframe tbody tr th:only-of-type {\n",
       "        vertical-align: middle;\n",
       "    }\n",
       "\n",
       "    .dataframe tbody tr th {\n",
       "        vertical-align: top;\n",
       "    }\n",
       "\n",
       "    .dataframe thead th {\n",
       "        text-align: right;\n",
       "    }\n",
       "</style>\n",
       "<table border=\"1\" class=\"dataframe\">\n",
       "  <thead>\n",
       "    <tr style=\"text-align: right;\">\n",
       "      <th></th>\n",
       "      <th>Timestamp</th>\n",
       "      <th>Fijnstofconcentratie PM2.5</th>\n",
       "      <th>Fijnstofconcentratie PM10</th>\n",
       "      <th>SCE StageFilters Airflow TV meting 2-1</th>\n",
       "      <th>SCE StageFilters Airflow TV meting 1-3</th>\n",
       "      <th>SCE StageFilters Airflow TV meting 0-1</th>\n",
       "      <th>SCE StageFilters Airflow TV meting 0-3</th>\n",
       "      <th>Aansturing Ventilator</th>\n",
       "      <th>SCE StageFilters Airflow TV meting 1-1</th>\n",
       "      <th>SCE StageFilters Airflow TV meting 3-1</th>\n",
       "      <th>SCE StageFilters Airflow TV meting 2-2</th>\n",
       "      <th>Drukverschil Filter</th>\n",
       "      <th>SCE StageFilters Airflow TV meting 0-2</th>\n",
       "      <th>SCE StageFilters Airflow TV meting 3-2</th>\n",
       "      <th>SCE StageFilters Airflow TV meting 1-2</th>\n",
       "      <th>SCE StageFilters Airflow TV meting 2-3</th>\n",
       "    </tr>\n",
       "  </thead>\n",
       "  <tbody>\n",
       "    <tr>\n",
       "      <th>0</th>\n",
       "      <td>2021-11-10 13:00:00+01:00</td>\n",
       "      <td>10.038417</td>\n",
       "      <td>17.142726</td>\n",
       "      <td>2381.875000</td>\n",
       "      <td>1292.300000</td>\n",
       "      <td>1613.760000</td>\n",
       "      <td>968.347826</td>\n",
       "      <td>59.04</td>\n",
       "      <td>1154.285714</td>\n",
       "      <td>1335.440678</td>\n",
       "      <td>623.375000</td>\n",
       "      <td>39.481481</td>\n",
       "      <td>377.304348</td>\n",
       "      <td>628.709677</td>\n",
       "      <td>739.000000</td>\n",
       "      <td>2850.000000</td>\n",
       "    </tr>\n",
       "    <tr>\n",
       "      <th>1</th>\n",
       "      <td>2021-11-10 14:00:00+01:00</td>\n",
       "      <td>9.512948</td>\n",
       "      <td>16.357076</td>\n",
       "      <td>2467.050000</td>\n",
       "      <td>1273.766667</td>\n",
       "      <td>1618.644068</td>\n",
       "      <td>483.614035</td>\n",
       "      <td>56.44</td>\n",
       "      <td>981.152542</td>\n",
       "      <td>1259.600000</td>\n",
       "      <td>625.237288</td>\n",
       "      <td>37.702128</td>\n",
       "      <td>375.724138</td>\n",
       "      <td>561.627119</td>\n",
       "      <td>649.338983</td>\n",
       "      <td>2807.550000</td>\n",
       "    </tr>\n",
       "    <tr>\n",
       "      <th>2</th>\n",
       "      <td>2021-11-10 15:00:00+01:00</td>\n",
       "      <td>9.257286</td>\n",
       "      <td>15.869389</td>\n",
       "      <td>1184.633333</td>\n",
       "      <td>1257.483333</td>\n",
       "      <td>1589.983333</td>\n",
       "      <td>34.581818</td>\n",
       "      <td>46.31</td>\n",
       "      <td>996.216667</td>\n",
       "      <td>1198.800000</td>\n",
       "      <td>516.883333</td>\n",
       "      <td>25.916667</td>\n",
       "      <td>373.534483</td>\n",
       "      <td>365.466667</td>\n",
       "      <td>657.183333</td>\n",
       "      <td>462.771930</td>\n",
       "    </tr>\n",
       "    <tr>\n",
       "      <th>3</th>\n",
       "      <td>2021-11-10 16:00:00+01:00</td>\n",
       "      <td>8.921606</td>\n",
       "      <td>15.484973</td>\n",
       "      <td>940.400000</td>\n",
       "      <td>1225.583333</td>\n",
       "      <td>1580.322034</td>\n",
       "      <td>33.982143</td>\n",
       "      <td>43.26</td>\n",
       "      <td>320.105263</td>\n",
       "      <td>1207.050000</td>\n",
       "      <td>505.152542</td>\n",
       "      <td>20.411765</td>\n",
       "      <td>372.254237</td>\n",
       "      <td>367.271186</td>\n",
       "      <td>500.847458</td>\n",
       "      <td>37.672414</td>\n",
       "    </tr>\n",
       "    <tr>\n",
       "      <th>4</th>\n",
       "      <td>2021-11-10 17:00:00+01:00</td>\n",
       "      <td>9.507996</td>\n",
       "      <td>16.853290</td>\n",
       "      <td>985.850000</td>\n",
       "      <td>1215.474576</td>\n",
       "      <td>1570.465517</td>\n",
       "      <td>33.859649</td>\n",
       "      <td>42.75</td>\n",
       "      <td>45.684211</td>\n",
       "      <td>1019.258621</td>\n",
       "      <td>502.684211</td>\n",
       "      <td>18.464286</td>\n",
       "      <td>369.964286</td>\n",
       "      <td>364.813559</td>\n",
       "      <td>329.578947</td>\n",
       "      <td>37.420000</td>\n",
       "    </tr>\n",
       "  </tbody>\n",
       "</table>\n",
       "</div>"
      ],
      "text/plain": [
       "                  Timestamp  Fijnstofconcentratie PM2.5  \\\n",
       "0 2021-11-10 13:00:00+01:00                   10.038417   \n",
       "1 2021-11-10 14:00:00+01:00                    9.512948   \n",
       "2 2021-11-10 15:00:00+01:00                    9.257286   \n",
       "3 2021-11-10 16:00:00+01:00                    8.921606   \n",
       "4 2021-11-10 17:00:00+01:00                    9.507996   \n",
       "\n",
       "   Fijnstofconcentratie PM10  SCE StageFilters Airflow TV meting 2-1  \\\n",
       "0                  17.142726                             2381.875000   \n",
       "1                  16.357076                             2467.050000   \n",
       "2                  15.869389                             1184.633333   \n",
       "3                  15.484973                              940.400000   \n",
       "4                  16.853290                              985.850000   \n",
       "\n",
       "   SCE StageFilters Airflow TV meting 1-3  \\\n",
       "0                             1292.300000   \n",
       "1                             1273.766667   \n",
       "2                             1257.483333   \n",
       "3                             1225.583333   \n",
       "4                             1215.474576   \n",
       "\n",
       "   SCE StageFilters Airflow TV meting 0-1  \\\n",
       "0                             1613.760000   \n",
       "1                             1618.644068   \n",
       "2                             1589.983333   \n",
       "3                             1580.322034   \n",
       "4                             1570.465517   \n",
       "\n",
       "   SCE StageFilters Airflow TV meting 0-3  Aansturing Ventilator  \\\n",
       "0                              968.347826                  59.04   \n",
       "1                              483.614035                  56.44   \n",
       "2                               34.581818                  46.31   \n",
       "3                               33.982143                  43.26   \n",
       "4                               33.859649                  42.75   \n",
       "\n",
       "   SCE StageFilters Airflow TV meting 1-1  \\\n",
       "0                             1154.285714   \n",
       "1                              981.152542   \n",
       "2                              996.216667   \n",
       "3                              320.105263   \n",
       "4                               45.684211   \n",
       "\n",
       "   SCE StageFilters Airflow TV meting 3-1  \\\n",
       "0                             1335.440678   \n",
       "1                             1259.600000   \n",
       "2                             1198.800000   \n",
       "3                             1207.050000   \n",
       "4                             1019.258621   \n",
       "\n",
       "   SCE StageFilters Airflow TV meting 2-2  Drukverschil Filter  \\\n",
       "0                              623.375000            39.481481   \n",
       "1                              625.237288            37.702128   \n",
       "2                              516.883333            25.916667   \n",
       "3                              505.152542            20.411765   \n",
       "4                              502.684211            18.464286   \n",
       "\n",
       "   SCE StageFilters Airflow TV meting 0-2  \\\n",
       "0                              377.304348   \n",
       "1                              375.724138   \n",
       "2                              373.534483   \n",
       "3                              372.254237   \n",
       "4                              369.964286   \n",
       "\n",
       "   SCE StageFilters Airflow TV meting 3-2  \\\n",
       "0                              628.709677   \n",
       "1                              561.627119   \n",
       "2                              365.466667   \n",
       "3                              367.271186   \n",
       "4                              364.813559   \n",
       "\n",
       "   SCE StageFilters Airflow TV meting 1-2  \\\n",
       "0                              739.000000   \n",
       "1                              649.338983   \n",
       "2                              657.183333   \n",
       "3                              500.847458   \n",
       "4                              329.578947   \n",
       "\n",
       "   SCE StageFilters Airflow TV meting 2-3  \n",
       "0                             2850.000000  \n",
       "1                             2807.550000  \n",
       "2                              462.771930  \n",
       "3                               37.672414  \n",
       "4                               37.420000  "
      ]
     },
     "execution_count": 10,
     "metadata": {},
     "output_type": "execute_result"
    }
   ],
   "source": [
    "# Verwijderen van karakters die geen nummers zijn (Pa, %, etc.)\n",
    "import re\n",
    "kolom_timestamp = dataset_filter.pop('Timestamp')\n",
    "dataset_filter = dataset_filter.astype(str)\n",
    "dataset_filter = dataset_filter.applymap(lambda x: re.sub(r'[^0-9^\\-\\.]+', '', x)).replace('', np.float64(0)).astype('float64') \n",
    "dataset_filter.insert(0, 'Timestamp', kolom_timestamp)\n",
    "dataset_filter.head()"
   ]
  },
  {
   "cell_type": "code",
   "execution_count": 11,
   "id": "a64d846c",
   "metadata": {},
   "outputs": [
    {
     "data": {
      "text/html": [
       "<div>\n",
       "<style scoped>\n",
       "    .dataframe tbody tr th:only-of-type {\n",
       "        vertical-align: middle;\n",
       "    }\n",
       "\n",
       "    .dataframe tbody tr th {\n",
       "        vertical-align: top;\n",
       "    }\n",
       "\n",
       "    .dataframe thead th {\n",
       "        text-align: right;\n",
       "    }\n",
       "</style>\n",
       "<table border=\"1\" class=\"dataframe\">\n",
       "  <thead>\n",
       "    <tr style=\"text-align: right;\">\n",
       "      <th></th>\n",
       "      <th>Timestamp</th>\n",
       "      <th>Fijnstofconcentratie PM2.5</th>\n",
       "      <th>Fijnstofconcentratie PM10</th>\n",
       "      <th>Aansturing Ventilator</th>\n",
       "      <th>Drukverschil Filter</th>\n",
       "      <th>Totale Flow</th>\n",
       "    </tr>\n",
       "  </thead>\n",
       "  <tbody>\n",
       "    <tr>\n",
       "      <th>0</th>\n",
       "      <td>2021-11-10 13:00:00+01:00</td>\n",
       "      <td>10.038417</td>\n",
       "      <td>17.142726</td>\n",
       "      <td>59.04</td>\n",
       "      <td>39.481481</td>\n",
       "      <td>13964.398244</td>\n",
       "    </tr>\n",
       "    <tr>\n",
       "      <th>1</th>\n",
       "      <td>2021-11-10 14:00:00+01:00</td>\n",
       "      <td>9.512948</td>\n",
       "      <td>16.357076</td>\n",
       "      <td>56.44</td>\n",
       "      <td>37.702128</td>\n",
       "      <td>13103.304840</td>\n",
       "    </tr>\n",
       "    <tr>\n",
       "      <th>2</th>\n",
       "      <td>2021-11-10 15:00:00+01:00</td>\n",
       "      <td>9.257286</td>\n",
       "      <td>15.869389</td>\n",
       "      <td>46.31</td>\n",
       "      <td>25.916667</td>\n",
       "      <td>8637.538231</td>\n",
       "    </tr>\n",
       "    <tr>\n",
       "      <th>3</th>\n",
       "      <td>2021-11-10 16:00:00+01:00</td>\n",
       "      <td>8.921606</td>\n",
       "      <td>15.484973</td>\n",
       "      <td>43.26</td>\n",
       "      <td>20.411765</td>\n",
       "      <td>7090.640611</td>\n",
       "    </tr>\n",
       "    <tr>\n",
       "      <th>4</th>\n",
       "      <td>2021-11-10 17:00:00+01:00</td>\n",
       "      <td>9.507996</td>\n",
       "      <td>16.853290</td>\n",
       "      <td>42.75</td>\n",
       "      <td>18.464286</td>\n",
       "      <td>6475.053577</td>\n",
       "    </tr>\n",
       "  </tbody>\n",
       "</table>\n",
       "</div>"
      ],
      "text/plain": [
       "                  Timestamp  Fijnstofconcentratie PM2.5  \\\n",
       "0 2021-11-10 13:00:00+01:00                   10.038417   \n",
       "1 2021-11-10 14:00:00+01:00                    9.512948   \n",
       "2 2021-11-10 15:00:00+01:00                    9.257286   \n",
       "3 2021-11-10 16:00:00+01:00                    8.921606   \n",
       "4 2021-11-10 17:00:00+01:00                    9.507996   \n",
       "\n",
       "   Fijnstofconcentratie PM10  Aansturing Ventilator  Drukverschil Filter  \\\n",
       "0                  17.142726                  59.04            39.481481   \n",
       "1                  16.357076                  56.44            37.702128   \n",
       "2                  15.869389                  46.31            25.916667   \n",
       "3                  15.484973                  43.26            20.411765   \n",
       "4                  16.853290                  42.75            18.464286   \n",
       "\n",
       "    Totale Flow  \n",
       "0  13964.398244  \n",
       "1  13103.304840  \n",
       "2   8637.538231  \n",
       "3   7090.640611  \n",
       "4   6475.053577  "
      ]
     },
     "execution_count": 11,
     "metadata": {},
     "output_type": "execute_result"
    }
   ],
   "source": [
    "# Totale flow berekenen van sensoren die flow meten\n",
    "kenmerken_lijst = list(dataset_filter) \n",
    "niet_flow_kenmerken = ['Timestamp', 'Aansturing Ventilator', 'Drukverschil Filter', 'Fijnstofconcentratie PM2.5', 'Fijnstofconcentratie PM10']\n",
    "flow_kenmerken = [ele for ele in kenmerken_lijst if ele not in niet_flow_kenmerken]\n",
    "dataset_filter[\"Totale Flow\"] = dataset_filter[flow_kenmerken].sum(axis=1)\n",
    "dataset_filter.drop(flow_kenmerken, axis = 1, inplace=True)\n",
    "dataset_filter.head()"
   ]
  },
  {
   "cell_type": "code",
   "execution_count": 12,
   "id": "60d46052",
   "metadata": {},
   "outputs": [
    {
     "data": {
      "text/plain": [
       "0   140 days 01:00:00\n",
       "1   140 days 02:00:00\n",
       "2   140 days 03:00:00\n",
       "3   140 days 04:00:00\n",
       "4   140 days 05:00:00\n",
       "Name: Voltooide Levensduur, dtype: timedelta64[ns]"
      ]
     },
     "execution_count": 12,
     "metadata": {},
     "output_type": "execute_result"
    }
   ],
   "source": [
    "# Voltooide levensduur bepalen van een filter\n",
    "from datetime import datetime\n",
    "format_datetime = '%Y-%m-%dT%H:%M:%S'\n",
    "plaatsing_filter = verander_format_datum('2021-06-23T12:00:00+01:00', format_datetime)\n",
    "huidige_levensduur = verander_format_datum(dataset_filter['Timestamp'], format_datetime)\n",
    "dataset_filter[\"Voltooide Levensduur\"] = huidige_levensduur - plaatsing_filter\n",
    "dataset_filter[\"Voltooide Levensduur\"].head()"
   ]
  },
  {
   "cell_type": "code",
   "execution_count": 13,
   "id": "cb28fc3d",
   "metadata": {},
   "outputs": [],
   "source": [
    "# Functie om het aantal uren van een waarde met het type 'timedelta64' te bereken\n",
    "def deltatijd_uren(datum):\n",
    "    dagen = datum.dt.days\n",
    "    seconden = datum.dt.seconds\n",
    "    uren_totaal = (dagen*24) + (seconden/3600)\n",
    "    return uren_totaal"
   ]
  },
  {
   "cell_type": "code",
   "execution_count": 14,
   "id": "0f2d805c",
   "metadata": {
    "scrolled": true
   },
   "outputs": [
    {
     "data": {
      "text/html": [
       "<div>\n",
       "<style scoped>\n",
       "    .dataframe tbody tr th:only-of-type {\n",
       "        vertical-align: middle;\n",
       "    }\n",
       "\n",
       "    .dataframe tbody tr th {\n",
       "        vertical-align: top;\n",
       "    }\n",
       "\n",
       "    .dataframe thead th {\n",
       "        text-align: right;\n",
       "    }\n",
       "</style>\n",
       "<table border=\"1\" class=\"dataframe\">\n",
       "  <thead>\n",
       "    <tr style=\"text-align: right;\">\n",
       "      <th></th>\n",
       "      <th>Timestamp</th>\n",
       "      <th>Fijnstofconcentratie PM2.5</th>\n",
       "      <th>Fijnstofconcentratie PM10</th>\n",
       "      <th>Aansturing Ventilator</th>\n",
       "      <th>Drukverschil Filter</th>\n",
       "      <th>Totale Flow</th>\n",
       "      <th>Voltooide Levensduur</th>\n",
       "    </tr>\n",
       "  </thead>\n",
       "  <tbody>\n",
       "    <tr>\n",
       "      <th>0</th>\n",
       "      <td>2021-11-10 13:00:00+01:00</td>\n",
       "      <td>10.038417</td>\n",
       "      <td>17.142726</td>\n",
       "      <td>59.04</td>\n",
       "      <td>39.481481</td>\n",
       "      <td>13964.398244</td>\n",
       "      <td>3361.0</td>\n",
       "    </tr>\n",
       "    <tr>\n",
       "      <th>1</th>\n",
       "      <td>2021-11-10 14:00:00+01:00</td>\n",
       "      <td>9.512948</td>\n",
       "      <td>16.357076</td>\n",
       "      <td>56.44</td>\n",
       "      <td>37.702128</td>\n",
       "      <td>13103.304840</td>\n",
       "      <td>3362.0</td>\n",
       "    </tr>\n",
       "    <tr>\n",
       "      <th>2</th>\n",
       "      <td>2021-11-10 15:00:00+01:00</td>\n",
       "      <td>9.257286</td>\n",
       "      <td>15.869389</td>\n",
       "      <td>46.31</td>\n",
       "      <td>25.916667</td>\n",
       "      <td>8637.538231</td>\n",
       "      <td>3363.0</td>\n",
       "    </tr>\n",
       "    <tr>\n",
       "      <th>3</th>\n",
       "      <td>2021-11-10 16:00:00+01:00</td>\n",
       "      <td>8.921606</td>\n",
       "      <td>15.484973</td>\n",
       "      <td>43.26</td>\n",
       "      <td>20.411765</td>\n",
       "      <td>7090.640611</td>\n",
       "      <td>3364.0</td>\n",
       "    </tr>\n",
       "    <tr>\n",
       "      <th>4</th>\n",
       "      <td>2021-11-10 17:00:00+01:00</td>\n",
       "      <td>9.507996</td>\n",
       "      <td>16.853290</td>\n",
       "      <td>42.75</td>\n",
       "      <td>18.464286</td>\n",
       "      <td>6475.053577</td>\n",
       "      <td>3365.0</td>\n",
       "    </tr>\n",
       "  </tbody>\n",
       "</table>\n",
       "</div>"
      ],
      "text/plain": [
       "                  Timestamp  Fijnstofconcentratie PM2.5  \\\n",
       "0 2021-11-10 13:00:00+01:00                   10.038417   \n",
       "1 2021-11-10 14:00:00+01:00                    9.512948   \n",
       "2 2021-11-10 15:00:00+01:00                    9.257286   \n",
       "3 2021-11-10 16:00:00+01:00                    8.921606   \n",
       "4 2021-11-10 17:00:00+01:00                    9.507996   \n",
       "\n",
       "   Fijnstofconcentratie PM10  Aansturing Ventilator  Drukverschil Filter  \\\n",
       "0                  17.142726                  59.04            39.481481   \n",
       "1                  16.357076                  56.44            37.702128   \n",
       "2                  15.869389                  46.31            25.916667   \n",
       "3                  15.484973                  43.26            20.411765   \n",
       "4                  16.853290                  42.75            18.464286   \n",
       "\n",
       "    Totale Flow  Voltooide Levensduur  \n",
       "0  13964.398244                3361.0  \n",
       "1  13103.304840                3362.0  \n",
       "2   8637.538231                3363.0  \n",
       "3   7090.640611                3364.0  \n",
       "4   6475.053577                3365.0  "
      ]
     },
     "execution_count": 14,
     "metadata": {},
     "output_type": "execute_result"
    }
   ],
   "source": [
    "# Aantal voltooide uren berekenen van het filter\n",
    "dataset_filter['Voltooide Levensduur'] = deltatijd_uren(dataset_filter[\"Voltooide Levensduur\"])\n",
    "dataset_filter.head()"
   ]
  },
  {
   "cell_type": "markdown",
   "id": "93ab9300",
   "metadata": {},
   "source": [
    "**Toevoegen van waardes**"
   ]
  },
  {
   "cell_type": "markdown",
   "id": "f10ce7ce",
   "metadata": {},
   "source": [
    "In het verslag wordt aangegeven dat het filteroppervlak belangrijk is voor het stof dat een filter op kan nemen. Een groter oppervlak resulteert daarom in een langere levensduur.\n",
    "Ook de klasse heeft invloed op de levensduur van een filter. Dit kenmerk wordt ook meegenomen in de dataset.\n",
    "Uiteindelijk zal dit weinig invloed hebben op de uitkomst, omdat er maar één soort filter gemeten wordt. Het kan echter wel nuttig zijn als er later meerdere verschillende soorten filters gemeten gaan worden. Hierdoor zal de uitkomst aangepast worden op het oppervlak van de filter, als het model getraind is."
   ]
  },
  {
   "cell_type": "code",
   "execution_count": 15,
   "id": "89bd1984",
   "metadata": {},
   "outputs": [],
   "source": [
    "dataset_filter['Filteroppervlak'] = 59.78144\n",
    "dataset_filter['Klasse'] = 'F7'"
   ]
  },
  {
   "cell_type": "code",
   "execution_count": 16,
   "id": "f64de722",
   "metadata": {},
   "outputs": [
    {
     "data": {
      "text/html": [
       "<div>\n",
       "<style scoped>\n",
       "    .dataframe tbody tr th:only-of-type {\n",
       "        vertical-align: middle;\n",
       "    }\n",
       "\n",
       "    .dataframe tbody tr th {\n",
       "        vertical-align: top;\n",
       "    }\n",
       "\n",
       "    .dataframe thead th {\n",
       "        text-align: right;\n",
       "    }\n",
       "</style>\n",
       "<table border=\"1\" class=\"dataframe\">\n",
       "  <thead>\n",
       "    <tr style=\"text-align: right;\">\n",
       "      <th></th>\n",
       "      <th>Timestamp</th>\n",
       "      <th>Aansturing Ventilator</th>\n",
       "      <th>Drukverschil Filter</th>\n",
       "      <th>Fijnstofconcentratie PM10</th>\n",
       "      <th>Fijnstofconcentratie PM2.5</th>\n",
       "      <th>Filteroppervlak</th>\n",
       "      <th>Klasse</th>\n",
       "      <th>Totale Flow</th>\n",
       "      <th>Voltooide Levensduur</th>\n",
       "    </tr>\n",
       "  </thead>\n",
       "  <tbody>\n",
       "    <tr>\n",
       "      <th>0</th>\n",
       "      <td>2021-11-10 13:00:00+01:00</td>\n",
       "      <td>59.04</td>\n",
       "      <td>39.481481</td>\n",
       "      <td>17.142726</td>\n",
       "      <td>10.038417</td>\n",
       "      <td>59.78144</td>\n",
       "      <td>F7</td>\n",
       "      <td>13964.398244</td>\n",
       "      <td>3361.0</td>\n",
       "    </tr>\n",
       "    <tr>\n",
       "      <th>1</th>\n",
       "      <td>2021-11-10 14:00:00+01:00</td>\n",
       "      <td>56.44</td>\n",
       "      <td>37.702128</td>\n",
       "      <td>16.357076</td>\n",
       "      <td>9.512948</td>\n",
       "      <td>59.78144</td>\n",
       "      <td>F7</td>\n",
       "      <td>13103.304840</td>\n",
       "      <td>3362.0</td>\n",
       "    </tr>\n",
       "    <tr>\n",
       "      <th>2</th>\n",
       "      <td>2021-11-10 15:00:00+01:00</td>\n",
       "      <td>46.31</td>\n",
       "      <td>25.916667</td>\n",
       "      <td>15.869389</td>\n",
       "      <td>9.257286</td>\n",
       "      <td>59.78144</td>\n",
       "      <td>F7</td>\n",
       "      <td>8637.538231</td>\n",
       "      <td>3363.0</td>\n",
       "    </tr>\n",
       "    <tr>\n",
       "      <th>3</th>\n",
       "      <td>2021-11-10 16:00:00+01:00</td>\n",
       "      <td>43.26</td>\n",
       "      <td>20.411765</td>\n",
       "      <td>15.484973</td>\n",
       "      <td>8.921606</td>\n",
       "      <td>59.78144</td>\n",
       "      <td>F7</td>\n",
       "      <td>7090.640611</td>\n",
       "      <td>3364.0</td>\n",
       "    </tr>\n",
       "    <tr>\n",
       "      <th>4</th>\n",
       "      <td>2021-11-10 17:00:00+01:00</td>\n",
       "      <td>42.75</td>\n",
       "      <td>18.464286</td>\n",
       "      <td>16.853290</td>\n",
       "      <td>9.507996</td>\n",
       "      <td>59.78144</td>\n",
       "      <td>F7</td>\n",
       "      <td>6475.053577</td>\n",
       "      <td>3365.0</td>\n",
       "    </tr>\n",
       "  </tbody>\n",
       "</table>\n",
       "</div>"
      ],
      "text/plain": [
       "                  Timestamp  Aansturing Ventilator  Drukverschil Filter  \\\n",
       "0 2021-11-10 13:00:00+01:00                  59.04            39.481481   \n",
       "1 2021-11-10 14:00:00+01:00                  56.44            37.702128   \n",
       "2 2021-11-10 15:00:00+01:00                  46.31            25.916667   \n",
       "3 2021-11-10 16:00:00+01:00                  43.26            20.411765   \n",
       "4 2021-11-10 17:00:00+01:00                  42.75            18.464286   \n",
       "\n",
       "   Fijnstofconcentratie PM10  Fijnstofconcentratie PM2.5  Filteroppervlak  \\\n",
       "0                  17.142726                   10.038417         59.78144   \n",
       "1                  16.357076                    9.512948         59.78144   \n",
       "2                  15.869389                    9.257286         59.78144   \n",
       "3                  15.484973                    8.921606         59.78144   \n",
       "4                  16.853290                    9.507996         59.78144   \n",
       "\n",
       "  Klasse   Totale Flow  Voltooide Levensduur  \n",
       "0     F7  13964.398244                3361.0  \n",
       "1     F7  13103.304840                3362.0  \n",
       "2     F7   8637.538231                3363.0  \n",
       "3     F7   7090.640611                3364.0  \n",
       "4     F7   6475.053577                3365.0  "
      ]
     },
     "execution_count": 16,
     "metadata": {},
     "output_type": "execute_result"
    }
   ],
   "source": [
    "# Rangschik kolommen in alfabetische volgorde\n",
    "dataset_filter = dataset_filter.reindex(sorted(dataset_filter.columns), axis=1)\n",
    "eerste_kolom = dataset_filter.pop('Timestamp')\n",
    "dataset_filter.insert(0, 'Timestamp', eerste_kolom)\n",
    "dataset_filter.head()"
   ]
  },
  {
   "cell_type": "markdown",
   "id": "b1d885da",
   "metadata": {},
   "source": [
    "# 2 Data-inzicht"
   ]
  },
  {
   "cell_type": "markdown",
   "id": "3db1a504",
   "metadata": {},
   "source": [
    "Het verkrijgen van inzichten in de geïmporteerde data is de tweede stap van het CRISP-DM model. Het doel van deze stap is het maken en bevestigen van aannames die de ontwerper gesteld heeft. Het zal bestaan uit het creëren van specificaties over en visualiseren van de data. "
   ]
  },
  {
   "cell_type": "code",
   "execution_count": 17,
   "id": "960c1da2",
   "metadata": {},
   "outputs": [
    {
     "name": "stdout",
     "output_type": "stream",
     "text": [
      "<class 'pandas.core.frame.DataFrame'>\n",
      "RangeIndex: 698 entries, 0 to 697\n",
      "Data columns (total 9 columns):\n",
      " #   Column                      Non-Null Count  Dtype                               \n",
      "---  ------                      --------------  -----                               \n",
      " 0   Timestamp                   698 non-null    datetime64[ns, pytz.FixedOffset(60)]\n",
      " 1   Aansturing Ventilator       698 non-null    float64                             \n",
      " 2   Drukverschil Filter         698 non-null    float64                             \n",
      " 3   Fijnstofconcentratie PM10   698 non-null    float64                             \n",
      " 4   Fijnstofconcentratie PM2.5  698 non-null    float64                             \n",
      " 5   Filteroppervlak             698 non-null    float64                             \n",
      " 6   Klasse                      698 non-null    object                              \n",
      " 7   Totale Flow                 698 non-null    float64                             \n",
      " 8   Voltooide Levensduur        698 non-null    float64                             \n",
      "dtypes: datetime64[ns, pytz.FixedOffset(60)](1), float64(7), object(1)\n",
      "memory usage: 49.2+ KB\n"
     ]
    }
   ],
   "source": [
    "dataset_filter.info()"
   ]
  },
  {
   "cell_type": "code",
   "execution_count": 18,
   "id": "27af7e21",
   "metadata": {
    "scrolled": true
   },
   "outputs": [
    {
     "data": {
      "text/html": [
       "<div>\n",
       "<style scoped>\n",
       "    .dataframe tbody tr th:only-of-type {\n",
       "        vertical-align: middle;\n",
       "    }\n",
       "\n",
       "    .dataframe tbody tr th {\n",
       "        vertical-align: top;\n",
       "    }\n",
       "\n",
       "    .dataframe thead th {\n",
       "        text-align: right;\n",
       "    }\n",
       "</style>\n",
       "<table border=\"1\" class=\"dataframe\">\n",
       "  <thead>\n",
       "    <tr style=\"text-align: right;\">\n",
       "      <th></th>\n",
       "      <th>Aansturing Ventilator</th>\n",
       "      <th>Drukverschil Filter</th>\n",
       "      <th>Fijnstofconcentratie PM10</th>\n",
       "      <th>Fijnstofconcentratie PM2.5</th>\n",
       "      <th>Filteroppervlak</th>\n",
       "      <th>Totale Flow</th>\n",
       "      <th>Voltooide Levensduur</th>\n",
       "    </tr>\n",
       "  </thead>\n",
       "  <tbody>\n",
       "    <tr>\n",
       "      <th>count</th>\n",
       "      <td>698.000000</td>\n",
       "      <td>698.000000</td>\n",
       "      <td>698.000000</td>\n",
       "      <td>698.000000</td>\n",
       "      <td>6.980000e+02</td>\n",
       "      <td>698.000000</td>\n",
       "      <td>698.00000</td>\n",
       "    </tr>\n",
       "    <tr>\n",
       "      <th>mean</th>\n",
       "      <td>35.290989</td>\n",
       "      <td>21.046326</td>\n",
       "      <td>19.014672</td>\n",
       "      <td>11.156242</td>\n",
       "      <td>5.978144e+01</td>\n",
       "      <td>7384.886909</td>\n",
       "      <td>3709.50000</td>\n",
       "    </tr>\n",
       "    <tr>\n",
       "      <th>std</th>\n",
       "      <td>29.415669</td>\n",
       "      <td>20.709369</td>\n",
       "      <td>9.617828</td>\n",
       "      <td>7.575856</td>\n",
       "      <td>2.133157e-14</td>\n",
       "      <td>7318.456493</td>\n",
       "      <td>201.63953</td>\n",
       "    </tr>\n",
       "    <tr>\n",
       "      <th>min</th>\n",
       "      <td>0.000000</td>\n",
       "      <td>1.000000</td>\n",
       "      <td>4.310345</td>\n",
       "      <td>2.271875</td>\n",
       "      <td>5.978144e+01</td>\n",
       "      <td>362.407862</td>\n",
       "      <td>3361.00000</td>\n",
       "    </tr>\n",
       "    <tr>\n",
       "      <th>25%</th>\n",
       "      <td>0.000000</td>\n",
       "      <td>1.500000</td>\n",
       "      <td>12.189023</td>\n",
       "      <td>5.437288</td>\n",
       "      <td>5.978144e+01</td>\n",
       "      <td>366.952534</td>\n",
       "      <td>3535.25000</td>\n",
       "    </tr>\n",
       "    <tr>\n",
       "      <th>50%</th>\n",
       "      <td>47.500000</td>\n",
       "      <td>21.864937</td>\n",
       "      <td>18.035045</td>\n",
       "      <td>9.681992</td>\n",
       "      <td>5.978144e+01</td>\n",
       "      <td>7404.088242</td>\n",
       "      <td>3709.50000</td>\n",
       "    </tr>\n",
       "    <tr>\n",
       "      <th>75%</th>\n",
       "      <td>52.435000</td>\n",
       "      <td>29.452391</td>\n",
       "      <td>24.968425</td>\n",
       "      <td>14.042083</td>\n",
       "      <td>5.978144e+01</td>\n",
       "      <td>11122.652094</td>\n",
       "      <td>3883.75000</td>\n",
       "    </tr>\n",
       "    <tr>\n",
       "      <th>max</th>\n",
       "      <td>89.570000</td>\n",
       "      <td>81.491525</td>\n",
       "      <td>45.344828</td>\n",
       "      <td>35.380000</td>\n",
       "      <td>5.978144e+01</td>\n",
       "      <td>24976.102971</td>\n",
       "      <td>4058.00000</td>\n",
       "    </tr>\n",
       "  </tbody>\n",
       "</table>\n",
       "</div>"
      ],
      "text/plain": [
       "       Aansturing Ventilator  Drukverschil Filter  Fijnstofconcentratie PM10  \\\n",
       "count             698.000000           698.000000                 698.000000   \n",
       "mean               35.290989            21.046326                  19.014672   \n",
       "std                29.415669            20.709369                   9.617828   \n",
       "min                 0.000000             1.000000                   4.310345   \n",
       "25%                 0.000000             1.500000                  12.189023   \n",
       "50%                47.500000            21.864937                  18.035045   \n",
       "75%                52.435000            29.452391                  24.968425   \n",
       "max                89.570000            81.491525                  45.344828   \n",
       "\n",
       "       Fijnstofconcentratie PM2.5  Filteroppervlak   Totale Flow  \\\n",
       "count                  698.000000     6.980000e+02    698.000000   \n",
       "mean                    11.156242     5.978144e+01   7384.886909   \n",
       "std                      7.575856     2.133157e-14   7318.456493   \n",
       "min                      2.271875     5.978144e+01    362.407862   \n",
       "25%                      5.437288     5.978144e+01    366.952534   \n",
       "50%                      9.681992     5.978144e+01   7404.088242   \n",
       "75%                     14.042083     5.978144e+01  11122.652094   \n",
       "max                     35.380000     5.978144e+01  24976.102971   \n",
       "\n",
       "       Voltooide Levensduur  \n",
       "count             698.00000  \n",
       "mean             3709.50000  \n",
       "std               201.63953  \n",
       "min              3361.00000  \n",
       "25%              3535.25000  \n",
       "50%              3709.50000  \n",
       "75%              3883.75000  \n",
       "max              4058.00000  "
      ]
     },
     "execution_count": 18,
     "metadata": {},
     "output_type": "execute_result"
    }
   ],
   "source": [
    "dataset_filter.describe()"
   ]
  },
  {
   "cell_type": "code",
   "execution_count": 19,
   "id": "beebfeb2",
   "metadata": {},
   "outputs": [
    {
     "data": {
      "text/plain": [
       "Index                          128\n",
       "Timestamp                     5584\n",
       "Aansturing Ventilator         5584\n",
       "Drukverschil Filter           5584\n",
       "Fijnstofconcentratie PM10     5584\n",
       "Fijnstofconcentratie PM2.5    5584\n",
       "Filteroppervlak               5584\n",
       "Klasse                        5584\n",
       "Totale Flow                   5584\n",
       "Voltooide Levensduur          5584\n",
       "dtype: int64"
      ]
     },
     "execution_count": 19,
     "metadata": {},
     "output_type": "execute_result"
    }
   ],
   "source": [
    "dataset_filter.memory_usage()"
   ]
  },
  {
   "cell_type": "code",
   "execution_count": 20,
   "id": "995da269",
   "metadata": {
    "scrolled": true
   },
   "outputs": [
    {
     "data": {
      "text/plain": [
       "F7    698\n",
       "Name: Klasse, dtype: int64"
      ]
     },
     "execution_count": 20,
     "metadata": {},
     "output_type": "execute_result"
    }
   ],
   "source": [
    "dataset_filter[\"Klasse\"].value_counts()"
   ]
  },
  {
   "cell_type": "code",
   "execution_count": 21,
   "id": "a4cf921f",
   "metadata": {
    "scrolled": true
   },
   "outputs": [
    {
     "name": "stdout",
     "output_type": "stream",
     "text": [
      "Saving figure datapunten_histogrammen\n"
     ]
    },
    {
     "data": {
      "image/png": "[encoded data removed]",
      "text/plain": [
       "<Figure size 1440x1080 with 9 Axes>"
      ]
     },
     "metadata": {
      "needs_background": "light"
     },
     "output_type": "display_data"
    }
   ],
   "source": [
    "%matplotlib inline\n",
    "import matplotlib.pyplot as plt\n",
    "dataset_filter.hist(bins=50, figsize=(20,15))\n",
    "save_fig(\"datapunten_histogrammen\")\n",
    "plt.show()"
   ]
  },
  {
   "cell_type": "markdown",
   "id": "d0b03257",
   "metadata": {},
   "source": [
    "# 3 Data voorbereiden"
   ]
  },
  {
   "cell_type": "markdown",
   "id": "3196bf45",
   "metadata": {},
   "source": [
    "Het voorbereiden van de dataset is misschien wel de meest belangrijke stap in een Machine Learning project. Als deze stap goed uitgevoerd wordt, kost het erg veel tijd.\n",
    "De output van deze stap bestaat uit een voorbereide dataset, deze zal gebruikt worden voor de fase waarin het model getraind wordt."
   ]
  },
  {
   "cell_type": "markdown",
   "id": "597982a9",
   "metadata": {},
   "source": [
    "**3.1 Data selecteren**"
   ]
  },
  {
   "cell_type": "markdown",
   "id": "44a3da40",
   "metadata": {},
   "source": [
    "Het selecteren van data begint voordat er begonnen word met het ontwerpen van een Machine Learning model. Met behulp van experts wordt een selectie bepaald. Het is belangrijk dat deze selectie gevalideerd wordt. Hieronder worden functies geschreven om de relevantie van kenmerken, tot de gewenste voorspelling, bloot te leggen. Het is mogelijk dat er kenmerken verwijderd worden na deze analyse.\n",
    "\n",
    "Verder is het essentieel om de datasets te verdelen in verschillende subsets; een test en train set. De testset zal gebruikt worden om de validiteit van het model te testen. Dit model is op zijn beurt getraind met de trainset.\n",
    "\n",
    " "
   ]
  },
  {
   "cell_type": "code",
   "execution_count": 22,
   "id": "fa264883",
   "metadata": {},
   "outputs": [
    {
     "data": {
      "text/plain": [
       "Drukverschil Filter           1.000000\n",
       "Totale Flow                   0.984587\n",
       "Aansturing Ventilator         0.837866\n",
       "Voltooide Levensduur          0.118718\n",
       "Fijnstofconcentratie PM2.5   -0.066346\n",
       "Fijnstofconcentratie PM10    -0.114128\n",
       "Filteroppervlak                    NaN\n",
       "Name: Drukverschil Filter, dtype: float64"
      ]
     },
     "execution_count": 22,
     "metadata": {},
     "output_type": "execute_result"
    }
   ],
   "source": [
    "# Correlatie van kenmerken ten opzichte van het label (= kenmerk wat uiteindelijk voorspeld zal worden)\n",
    "dataset_filter_corr = dataset_filter.corr()\n",
    "dataset_filter_corr[\"Drukverschil Filter\"].sort_values(ascending=False)"
   ]
  },
  {
   "cell_type": "code",
   "execution_count": 23,
   "id": "555a86ae",
   "metadata": {
    "scrolled": true
   },
   "outputs": [
    {
     "name": "stdout",
     "output_type": "stream",
     "text": [
      "Saving figure scatter_matrix\n"
     ]
    },
    {
     "data": {
      "image/png": "[encoded data removed]",
      "text/plain": [
       "<Figure size 864x576 with 16 Axes>"
      ]
     },
     "metadata": {
      "needs_background": "light"
     },
     "output_type": "display_data"
    }
   ],
   "source": [
    "# Scatter matrices plotten om correlatie tussen waardes te herleiden\n",
    "from pandas.plotting import scatter_matrix\n",
    "\n",
    "kenmerken = [\"Aansturing Ventilator\", \"Drukverschil Filter\", \"Totale Flow\",\n",
    "              \"Fijnstofconcentratie PM10\"]\n",
    "scatter_matrix(dataset_filter[kenmerken], figsize=(12, 8))\n",
    "save_fig(\"scatter_matrix\")"
   ]
  },
  {
   "cell_type": "code",
   "execution_count": 24,
   "id": "9160e47e",
   "metadata": {
    "scrolled": true
   },
   "outputs": [
    {
     "name": "stdout",
     "output_type": "stream",
     "text": [
      "Saving figure flow_uitgezet_tegen_drukverschil_scattermatrix\n"
     ]
    },
    {
     "data": {
      "image/png": "[encoded data removed]",
      "text/plain": [
       "<Figure size 432x288 with 1 Axes>"
      ]
     },
     "metadata": {
      "needs_background": "light"
     },
     "output_type": "display_data"
    }
   ],
   "source": [
    "# Scatter matrix waar totale flow uitgezet is tegen het drukverschil\n",
    "dataset_filter.plot(kind=\"scatter\", x=\"Totale Flow\", y=\"Drukverschil Filter\",\n",
    "             alpha=0.1)\n",
    "plt.axis([0, 25000, 0, 100])\n",
    "save_fig(\"flow_uitgezet_tegen_drukverschil_scattermatrix\")"
   ]
  },
  {
   "cell_type": "code",
   "execution_count": 25,
   "id": "854fb5f8",
   "metadata": {
    "scrolled": true
   },
   "outputs": [
    {
     "name": "stdout",
     "output_type": "stream",
     "text": [
      "Saving figure aansturing_uitgezet_tegen_drukverschil_scattermatrix\n"
     ]
    },
    {
     "data": {
      "image/png": "[encoded data removed]",
      "text/plain": [
       "<Figure size 432x288 with 1 Axes>"
      ]
     },
     "metadata": {
      "needs_background": "light"
     },
     "output_type": "display_data"
    }
   ],
   "source": [
    "dataset_filter.plot(kind=\"scatter\", x=\"Aansturing Ventilator\", y=\"Drukverschil Filter\",\n",
    "             alpha=0.1)\n",
    "plt.axis([0, 100, 0, 100])\n",
    "save_fig(\"aansturing_uitgezet_tegen_drukverschil_scattermatrix\")"
   ]
  },
  {
   "cell_type": "code",
   "execution_count": 26,
   "id": "788120a2",
   "metadata": {},
   "outputs": [],
   "source": [
    "# Deze functie zorgt er voor dat de output telkens hetzelfde is\n",
    "np.random.seed(42)"
   ]
  },
  {
   "cell_type": "code",
   "execution_count": 27,
   "id": "66e9b7b7",
   "metadata": {},
   "outputs": [],
   "source": [
    "from zlib import crc32\n",
    "\n",
    "# Functies om er voor te zorgen dat de test_set telkens hetzelfde is\n",
    "# Dit is niet het geval omdat er een randomizer zit in train_test_split\n",
    "def test_set_check(identifier, test_ratio):\n",
    "    return crc32(np.int64(identifier)) & 0xffffffff < test_ratio * 2**32\n",
    "\n",
    "def split_train_test_by_index(data, test_ratio, id_column):\n",
    "    ids = data[id_column]\n",
    "    in_test_set = ids.apply(lambda id_: test_set_check(id_, test_ratio))\n",
    "    return data.loc[~in_test_set], data.loc[in_test_set]"
   ]
  },
  {
   "cell_type": "code",
   "execution_count": 28,
   "id": "68ab8350",
   "metadata": {},
   "outputs": [],
   "source": [
    "# De dataset heeft, voor het checken van de test set, een index nodig\n",
    "dataset_index = dataset_filter.reset_index()   # Voeg index kolom toe\n",
    "train_set_filters, test_set_filters = split_train_test_by_index(dataset_index, 0.2, \"index\")"
   ]
  },
  {
   "cell_type": "code",
   "execution_count": 29,
   "id": "d2f2e867",
   "metadata": {},
   "outputs": [],
   "source": [
    "# Voor elke rij moet een uniek ID aangemaakt worden, zodat nieuwe data onderaan de dataset komt\n",
    "# De datapunten \"Voltooide levensduur\" en \"Drukverschil filter\" zijn uniek\n",
    "dataset_index[\"ID\"] = dataset_filter[\"Voltooide Levensduur\"] * 1000 + dataset_filter[\"Drukverschil Filter\"]\n",
    "train_set_filters, test_set_filters = split_train_test_by_index(dataset_index, 0.2, \"ID\")"
   ]
  },
  {
   "cell_type": "code",
   "execution_count": 30,
   "id": "2709fe7f",
   "metadata": {},
   "outputs": [
    {
     "data": {
      "text/plain": [
       "558"
      ]
     },
     "execution_count": 30,
     "metadata": {},
     "output_type": "execute_result"
    }
   ],
   "source": [
    "from sklearn.model_selection import train_test_split\n",
    "# Dataset splitsen in een training en test set\n",
    "train_set_filters, test_set_filters = train_test_split(dataset_filter, test_size=0.2, random_state=42)\n",
    "# Tellen van aantal datapunten in train set\n",
    "len(train_set_filters)"
   ]
  },
  {
   "cell_type": "code",
   "execution_count": 31,
   "id": "2b2a3d02",
   "metadata": {},
   "outputs": [
    {
     "data": {
      "text/plain": [
       "140"
      ]
     },
     "execution_count": 31,
     "metadata": {},
     "output_type": "execute_result"
    }
   ],
   "source": [
    "# Tellen van aantal datapunten in test set\n",
    "len(test_set_filters)"
   ]
  },
  {
   "cell_type": "code",
   "execution_count": 32,
   "id": "93f13a43",
   "metadata": {
    "scrolled": false
   },
   "outputs": [
    {
     "data": {
      "text/html": [
       "<div>\n",
       "<style scoped>\n",
       "    .dataframe tbody tr th:only-of-type {\n",
       "        vertical-align: middle;\n",
       "    }\n",
       "\n",
       "    .dataframe tbody tr th {\n",
       "        vertical-align: top;\n",
       "    }\n",
       "\n",
       "    .dataframe thead th {\n",
       "        text-align: right;\n",
       "    }\n",
       "</style>\n",
       "<table border=\"1\" class=\"dataframe\">\n",
       "  <thead>\n",
       "    <tr style=\"text-align: right;\">\n",
       "      <th></th>\n",
       "      <th>Timestamp</th>\n",
       "      <th>Aansturing Ventilator</th>\n",
       "      <th>Drukverschil Filter</th>\n",
       "      <th>Fijnstofconcentratie PM10</th>\n",
       "      <th>Fijnstofconcentratie PM2.5</th>\n",
       "      <th>Filteroppervlak</th>\n",
       "      <th>Klasse</th>\n",
       "      <th>Totale Flow</th>\n",
       "      <th>Voltooide Levensduur</th>\n",
       "    </tr>\n",
       "  </thead>\n",
       "  <tbody>\n",
       "    <tr>\n",
       "      <th>82</th>\n",
       "      <td>2021-11-13 23:00:00+01:00</td>\n",
       "      <td>0.00</td>\n",
       "      <td>1.500000</td>\n",
       "      <td>21.368184</td>\n",
       "      <td>12.330993</td>\n",
       "      <td>59.78144</td>\n",
       "      <td>F7</td>\n",
       "      <td>366.486280</td>\n",
       "      <td>3443.0</td>\n",
       "    </tr>\n",
       "    <tr>\n",
       "      <th>51</th>\n",
       "      <td>2021-11-12 16:00:00+01:00</td>\n",
       "      <td>46.25</td>\n",
       "      <td>22.960784</td>\n",
       "      <td>15.143567</td>\n",
       "      <td>8.752501</td>\n",
       "      <td>59.78144</td>\n",
       "      <td>F7</td>\n",
       "      <td>8504.258631</td>\n",
       "      <td>3412.0</td>\n",
       "    </tr>\n",
       "    <tr>\n",
       "      <th>220</th>\n",
       "      <td>2021-11-19 17:00:00+01:00</td>\n",
       "      <td>43.36</td>\n",
       "      <td>21.923077</td>\n",
       "      <td>9.068966</td>\n",
       "      <td>3.753448</td>\n",
       "      <td>59.78144</td>\n",
       "      <td>F7</td>\n",
       "      <td>6644.009582</td>\n",
       "      <td>3581.0</td>\n",
       "    </tr>\n",
       "    <tr>\n",
       "      <th>559</th>\n",
       "      <td>2021-12-03 20:00:00+01:00</td>\n",
       "      <td>0.00</td>\n",
       "      <td>1.333333</td>\n",
       "      <td>13.762712</td>\n",
       "      <td>6.142373</td>\n",
       "      <td>59.78144</td>\n",
       "      <td>F7</td>\n",
       "      <td>366.635877</td>\n",
       "      <td>3920.0</td>\n",
       "    </tr>\n",
       "    <tr>\n",
       "      <th>544</th>\n",
       "      <td>2021-12-03 05:00:00+01:00</td>\n",
       "      <td>51.19</td>\n",
       "      <td>27.638298</td>\n",
       "      <td>31.810345</td>\n",
       "      <td>21.425000</td>\n",
       "      <td>59.78144</td>\n",
       "      <td>F7</td>\n",
       "      <td>11016.680684</td>\n",
       "      <td>3905.0</td>\n",
       "    </tr>\n",
       "  </tbody>\n",
       "</table>\n",
       "</div>"
      ],
      "text/plain": [
       "                    Timestamp  Aansturing Ventilator  Drukverschil Filter  \\\n",
       "82  2021-11-13 23:00:00+01:00                   0.00             1.500000   \n",
       "51  2021-11-12 16:00:00+01:00                  46.25            22.960784   \n",
       "220 2021-11-19 17:00:00+01:00                  43.36            21.923077   \n",
       "559 2021-12-03 20:00:00+01:00                   0.00             1.333333   \n",
       "544 2021-12-03 05:00:00+01:00                  51.19            27.638298   \n",
       "\n",
       "     Fijnstofconcentratie PM10  Fijnstofconcentratie PM2.5  Filteroppervlak  \\\n",
       "82                   21.368184                   12.330993         59.78144   \n",
       "51                   15.143567                    8.752501         59.78144   \n",
       "220                   9.068966                    3.753448         59.78144   \n",
       "559                  13.762712                    6.142373         59.78144   \n",
       "544                  31.810345                   21.425000         59.78144   \n",
       "\n",
       "    Klasse   Totale Flow  Voltooide Levensduur  \n",
       "82      F7    366.486280                3443.0  \n",
       "51      F7   8504.258631                3412.0  \n",
       "220     F7   6644.009582                3581.0  \n",
       "559     F7    366.635877                3920.0  \n",
       "544     F7  11016.680684                3905.0  "
      ]
     },
     "execution_count": 32,
     "metadata": {},
     "output_type": "execute_result"
    }
   ],
   "source": [
    "train_set_filters.head()"
   ]
  },
  {
   "cell_type": "code",
   "execution_count": 33,
   "id": "2fc0077a",
   "metadata": {},
   "outputs": [
    {
     "data": {
      "text/html": [
       "<div>\n",
       "<style scoped>\n",
       "    .dataframe tbody tr th:only-of-type {\n",
       "        vertical-align: middle;\n",
       "    }\n",
       "\n",
       "    .dataframe tbody tr th {\n",
       "        vertical-align: top;\n",
       "    }\n",
       "\n",
       "    .dataframe thead th {\n",
       "        text-align: right;\n",
       "    }\n",
       "</style>\n",
       "<table border=\"1\" class=\"dataframe\">\n",
       "  <thead>\n",
       "    <tr style=\"text-align: right;\">\n",
       "      <th></th>\n",
       "      <th>Timestamp</th>\n",
       "      <th>Aansturing Ventilator</th>\n",
       "      <th>Drukverschil Filter</th>\n",
       "      <th>Fijnstofconcentratie PM10</th>\n",
       "      <th>Fijnstofconcentratie PM2.5</th>\n",
       "      <th>Filteroppervlak</th>\n",
       "      <th>Klasse</th>\n",
       "      <th>Totale Flow</th>\n",
       "      <th>Voltooide Levensduur</th>\n",
       "    </tr>\n",
       "  </thead>\n",
       "  <tbody>\n",
       "    <tr>\n",
       "      <th>158</th>\n",
       "      <td>2021-11-17 03:00:00+01:00</td>\n",
       "      <td>25.00</td>\n",
       "      <td>1.333333</td>\n",
       "      <td>15.987735</td>\n",
       "      <td>8.733049</td>\n",
       "      <td>59.78144</td>\n",
       "      <td>F7</td>\n",
       "      <td>367.678966</td>\n",
       "      <td>3519.0</td>\n",
       "    </tr>\n",
       "    <tr>\n",
       "      <th>499</th>\n",
       "      <td>2021-12-01 08:00:00+01:00</td>\n",
       "      <td>58.13</td>\n",
       "      <td>35.775862</td>\n",
       "      <td>4.659091</td>\n",
       "      <td>2.319355</td>\n",
       "      <td>59.78144</td>\n",
       "      <td>F7</td>\n",
       "      <td>12371.537288</td>\n",
       "      <td>3860.0</td>\n",
       "    </tr>\n",
       "    <tr>\n",
       "      <th>396</th>\n",
       "      <td>2021-11-27 01:00:00+01:00</td>\n",
       "      <td>24.50</td>\n",
       "      <td>1.333333</td>\n",
       "      <td>5.295455</td>\n",
       "      <td>2.459375</td>\n",
       "      <td>59.78144</td>\n",
       "      <td>F7</td>\n",
       "      <td>366.786896</td>\n",
       "      <td>3757.0</td>\n",
       "    </tr>\n",
       "    <tr>\n",
       "      <th>155</th>\n",
       "      <td>2021-11-17 00:00:00+01:00</td>\n",
       "      <td>25.00</td>\n",
       "      <td>1.333333</td>\n",
       "      <td>17.381660</td>\n",
       "      <td>9.017705</td>\n",
       "      <td>59.78144</td>\n",
       "      <td>F7</td>\n",
       "      <td>362.407862</td>\n",
       "      <td>3516.0</td>\n",
       "    </tr>\n",
       "    <tr>\n",
       "      <th>321</th>\n",
       "      <td>2021-11-23 22:00:00+01:00</td>\n",
       "      <td>0.00</td>\n",
       "      <td>6.000000</td>\n",
       "      <td>40.320755</td>\n",
       "      <td>30.331667</td>\n",
       "      <td>59.78144</td>\n",
       "      <td>F7</td>\n",
       "      <td>364.152626</td>\n",
       "      <td>3682.0</td>\n",
       "    </tr>\n",
       "  </tbody>\n",
       "</table>\n",
       "</div>"
      ],
      "text/plain": [
       "                    Timestamp  Aansturing Ventilator  Drukverschil Filter  \\\n",
       "158 2021-11-17 03:00:00+01:00                  25.00             1.333333   \n",
       "499 2021-12-01 08:00:00+01:00                  58.13            35.775862   \n",
       "396 2021-11-27 01:00:00+01:00                  24.50             1.333333   \n",
       "155 2021-11-17 00:00:00+01:00                  25.00             1.333333   \n",
       "321 2021-11-23 22:00:00+01:00                   0.00             6.000000   \n",
       "\n",
       "     Fijnstofconcentratie PM10  Fijnstofconcentratie PM2.5  Filteroppervlak  \\\n",
       "158                  15.987735                    8.733049         59.78144   \n",
       "499                   4.659091                    2.319355         59.78144   \n",
       "396                   5.295455                    2.459375         59.78144   \n",
       "155                  17.381660                    9.017705         59.78144   \n",
       "321                  40.320755                   30.331667         59.78144   \n",
       "\n",
       "    Klasse   Totale Flow  Voltooide Levensduur  \n",
       "158     F7    367.678966                3519.0  \n",
       "499     F7  12371.537288                3860.0  \n",
       "396     F7    366.786896                3757.0  \n",
       "155     F7    362.407862                3516.0  \n",
       "321     F7    364.152626                3682.0  "
      ]
     },
     "execution_count": 33,
     "metadata": {},
     "output_type": "execute_result"
    }
   ],
   "source": [
    "test_set_filters.head()"
   ]
  },
  {
   "cell_type": "code",
   "execution_count": 34,
   "id": "7a1327b0",
   "metadata": {},
   "outputs": [
    {
     "data": {
      "text/plain": [
       "<AxesSubplot:>"
      ]
     },
     "execution_count": 34,
     "metadata": {},
     "output_type": "execute_result"
    },
    {
     "data": {
      "image/png": "[encoded data removed]",
      "text/plain": [
       "<Figure size 432x288 with 1 Axes>"
      ]
     },
     "metadata": {
      "needs_background": "light"
     },
     "output_type": "display_data"
    }
   ],
   "source": [
    "dataset_filter[\"Totale Flow\"].hist()"
   ]
  },
  {
   "cell_type": "markdown",
   "id": "e2a92d1c",
   "metadata": {},
   "source": [
    "De functies en grafieken wijzen uit dat 'Totale flow' de hoogste correlatie heeft tot de gewenste voorspelling. Zoals in het verslag staat beschreven, moeten de test- en trainset de werkelijke data vertegenwoordigen. Dit betekent dat de verhouding van de kenmerken in de train- en testset gelijk moeten zijn aan die in de dataset. Om dit te vergelijken, wordt 'Totale flow' verdeeld in 5 categoriën."
   ]
  },
  {
   "cell_type": "code",
   "execution_count": 35,
   "id": "8dd7c57c",
   "metadata": {
    "scrolled": false
   },
   "outputs": [
    {
     "data": {
      "text/html": [
       "<div>\n",
       "<style scoped>\n",
       "    .dataframe tbody tr th:only-of-type {\n",
       "        vertical-align: middle;\n",
       "    }\n",
       "\n",
       "    .dataframe tbody tr th {\n",
       "        vertical-align: top;\n",
       "    }\n",
       "\n",
       "    .dataframe thead th {\n",
       "        text-align: right;\n",
       "    }\n",
       "</style>\n",
       "<table border=\"1\" class=\"dataframe\">\n",
       "  <thead>\n",
       "    <tr style=\"text-align: right;\">\n",
       "      <th></th>\n",
       "      <th>Timestamp</th>\n",
       "      <th>Aansturing Ventilator</th>\n",
       "      <th>Drukverschil Filter</th>\n",
       "      <th>Fijnstofconcentratie PM10</th>\n",
       "      <th>Fijnstofconcentratie PM2.5</th>\n",
       "      <th>Filteroppervlak</th>\n",
       "      <th>Klasse</th>\n",
       "      <th>Totale Flow</th>\n",
       "      <th>Voltooide Levensduur</th>\n",
       "      <th>Totale Flow Categorie</th>\n",
       "    </tr>\n",
       "  </thead>\n",
       "  <tbody>\n",
       "    <tr>\n",
       "      <th>0</th>\n",
       "      <td>2021-11-10 13:00:00+01:00</td>\n",
       "      <td>59.04</td>\n",
       "      <td>39.481481</td>\n",
       "      <td>17.142726</td>\n",
       "      <td>10.038417</td>\n",
       "      <td>59.78144</td>\n",
       "      <td>F7</td>\n",
       "      <td>13964.398244</td>\n",
       "      <td>3361.0</td>\n",
       "      <td>3</td>\n",
       "    </tr>\n",
       "    <tr>\n",
       "      <th>1</th>\n",
       "      <td>2021-11-10 14:00:00+01:00</td>\n",
       "      <td>56.44</td>\n",
       "      <td>37.702128</td>\n",
       "      <td>16.357076</td>\n",
       "      <td>9.512948</td>\n",
       "      <td>59.78144</td>\n",
       "      <td>F7</td>\n",
       "      <td>13103.304840</td>\n",
       "      <td>3362.0</td>\n",
       "      <td>3</td>\n",
       "    </tr>\n",
       "    <tr>\n",
       "      <th>2</th>\n",
       "      <td>2021-11-10 15:00:00+01:00</td>\n",
       "      <td>46.31</td>\n",
       "      <td>25.916667</td>\n",
       "      <td>15.869389</td>\n",
       "      <td>9.257286</td>\n",
       "      <td>59.78144</td>\n",
       "      <td>F7</td>\n",
       "      <td>8637.538231</td>\n",
       "      <td>3363.0</td>\n",
       "      <td>2</td>\n",
       "    </tr>\n",
       "    <tr>\n",
       "      <th>3</th>\n",
       "      <td>2021-11-10 16:00:00+01:00</td>\n",
       "      <td>43.26</td>\n",
       "      <td>20.411765</td>\n",
       "      <td>15.484973</td>\n",
       "      <td>8.921606</td>\n",
       "      <td>59.78144</td>\n",
       "      <td>F7</td>\n",
       "      <td>7090.640611</td>\n",
       "      <td>3364.0</td>\n",
       "      <td>2</td>\n",
       "    </tr>\n",
       "    <tr>\n",
       "      <th>4</th>\n",
       "      <td>2021-11-10 17:00:00+01:00</td>\n",
       "      <td>42.75</td>\n",
       "      <td>18.464286</td>\n",
       "      <td>16.853290</td>\n",
       "      <td>9.507996</td>\n",
       "      <td>59.78144</td>\n",
       "      <td>F7</td>\n",
       "      <td>6475.053577</td>\n",
       "      <td>3365.0</td>\n",
       "      <td>2</td>\n",
       "    </tr>\n",
       "    <tr>\n",
       "      <th>...</th>\n",
       "      <td>...</td>\n",
       "      <td>...</td>\n",
       "      <td>...</td>\n",
       "      <td>...</td>\n",
       "      <td>...</td>\n",
       "      <td>...</td>\n",
       "      <td>...</td>\n",
       "      <td>...</td>\n",
       "      <td>...</td>\n",
       "      <td>...</td>\n",
       "    </tr>\n",
       "    <tr>\n",
       "      <th>693</th>\n",
       "      <td>2021-12-09 10:00:00+01:00</td>\n",
       "      <td>80.26</td>\n",
       "      <td>62.724138</td>\n",
       "      <td>16.186441</td>\n",
       "      <td>7.328333</td>\n",
       "      <td>59.78144</td>\n",
       "      <td>F7</td>\n",
       "      <td>21597.519482</td>\n",
       "      <td>4054.0</td>\n",
       "      <td>5</td>\n",
       "    </tr>\n",
       "    <tr>\n",
       "      <th>694</th>\n",
       "      <td>2021-12-09 11:00:00+01:00</td>\n",
       "      <td>79.61</td>\n",
       "      <td>63.344828</td>\n",
       "      <td>19.593220</td>\n",
       "      <td>9.201667</td>\n",
       "      <td>59.78144</td>\n",
       "      <td>F7</td>\n",
       "      <td>22701.121005</td>\n",
       "      <td>4055.0</td>\n",
       "      <td>5</td>\n",
       "    </tr>\n",
       "    <tr>\n",
       "      <th>695</th>\n",
       "      <td>2021-12-09 12:00:00+01:00</td>\n",
       "      <td>89.23</td>\n",
       "      <td>72.350877</td>\n",
       "      <td>21.185185</td>\n",
       "      <td>10.330000</td>\n",
       "      <td>59.78144</td>\n",
       "      <td>F7</td>\n",
       "      <td>24472.674294</td>\n",
       "      <td>4056.0</td>\n",
       "      <td>5</td>\n",
       "    </tr>\n",
       "    <tr>\n",
       "      <th>696</th>\n",
       "      <td>2021-12-09 13:00:00+01:00</td>\n",
       "      <td>80.70</td>\n",
       "      <td>63.322034</td>\n",
       "      <td>21.862069</td>\n",
       "      <td>10.758333</td>\n",
       "      <td>59.78144</td>\n",
       "      <td>F7</td>\n",
       "      <td>21526.821469</td>\n",
       "      <td>4057.0</td>\n",
       "      <td>5</td>\n",
       "    </tr>\n",
       "    <tr>\n",
       "      <th>697</th>\n",
       "      <td>2021-12-09 14:00:00+01:00</td>\n",
       "      <td>82.40</td>\n",
       "      <td>65.307692</td>\n",
       "      <td>18.074074</td>\n",
       "      <td>8.438461</td>\n",
       "      <td>59.78144</td>\n",
       "      <td>F7</td>\n",
       "      <td>21927.317664</td>\n",
       "      <td>4058.0</td>\n",
       "      <td>5</td>\n",
       "    </tr>\n",
       "  </tbody>\n",
       "</table>\n",
       "<p>698 rows × 10 columns</p>\n",
       "</div>"
      ],
      "text/plain": [
       "                    Timestamp  Aansturing Ventilator  Drukverschil Filter  \\\n",
       "0   2021-11-10 13:00:00+01:00                  59.04            39.481481   \n",
       "1   2021-11-10 14:00:00+01:00                  56.44            37.702128   \n",
       "2   2021-11-10 15:00:00+01:00                  46.31            25.916667   \n",
       "3   2021-11-10 16:00:00+01:00                  43.26            20.411765   \n",
       "4   2021-11-10 17:00:00+01:00                  42.75            18.464286   \n",
       "..                        ...                    ...                  ...   \n",
       "693 2021-12-09 10:00:00+01:00                  80.26            62.724138   \n",
       "694 2021-12-09 11:00:00+01:00                  79.61            63.344828   \n",
       "695 2021-12-09 12:00:00+01:00                  89.23            72.350877   \n",
       "696 2021-12-09 13:00:00+01:00                  80.70            63.322034   \n",
       "697 2021-12-09 14:00:00+01:00                  82.40            65.307692   \n",
       "\n",
       "     Fijnstofconcentratie PM10  Fijnstofconcentratie PM2.5  Filteroppervlak  \\\n",
       "0                    17.142726                   10.038417         59.78144   \n",
       "1                    16.357076                    9.512948         59.78144   \n",
       "2                    15.869389                    9.257286         59.78144   \n",
       "3                    15.484973                    8.921606         59.78144   \n",
       "4                    16.853290                    9.507996         59.78144   \n",
       "..                         ...                         ...              ...   \n",
       "693                  16.186441                    7.328333         59.78144   \n",
       "694                  19.593220                    9.201667         59.78144   \n",
       "695                  21.185185                   10.330000         59.78144   \n",
       "696                  21.862069                   10.758333         59.78144   \n",
       "697                  18.074074                    8.438461         59.78144   \n",
       "\n",
       "    Klasse   Totale Flow  Voltooide Levensduur  Totale Flow Categorie  \n",
       "0       F7  13964.398244                3361.0                      3  \n",
       "1       F7  13103.304840                3362.0                      3  \n",
       "2       F7   8637.538231                3363.0                      2  \n",
       "3       F7   7090.640611                3364.0                      2  \n",
       "4       F7   6475.053577                3365.0                      2  \n",
       "..     ...           ...                   ...                    ...  \n",
       "693     F7  21597.519482                4054.0                      5  \n",
       "694     F7  22701.121005                4055.0                      5  \n",
       "695     F7  24472.674294                4056.0                      5  \n",
       "696     F7  21526.821469                4057.0                      5  \n",
       "697     F7  21927.317664                4058.0                      5  \n",
       "\n",
       "[698 rows x 10 columns]"
      ]
     },
     "execution_count": 35,
     "metadata": {},
     "output_type": "execute_result"
    }
   ],
   "source": [
    "dataset_filter[\"Totale Flow Categorie\"] = pd.cut(dataset_filter[\"Totale Flow\"], \n",
    "                                                 bins=5, \n",
    "                                                 labels=False) + 1\n",
    "dataset_filter"
   ]
  },
  {
   "cell_type": "code",
   "execution_count": 36,
   "id": "dea8cbb7",
   "metadata": {},
   "outputs": [
    {
     "data": {
      "text/plain": [
       "1    324\n",
       "3    176\n",
       "2     92\n",
       "5     68\n",
       "4     38\n",
       "Name: Totale Flow Categorie, dtype: int64"
      ]
     },
     "execution_count": 36,
     "metadata": {},
     "output_type": "execute_result"
    }
   ],
   "source": [
    "dataset_filter[\"Totale Flow Categorie\"].value_counts()"
   ]
  },
  {
   "cell_type": "code",
   "execution_count": 37,
   "id": "1832895d",
   "metadata": {},
   "outputs": [
    {
     "data": {
      "text/plain": [
       "<AxesSubplot:>"
      ]
     },
     "execution_count": 37,
     "metadata": {},
     "output_type": "execute_result"
    },
    {
     "data": {
      "image/png": "[encoded data removed]",
      "text/plain": [
       "<Figure size 432x288 with 1 Axes>"
      ]
     },
     "metadata": {
      "needs_background": "light"
     },
     "output_type": "display_data"
    }
   ],
   "source": [
    "dataset_filter[\"Totale Flow Categorie\"].hist()"
   ]
  },
  {
   "cell_type": "markdown",
   "id": "b6154caa",
   "metadata": {},
   "source": [
    "Er wordt een 'StratifiedShuffleSplit' toegepast op de test- en trainset om representativiteit te verhogen."
   ]
  },
  {
   "cell_type": "code",
   "execution_count": 38,
   "id": "68f2711d",
   "metadata": {},
   "outputs": [],
   "source": [
    "from sklearn.model_selection import StratifiedShuffleSplit\n",
    "\n",
    "split = StratifiedShuffleSplit(n_splits=1, test_size=0.2, random_state=42)\n",
    "for train_index, test_index in split.split(dataset_filter, dataset_filter[\"Totale Flow Categorie\"]):\n",
    "    strat_train_set = dataset_filter.loc[train_index]\n",
    "    strat_test_set = dataset_filter.loc[test_index]"
   ]
  },
  {
   "cell_type": "code",
   "execution_count": 39,
   "id": "1f217dbb",
   "metadata": {
    "scrolled": true
   },
   "outputs": [
    {
     "data": {
      "text/plain": [
       "1    0.464286\n",
       "3    0.250000\n",
       "2    0.128571\n",
       "5    0.100000\n",
       "4    0.057143\n",
       "Name: Totale Flow Categorie, dtype: float64"
      ]
     },
     "execution_count": 39,
     "metadata": {},
     "output_type": "execute_result"
    }
   ],
   "source": [
    "strat_test_set[\"Totale Flow Categorie\"].value_counts() / len(strat_test_set)"
   ]
  },
  {
   "cell_type": "code",
   "execution_count": 40,
   "id": "0c395298",
   "metadata": {
    "scrolled": true
   },
   "outputs": [
    {
     "data": {
      "text/plain": [
       "1    0.464183\n",
       "3    0.252149\n",
       "2    0.131805\n",
       "5    0.097421\n",
       "4    0.054441\n",
       "Name: Totale Flow Categorie, dtype: float64"
      ]
     },
     "execution_count": 40,
     "metadata": {},
     "output_type": "execute_result"
    }
   ],
   "source": [
    "dataset_filter[\"Totale Flow Categorie\"].value_counts() / len(dataset_filter)"
   ]
  },
  {
   "cell_type": "code",
   "execution_count": 41,
   "id": "a3fc6aeb",
   "metadata": {},
   "outputs": [],
   "source": [
    "def totale_flow_proportions(data):\n",
    "    return data[\"Totale Flow Categorie\"].value_counts() / len(data)\n",
    "\n",
    "train_set, test_set = train_test_split(dataset_filter, test_size=0.2, random_state=42)\n",
    "\n",
    "compare_props = pd.DataFrame({\n",
    "    \"Overall\": totale_flow_proportions(dataset_filter),\n",
    "    \"Stratified\": totale_flow_proportions(strat_test_set),\n",
    "    \"Random\": totale_flow_proportions(test_set),\n",
    "}).sort_index()\n",
    "compare_props[\"Rand. %error\"] = 100 * compare_props[\"Random\"] / compare_props[\"Overall\"] - 100\n",
    "compare_props[\"Strat. %error\"] = 100 * compare_props[\"Stratified\"] / compare_props[\"Overall\"] - 100"
   ]
  },
  {
   "cell_type": "code",
   "execution_count": 42,
   "id": "4608e7b5",
   "metadata": {},
   "outputs": [
    {
     "data": {
      "text/html": [
       "<div>\n",
       "<style scoped>\n",
       "    .dataframe tbody tr th:only-of-type {\n",
       "        vertical-align: middle;\n",
       "    }\n",
       "\n",
       "    .dataframe tbody tr th {\n",
       "        vertical-align: top;\n",
       "    }\n",
       "\n",
       "    .dataframe thead th {\n",
       "        text-align: right;\n",
       "    }\n",
       "</style>\n",
       "<table border=\"1\" class=\"dataframe\">\n",
       "  <thead>\n",
       "    <tr style=\"text-align: right;\">\n",
       "      <th></th>\n",
       "      <th>Overall</th>\n",
       "      <th>Stratified</th>\n",
       "      <th>Random</th>\n",
       "      <th>Rand. %error</th>\n",
       "      <th>Strat. %error</th>\n",
       "    </tr>\n",
       "  </thead>\n",
       "  <tbody>\n",
       "    <tr>\n",
       "      <th>1</th>\n",
       "      <td>0.464183</td>\n",
       "      <td>0.464286</td>\n",
       "      <td>0.478571</td>\n",
       "      <td>3.099647</td>\n",
       "      <td>0.022046</td>\n",
       "    </tr>\n",
       "    <tr>\n",
       "      <th>2</th>\n",
       "      <td>0.131805</td>\n",
       "      <td>0.128571</td>\n",
       "      <td>0.114286</td>\n",
       "      <td>-13.291925</td>\n",
       "      <td>-2.453416</td>\n",
       "    </tr>\n",
       "    <tr>\n",
       "      <th>3</th>\n",
       "      <td>0.252149</td>\n",
       "      <td>0.250000</td>\n",
       "      <td>0.235714</td>\n",
       "      <td>-6.517857</td>\n",
       "      <td>-0.852273</td>\n",
       "    </tr>\n",
       "    <tr>\n",
       "      <th>4</th>\n",
       "      <td>0.054441</td>\n",
       "      <td>0.057143</td>\n",
       "      <td>0.050000</td>\n",
       "      <td>-8.157895</td>\n",
       "      <td>4.962406</td>\n",
       "    </tr>\n",
       "    <tr>\n",
       "      <th>5</th>\n",
       "      <td>0.097421</td>\n",
       "      <td>0.100000</td>\n",
       "      <td>0.121429</td>\n",
       "      <td>24.642857</td>\n",
       "      <td>2.647059</td>\n",
       "    </tr>\n",
       "  </tbody>\n",
       "</table>\n",
       "</div>"
      ],
      "text/plain": [
       "    Overall  Stratified    Random  Rand. %error  Strat. %error\n",
       "1  0.464183    0.464286  0.478571      3.099647       0.022046\n",
       "2  0.131805    0.128571  0.114286    -13.291925      -2.453416\n",
       "3  0.252149    0.250000  0.235714     -6.517857      -0.852273\n",
       "4  0.054441    0.057143  0.050000     -8.157895       4.962406\n",
       "5  0.097421    0.100000  0.121429     24.642857       2.647059"
      ]
     },
     "execution_count": 42,
     "metadata": {},
     "output_type": "execute_result"
    }
   ],
   "source": [
    "compare_props"
   ]
  },
  {
   "cell_type": "code",
   "execution_count": 43,
   "id": "bce2429e",
   "metadata": {},
   "outputs": [
    {
     "data": {
      "text/html": [
       "<div>\n",
       "<style scoped>\n",
       "    .dataframe tbody tr th:only-of-type {\n",
       "        vertical-align: middle;\n",
       "    }\n",
       "\n",
       "    .dataframe tbody tr th {\n",
       "        vertical-align: top;\n",
       "    }\n",
       "\n",
       "    .dataframe thead th {\n",
       "        text-align: right;\n",
       "    }\n",
       "</style>\n",
       "<table border=\"1\" class=\"dataframe\">\n",
       "  <thead>\n",
       "    <tr style=\"text-align: right;\">\n",
       "      <th></th>\n",
       "      <th>Timestamp</th>\n",
       "      <th>Aansturing Ventilator</th>\n",
       "      <th>Drukverschil Filter</th>\n",
       "      <th>Fijnstofconcentratie PM10</th>\n",
       "      <th>Fijnstofconcentratie PM2.5</th>\n",
       "      <th>Filteroppervlak</th>\n",
       "      <th>Klasse</th>\n",
       "      <th>Totale Flow</th>\n",
       "      <th>Voltooide Levensduur</th>\n",
       "      <th>Totale Flow Categorie</th>\n",
       "    </tr>\n",
       "  </thead>\n",
       "  <tbody>\n",
       "    <tr>\n",
       "      <th>0</th>\n",
       "      <td>2021-11-10 13:00:00+01:00</td>\n",
       "      <td>59.04</td>\n",
       "      <td>39.481481</td>\n",
       "      <td>17.142726</td>\n",
       "      <td>10.038417</td>\n",
       "      <td>59.78144</td>\n",
       "      <td>F7</td>\n",
       "      <td>13964.398244</td>\n",
       "      <td>3361.0</td>\n",
       "      <td>3</td>\n",
       "    </tr>\n",
       "    <tr>\n",
       "      <th>1</th>\n",
       "      <td>2021-11-10 14:00:00+01:00</td>\n",
       "      <td>56.44</td>\n",
       "      <td>37.702128</td>\n",
       "      <td>16.357076</td>\n",
       "      <td>9.512948</td>\n",
       "      <td>59.78144</td>\n",
       "      <td>F7</td>\n",
       "      <td>13103.304840</td>\n",
       "      <td>3362.0</td>\n",
       "      <td>3</td>\n",
       "    </tr>\n",
       "    <tr>\n",
       "      <th>2</th>\n",
       "      <td>2021-11-10 15:00:00+01:00</td>\n",
       "      <td>46.31</td>\n",
       "      <td>25.916667</td>\n",
       "      <td>15.869389</td>\n",
       "      <td>9.257286</td>\n",
       "      <td>59.78144</td>\n",
       "      <td>F7</td>\n",
       "      <td>8637.538231</td>\n",
       "      <td>3363.0</td>\n",
       "      <td>2</td>\n",
       "    </tr>\n",
       "    <tr>\n",
       "      <th>3</th>\n",
       "      <td>2021-11-10 16:00:00+01:00</td>\n",
       "      <td>43.26</td>\n",
       "      <td>20.411765</td>\n",
       "      <td>15.484973</td>\n",
       "      <td>8.921606</td>\n",
       "      <td>59.78144</td>\n",
       "      <td>F7</td>\n",
       "      <td>7090.640611</td>\n",
       "      <td>3364.0</td>\n",
       "      <td>2</td>\n",
       "    </tr>\n",
       "    <tr>\n",
       "      <th>4</th>\n",
       "      <td>2021-11-10 17:00:00+01:00</td>\n",
       "      <td>42.75</td>\n",
       "      <td>18.464286</td>\n",
       "      <td>16.853290</td>\n",
       "      <td>9.507996</td>\n",
       "      <td>59.78144</td>\n",
       "      <td>F7</td>\n",
       "      <td>6475.053577</td>\n",
       "      <td>3365.0</td>\n",
       "      <td>2</td>\n",
       "    </tr>\n",
       "  </tbody>\n",
       "</table>\n",
       "</div>"
      ],
      "text/plain": [
       "                  Timestamp  Aansturing Ventilator  Drukverschil Filter  \\\n",
       "0 2021-11-10 13:00:00+01:00                  59.04            39.481481   \n",
       "1 2021-11-10 14:00:00+01:00                  56.44            37.702128   \n",
       "2 2021-11-10 15:00:00+01:00                  46.31            25.916667   \n",
       "3 2021-11-10 16:00:00+01:00                  43.26            20.411765   \n",
       "4 2021-11-10 17:00:00+01:00                  42.75            18.464286   \n",
       "\n",
       "   Fijnstofconcentratie PM10  Fijnstofconcentratie PM2.5  Filteroppervlak  \\\n",
       "0                  17.142726                   10.038417         59.78144   \n",
       "1                  16.357076                    9.512948         59.78144   \n",
       "2                  15.869389                    9.257286         59.78144   \n",
       "3                  15.484973                    8.921606         59.78144   \n",
       "4                  16.853290                    9.507996         59.78144   \n",
       "\n",
       "  Klasse   Totale Flow  Voltooide Levensduur  Totale Flow Categorie  \n",
       "0     F7  13964.398244                3361.0                      3  \n",
       "1     F7  13103.304840                3362.0                      3  \n",
       "2     F7   8637.538231                3363.0                      2  \n",
       "3     F7   7090.640611                3364.0                      2  \n",
       "4     F7   6475.053577                3365.0                      2  "
      ]
     },
     "execution_count": 43,
     "metadata": {},
     "output_type": "execute_result"
    }
   ],
   "source": [
    "for set_ in (strat_train_set, strat_test_set):\n",
    "    set_.drop(\"Totale Flow Categorie\", axis=1, inplace=True)\n",
    "    \n",
    "dataset_filter.head()"
   ]
  },
  {
   "cell_type": "markdown",
   "id": "accb1526",
   "metadata": {},
   "source": [
    "**3.2 Data schoonmaken**"
   ]
  },
  {
   "cell_type": "markdown",
   "id": "3b177331",
   "metadata": {},
   "source": [
    "'Schoonmaken' bestaat uit het manipuleren van de waardes. In dit project is een groot gedeelte reeds in Excel opgelost. Niet alles is op te lossen in Excel, daarom wordt de rest hier in de virtuele omgeving verwerkt. \n",
    "\n",
    "Allereerst moeten de onvolledige rijen opgevuld worden met waardes. Dit kan op een aantal manieren: \n",
    " - Verwijderen van de rij\n",
    " - Verwijderen van het complete kenmerk\n",
    " - Datapunt naar een bepaalde waarde zetten\n",
    "\n",
    "Op dit moment is dit niet van belang bij dit project. In het begin is dit reeds al gedaan. De rijen missende waardes worden opgevuld door de voorgaande waarde te kopiëren.\n",
    "Wel is het belangrijk dat dit voor het toevoegen van nieuwe waardes in de toekomst gebeurt, als er bijvoorbeeld een nieuw dataset wordt toegevoegd.\n",
    "\n",
    "Ten tweede moeten alfabetische gegevens uitgedrukt worden in alfabetische numerieke waardes. Dit wordt ook wel encoden genoemd. In dit project is dit aanwezig in 'Klasse'. Op dit moment bestaan alle datapunten uit de waarde 'F7'. Het is belangrijk dat, wanneer er filters gemeten worden met een andere klasse, deze ook transformeren naar een nummer.\n",
    "\n",
    "Het nummer zegt echter weinig over de daadwerkelijke waarde; de klasse. Daarom wordt one-hot encoding gebruikt. Dit betekent dat een bepaalde klasse hoog (1) zal zijn, waar de rest laag (0) is. Dit zorgt ervoor dat het Machine Learning model geen relatie zal koppelen aan de klasse; zoals dat wel zou gebeuren bij een opsomming van nominale waardes (1, 2, 3, etc.).\n",
    "\n",
    "Het schalen van de waardes is hetgeen dat nog resteerd. Het is in deze belangrijk dat het aantal uitschieters bekend is, zodat gekozen kan worden voor de schalingsstrategie: normalisering of standaardisering.\n",
    "Daarom worden er boxplots gegeneerd, hierin zijn de bolletjes uitschieters.\n"
   ]
  },
  {
   "cell_type": "code",
   "execution_count": 44,
   "id": "9fc99438",
   "metadata": {},
   "outputs": [],
   "source": [
    "# Verwijder de labels in de training set\n",
    "dataset_filter_without_label = train_set_filters.drop(\"Drukverschil Filter\", axis=1) \n",
    "dataset_filter_label = train_set_filters[\"Drukverschil Filter\"].copy()"
   ]
  },
  {
   "cell_type": "code",
   "execution_count": 45,
   "id": "00ec8ed6",
   "metadata": {},
   "outputs": [
    {
     "data": {
      "text/plain": [
       "82      1.500000\n",
       "51     22.960784\n",
       "220    21.923077\n",
       "559     1.333333\n",
       "544    27.638298\n",
       "Name: Drukverschil Filter, dtype: float64"
      ]
     },
     "execution_count": 45,
     "metadata": {},
     "output_type": "execute_result"
    }
   ],
   "source": [
    "dataset_filter_label.head()"
   ]
  },
  {
   "cell_type": "code",
   "execution_count": 46,
   "id": "d36b9764",
   "metadata": {},
   "outputs": [
    {
     "data": {
      "text/html": [
       "<div>\n",
       "<style scoped>\n",
       "    .dataframe tbody tr th:only-of-type {\n",
       "        vertical-align: middle;\n",
       "    }\n",
       "\n",
       "    .dataframe tbody tr th {\n",
       "        vertical-align: top;\n",
       "    }\n",
       "\n",
       "    .dataframe thead th {\n",
       "        text-align: right;\n",
       "    }\n",
       "</style>\n",
       "<table border=\"1\" class=\"dataframe\">\n",
       "  <thead>\n",
       "    <tr style=\"text-align: right;\">\n",
       "      <th></th>\n",
       "      <th>Timestamp</th>\n",
       "      <th>Aansturing Ventilator</th>\n",
       "      <th>Fijnstofconcentratie PM10</th>\n",
       "      <th>Fijnstofconcentratie PM2.5</th>\n",
       "      <th>Filteroppervlak</th>\n",
       "      <th>Klasse</th>\n",
       "      <th>Totale Flow</th>\n",
       "      <th>Voltooide Levensduur</th>\n",
       "    </tr>\n",
       "  </thead>\n",
       "  <tbody>\n",
       "    <tr>\n",
       "      <th>82</th>\n",
       "      <td>2021-11-13 23:00:00+01:00</td>\n",
       "      <td>0.00</td>\n",
       "      <td>21.368184</td>\n",
       "      <td>12.330993</td>\n",
       "      <td>59.78144</td>\n",
       "      <td>F7</td>\n",
       "      <td>366.486280</td>\n",
       "      <td>3443.0</td>\n",
       "    </tr>\n",
       "    <tr>\n",
       "      <th>51</th>\n",
       "      <td>2021-11-12 16:00:00+01:00</td>\n",
       "      <td>46.25</td>\n",
       "      <td>15.143567</td>\n",
       "      <td>8.752501</td>\n",
       "      <td>59.78144</td>\n",
       "      <td>F7</td>\n",
       "      <td>8504.258631</td>\n",
       "      <td>3412.0</td>\n",
       "    </tr>\n",
       "    <tr>\n",
       "      <th>220</th>\n",
       "      <td>2021-11-19 17:00:00+01:00</td>\n",
       "      <td>43.36</td>\n",
       "      <td>9.068966</td>\n",
       "      <td>3.753448</td>\n",
       "      <td>59.78144</td>\n",
       "      <td>F7</td>\n",
       "      <td>6644.009582</td>\n",
       "      <td>3581.0</td>\n",
       "    </tr>\n",
       "    <tr>\n",
       "      <th>559</th>\n",
       "      <td>2021-12-03 20:00:00+01:00</td>\n",
       "      <td>0.00</td>\n",
       "      <td>13.762712</td>\n",
       "      <td>6.142373</td>\n",
       "      <td>59.78144</td>\n",
       "      <td>F7</td>\n",
       "      <td>366.635877</td>\n",
       "      <td>3920.0</td>\n",
       "    </tr>\n",
       "    <tr>\n",
       "      <th>544</th>\n",
       "      <td>2021-12-03 05:00:00+01:00</td>\n",
       "      <td>51.19</td>\n",
       "      <td>31.810345</td>\n",
       "      <td>21.425000</td>\n",
       "      <td>59.78144</td>\n",
       "      <td>F7</td>\n",
       "      <td>11016.680684</td>\n",
       "      <td>3905.0</td>\n",
       "    </tr>\n",
       "  </tbody>\n",
       "</table>\n",
       "</div>"
      ],
      "text/plain": [
       "                    Timestamp  Aansturing Ventilator  \\\n",
       "82  2021-11-13 23:00:00+01:00                   0.00   \n",
       "51  2021-11-12 16:00:00+01:00                  46.25   \n",
       "220 2021-11-19 17:00:00+01:00                  43.36   \n",
       "559 2021-12-03 20:00:00+01:00                   0.00   \n",
       "544 2021-12-03 05:00:00+01:00                  51.19   \n",
       "\n",
       "     Fijnstofconcentratie PM10  Fijnstofconcentratie PM2.5  Filteroppervlak  \\\n",
       "82                   21.368184                   12.330993         59.78144   \n",
       "51                   15.143567                    8.752501         59.78144   \n",
       "220                   9.068966                    3.753448         59.78144   \n",
       "559                  13.762712                    6.142373         59.78144   \n",
       "544                  31.810345                   21.425000         59.78144   \n",
       "\n",
       "    Klasse   Totale Flow  Voltooide Levensduur  \n",
       "82      F7    366.486280                3443.0  \n",
       "51      F7   8504.258631                3412.0  \n",
       "220     F7   6644.009582                3581.0  \n",
       "559     F7    366.635877                3920.0  \n",
       "544     F7  11016.680684                3905.0  "
      ]
     },
     "execution_count": 46,
     "metadata": {},
     "output_type": "execute_result"
    }
   ],
   "source": [
    "dataset_filter_without_label.head()"
   ]
  },
  {
   "cell_type": "markdown",
   "id": "ad947899",
   "metadata": {},
   "source": [
    "**3.2.1 Rijen opvullen**"
   ]
  },
  {
   "cell_type": "markdown",
   "id": "315510d3",
   "metadata": {},
   "source": [
    "De rijen worden opgevuld met het gemiddelde van het kenmerk waar missende waardes zitten. Deze kwamen in het Excel werkblad voor bij 'Aansturing Ventilator' en 'Drukverschil Filter'."
   ]
  },
  {
   "cell_type": "code",
   "execution_count": 47,
   "id": "8ef056cf",
   "metadata": {},
   "outputs": [],
   "source": [
    "# Verwijderen van de labels in de train set\n",
    "dataset_filter = strat_train_set.drop(\"Drukverschil Filter\", axis=1)\n",
    "dataset_filter_labels = strat_train_set[\"Drukverschil Filter\"].copy()"
   ]
  },
  {
   "cell_type": "code",
   "execution_count": 48,
   "id": "1fbf41e1",
   "metadata": {
    "scrolled": true
   },
   "outputs": [
    {
     "data": {
      "text/html": [
       "<div>\n",
       "<style scoped>\n",
       "    .dataframe tbody tr th:only-of-type {\n",
       "        vertical-align: middle;\n",
       "    }\n",
       "\n",
       "    .dataframe tbody tr th {\n",
       "        vertical-align: top;\n",
       "    }\n",
       "\n",
       "    .dataframe thead th {\n",
       "        text-align: right;\n",
       "    }\n",
       "</style>\n",
       "<table border=\"1\" class=\"dataframe\">\n",
       "  <thead>\n",
       "    <tr style=\"text-align: right;\">\n",
       "      <th></th>\n",
       "      <th>Timestamp</th>\n",
       "      <th>Aansturing Ventilator</th>\n",
       "      <th>Fijnstofconcentratie PM10</th>\n",
       "      <th>Fijnstofconcentratie PM2.5</th>\n",
       "      <th>Filteroppervlak</th>\n",
       "      <th>Klasse</th>\n",
       "      <th>Totale Flow</th>\n",
       "      <th>Voltooide Levensduur</th>\n",
       "    </tr>\n",
       "  </thead>\n",
       "  <tbody>\n",
       "    <tr>\n",
       "      <th>234</th>\n",
       "      <td>2021-11-20 07:00:00+01:00</td>\n",
       "      <td>0.00</td>\n",
       "      <td>31.087719</td>\n",
       "      <td>20.511667</td>\n",
       "      <td>59.78144</td>\n",
       "      <td>F7</td>\n",
       "      <td>369.204277</td>\n",
       "      <td>3595.0</td>\n",
       "    </tr>\n",
       "    <tr>\n",
       "      <th>100</th>\n",
       "      <td>2021-11-14 17:00:00+01:00</td>\n",
       "      <td>49.50</td>\n",
       "      <td>17.280036</td>\n",
       "      <td>9.828600</td>\n",
       "      <td>59.78144</td>\n",
       "      <td>F7</td>\n",
       "      <td>10603.041320</td>\n",
       "      <td>3461.0</td>\n",
       "    </tr>\n",
       "    <tr>\n",
       "      <th>557</th>\n",
       "      <td>2021-12-03 18:00:00+01:00</td>\n",
       "      <td>0.00</td>\n",
       "      <td>13.655172</td>\n",
       "      <td>6.120339</td>\n",
       "      <td>59.78144</td>\n",
       "      <td>F7</td>\n",
       "      <td>446.218474</td>\n",
       "      <td>3918.0</td>\n",
       "    </tr>\n",
       "    <tr>\n",
       "      <th>132</th>\n",
       "      <td>2021-11-16 01:00:00+01:00</td>\n",
       "      <td>0.00</td>\n",
       "      <td>17.861994</td>\n",
       "      <td>10.096870</td>\n",
       "      <td>59.78144</td>\n",
       "      <td>F7</td>\n",
       "      <td>366.973860</td>\n",
       "      <td>3493.0</td>\n",
       "    </tr>\n",
       "    <tr>\n",
       "      <th>383</th>\n",
       "      <td>2021-11-26 12:00:00+01:00</td>\n",
       "      <td>76.39</td>\n",
       "      <td>13.224138</td>\n",
       "      <td>5.825424</td>\n",
       "      <td>59.78144</td>\n",
       "      <td>F7</td>\n",
       "      <td>21013.282786</td>\n",
       "      <td>3744.0</td>\n",
       "    </tr>\n",
       "  </tbody>\n",
       "</table>\n",
       "</div>"
      ],
      "text/plain": [
       "                    Timestamp  Aansturing Ventilator  \\\n",
       "234 2021-11-20 07:00:00+01:00                   0.00   \n",
       "100 2021-11-14 17:00:00+01:00                  49.50   \n",
       "557 2021-12-03 18:00:00+01:00                   0.00   \n",
       "132 2021-11-16 01:00:00+01:00                   0.00   \n",
       "383 2021-11-26 12:00:00+01:00                  76.39   \n",
       "\n",
       "     Fijnstofconcentratie PM10  Fijnstofconcentratie PM2.5  Filteroppervlak  \\\n",
       "234                  31.087719                   20.511667         59.78144   \n",
       "100                  17.280036                    9.828600         59.78144   \n",
       "557                  13.655172                    6.120339         59.78144   \n",
       "132                  17.861994                   10.096870         59.78144   \n",
       "383                  13.224138                    5.825424         59.78144   \n",
       "\n",
       "    Klasse   Totale Flow  Voltooide Levensduur  \n",
       "234     F7    369.204277                3595.0  \n",
       "100     F7  10603.041320                3461.0  \n",
       "557     F7    446.218474                3918.0  \n",
       "132     F7    366.973860                3493.0  \n",
       "383     F7  21013.282786                3744.0  "
      ]
     },
     "execution_count": 48,
     "metadata": {},
     "output_type": "execute_result"
    }
   ],
   "source": [
    "dataset_filter.head()"
   ]
  },
  {
   "cell_type": "code",
   "execution_count": 49,
   "id": "d7ec99a4",
   "metadata": {},
   "outputs": [],
   "source": [
    "# Creëer een dataset met waardes bestaande uit alleen numerieke datatypes (int, float, etc.)\n",
    "dataset_filter_num = dataset_filter.drop([\"Klasse\", \"Timestamp\"], axis=1)"
   ]
  },
  {
   "cell_type": "code",
   "execution_count": 50,
   "id": "e2efd95d",
   "metadata": {},
   "outputs": [],
   "source": [
    "# Functie om rijen op te vullen waar waardes ontbreken\n",
    "from sklearn.impute import SimpleImputer\n",
    "imputer = SimpleImputer(strategy=\"mean\") # Blanco cellen opvullen met het gemiddelde"
   ]
  },
  {
   "cell_type": "code",
   "execution_count": 51,
   "id": "6d09a57a",
   "metadata": {
    "scrolled": true
   },
   "outputs": [
    {
     "data": {
      "text/html": [
       "<div>\n",
       "<style scoped>\n",
       "    .dataframe tbody tr th:only-of-type {\n",
       "        vertical-align: middle;\n",
       "    }\n",
       "\n",
       "    .dataframe tbody tr th {\n",
       "        vertical-align: top;\n",
       "    }\n",
       "\n",
       "    .dataframe thead th {\n",
       "        text-align: right;\n",
       "    }\n",
       "</style>\n",
       "<table border=\"1\" class=\"dataframe\">\n",
       "  <thead>\n",
       "    <tr style=\"text-align: right;\">\n",
       "      <th></th>\n",
       "      <th>Timestamp</th>\n",
       "      <th>Aansturing Ventilator</th>\n",
       "      <th>Fijnstofconcentratie PM10</th>\n",
       "      <th>Fijnstofconcentratie PM2.5</th>\n",
       "      <th>Filteroppervlak</th>\n",
       "      <th>Klasse</th>\n",
       "      <th>Totale Flow</th>\n",
       "      <th>Voltooide Levensduur</th>\n",
       "    </tr>\n",
       "  </thead>\n",
       "  <tbody>\n",
       "  </tbody>\n",
       "</table>\n",
       "</div>"
      ],
      "text/plain": [
       "Empty DataFrame\n",
       "Columns: [Timestamp, Aansturing Ventilator, Fijnstofconcentratie PM10, Fijnstofconcentratie PM2.5, Filteroppervlak, Klasse, Totale Flow, Voltooide Levensduur]\n",
       "Index: []"
      ]
     },
     "execution_count": 51,
     "metadata": {},
     "output_type": "execute_result"
    }
   ],
   "source": [
    "# Voer een check uit op aanwezigheid van onvolledige rijen\n",
    "onvolledige_rijen = dataset_filter[dataset_filter.isnull().any(axis=1)].head()\n",
    "onvolledige_rijen"
   ]
  },
  {
   "cell_type": "markdown",
   "id": "379d88e7",
   "metadata": {},
   "source": [
    "Onderstaande cellen voeren een controle uit. Hierbij wordt vergeleken of het aavullen van de cellen handmatig, dezelfde waardes geeft als automatisch. Daarnaast wordt gecheckt welke `Imputer` wordt gebruikt. Hierbij is keuze uit:\n",
    "- `SimpleImputer`: vervangt een missende waarde met 'gemiddelde', 'mediaan', 'meest frequente', of 'constante'. Deze waardes worden berekent middels het kenmerk waar de missende waarde is. Correlaties tussen kenmerken worden niet meegenomen (`Univariate feature imputation`)\n",
    "\n",
    "Onderstaande `Imputers` zijn gebaseerd op `Multivariate feature imputation`. Hierbij worden correlaties tussen kenmerken meegenomen. \n",
    "- `IterativeImputer`: Op de kolommen, waar geen missende waarde is, zal een regressiemodel uitgeoefend worden. Op de waardes in de rij waar de missende waarde zit, wordt voor alle missende waardes een voorspelling gemaakt (dit model is een op zich zelf staand model).\n",
    "- `KNNImputer`: De rijen, waar geen missende waarde is, worden beoordeeld op de correlatie tot de rij waar wel een missende waarde is (de aantal rijen kan bewerkt worden door `n_neihgbours` aan te passen). Tussen deze rijen wordt het gemiddelde berekent van de waardes in dezelfde kolom als de missende waarde."
   ]
  },
  {
   "cell_type": "code",
   "execution_count": 52,
   "id": "6ced8fb4",
   "metadata": {},
   "outputs": [
    {
     "data": {
      "text/plain": [
       "SimpleImputer()"
      ]
     },
     "execution_count": 52,
     "metadata": {},
     "output_type": "execute_result"
    }
   ],
   "source": [
    "imputer.fit(dataset_filter_num)"
   ]
  },
  {
   "cell_type": "code",
   "execution_count": 53,
   "id": "566e9f92",
   "metadata": {},
   "outputs": [
    {
     "data": {
      "text/plain": [
       "array([  34.86915771,   19.17808604,   11.25329386,   59.78144   ,\n",
       "       7327.04566654, 3707.20071685])"
      ]
     },
     "execution_count": 53,
     "metadata": {},
     "output_type": "execute_result"
    }
   ],
   "source": [
    "imputer.statistics_"
   ]
  },
  {
   "cell_type": "code",
   "execution_count": 54,
   "id": "f6dc7c37",
   "metadata": {},
   "outputs": [
    {
     "data": {
      "text/plain": [
       "array([  34.86915771,   19.17808604,   11.25329386,   59.78144   ,\n",
       "       7327.04566654, 3707.20071685])"
      ]
     },
     "execution_count": 54,
     "metadata": {},
     "output_type": "execute_result"
    }
   ],
   "source": [
    "dataset_filter_num.mean().values"
   ]
  },
  {
   "cell_type": "code",
   "execution_count": 55,
   "id": "eb477d80",
   "metadata": {},
   "outputs": [],
   "source": [
    "X = imputer.transform(dataset_filter_num)"
   ]
  },
  {
   "cell_type": "code",
   "execution_count": 56,
   "id": "c24a465a",
   "metadata": {},
   "outputs": [],
   "source": [
    "dataset_filter_tr = pd.DataFrame(X, columns=dataset_filter_num.columns,\n",
    "                          index=dataset_filter.index)"
   ]
  },
  {
   "cell_type": "code",
   "execution_count": 57,
   "id": "12d0792a",
   "metadata": {},
   "outputs": [
    {
     "data": {
      "text/html": [
       "<div>\n",
       "<style scoped>\n",
       "    .dataframe tbody tr th:only-of-type {\n",
       "        vertical-align: middle;\n",
       "    }\n",
       "\n",
       "    .dataframe tbody tr th {\n",
       "        vertical-align: top;\n",
       "    }\n",
       "\n",
       "    .dataframe thead th {\n",
       "        text-align: right;\n",
       "    }\n",
       "</style>\n",
       "<table border=\"1\" class=\"dataframe\">\n",
       "  <thead>\n",
       "    <tr style=\"text-align: right;\">\n",
       "      <th></th>\n",
       "      <th>Aansturing Ventilator</th>\n",
       "      <th>Fijnstofconcentratie PM10</th>\n",
       "      <th>Fijnstofconcentratie PM2.5</th>\n",
       "      <th>Filteroppervlak</th>\n",
       "      <th>Totale Flow</th>\n",
       "      <th>Voltooide Levensduur</th>\n",
       "    </tr>\n",
       "  </thead>\n",
       "  <tbody>\n",
       "  </tbody>\n",
       "</table>\n",
       "</div>"
      ],
      "text/plain": [
       "Empty DataFrame\n",
       "Columns: [Aansturing Ventilator, Fijnstofconcentratie PM10, Fijnstofconcentratie PM2.5, Filteroppervlak, Totale Flow, Voltooide Levensduur]\n",
       "Index: []"
      ]
     },
     "execution_count": 57,
     "metadata": {},
     "output_type": "execute_result"
    }
   ],
   "source": [
    "dataset_filter_tr.loc[onvolledige_rijen.index.values]"
   ]
  },
  {
   "cell_type": "code",
   "execution_count": 58,
   "id": "3ef2d815",
   "metadata": {},
   "outputs": [
    {
     "data": {
      "text/plain": [
       "'mean'"
      ]
     },
     "execution_count": 58,
     "metadata": {},
     "output_type": "execute_result"
    }
   ],
   "source": [
    "imputer.strategy"
   ]
  },
  {
   "cell_type": "code",
   "execution_count": 59,
   "id": "bbf1b2f6",
   "metadata": {},
   "outputs": [],
   "source": [
    "dataset_filter_tr = pd.DataFrame(X, columns=dataset_filter_num.columns,\n",
    "                          index=dataset_filter_num.index)"
   ]
  },
  {
   "cell_type": "code",
   "execution_count": 60,
   "id": "8e5485d1",
   "metadata": {},
   "outputs": [
    {
     "data": {
      "text/html": [
       "<div>\n",
       "<style scoped>\n",
       "    .dataframe tbody tr th:only-of-type {\n",
       "        vertical-align: middle;\n",
       "    }\n",
       "\n",
       "    .dataframe tbody tr th {\n",
       "        vertical-align: top;\n",
       "    }\n",
       "\n",
       "    .dataframe thead th {\n",
       "        text-align: right;\n",
       "    }\n",
       "</style>\n",
       "<table border=\"1\" class=\"dataframe\">\n",
       "  <thead>\n",
       "    <tr style=\"text-align: right;\">\n",
       "      <th></th>\n",
       "      <th>Aansturing Ventilator</th>\n",
       "      <th>Fijnstofconcentratie PM10</th>\n",
       "      <th>Fijnstofconcentratie PM2.5</th>\n",
       "      <th>Filteroppervlak</th>\n",
       "      <th>Totale Flow</th>\n",
       "      <th>Voltooide Levensduur</th>\n",
       "    </tr>\n",
       "  </thead>\n",
       "  <tbody>\n",
       "    <tr>\n",
       "      <th>234</th>\n",
       "      <td>0.00</td>\n",
       "      <td>31.087719</td>\n",
       "      <td>20.511667</td>\n",
       "      <td>59.78144</td>\n",
       "      <td>369.204277</td>\n",
       "      <td>3595.0</td>\n",
       "    </tr>\n",
       "    <tr>\n",
       "      <th>100</th>\n",
       "      <td>49.50</td>\n",
       "      <td>17.280036</td>\n",
       "      <td>9.828600</td>\n",
       "      <td>59.78144</td>\n",
       "      <td>10603.041320</td>\n",
       "      <td>3461.0</td>\n",
       "    </tr>\n",
       "    <tr>\n",
       "      <th>557</th>\n",
       "      <td>0.00</td>\n",
       "      <td>13.655172</td>\n",
       "      <td>6.120339</td>\n",
       "      <td>59.78144</td>\n",
       "      <td>446.218474</td>\n",
       "      <td>3918.0</td>\n",
       "    </tr>\n",
       "    <tr>\n",
       "      <th>132</th>\n",
       "      <td>0.00</td>\n",
       "      <td>17.861994</td>\n",
       "      <td>10.096870</td>\n",
       "      <td>59.78144</td>\n",
       "      <td>366.973860</td>\n",
       "      <td>3493.0</td>\n",
       "    </tr>\n",
       "    <tr>\n",
       "      <th>383</th>\n",
       "      <td>76.39</td>\n",
       "      <td>13.224138</td>\n",
       "      <td>5.825424</td>\n",
       "      <td>59.78144</td>\n",
       "      <td>21013.282786</td>\n",
       "      <td>3744.0</td>\n",
       "    </tr>\n",
       "  </tbody>\n",
       "</table>\n",
       "</div>"
      ],
      "text/plain": [
       "     Aansturing Ventilator  Fijnstofconcentratie PM10  \\\n",
       "234                   0.00                  31.087719   \n",
       "100                  49.50                  17.280036   \n",
       "557                   0.00                  13.655172   \n",
       "132                   0.00                  17.861994   \n",
       "383                  76.39                  13.224138   \n",
       "\n",
       "     Fijnstofconcentratie PM2.5  Filteroppervlak   Totale Flow  \\\n",
       "234                   20.511667         59.78144    369.204277   \n",
       "100                    9.828600         59.78144  10603.041320   \n",
       "557                    6.120339         59.78144    446.218474   \n",
       "132                   10.096870         59.78144    366.973860   \n",
       "383                    5.825424         59.78144  21013.282786   \n",
       "\n",
       "     Voltooide Levensduur  \n",
       "234                3595.0  \n",
       "100                3461.0  \n",
       "557                3918.0  \n",
       "132                3493.0  \n",
       "383                3744.0  "
      ]
     },
     "execution_count": 60,
     "metadata": {},
     "output_type": "execute_result"
    }
   ],
   "source": [
    "dataset_filter_tr.head()"
   ]
  },
  {
   "cell_type": "markdown",
   "id": "3e335795",
   "metadata": {},
   "source": [
    "**3.2.2 Encoding**"
   ]
  },
  {
   "cell_type": "code",
   "execution_count": 61,
   "id": "fc4b33d9",
   "metadata": {},
   "outputs": [
    {
     "data": {
      "text/html": [
       "<div>\n",
       "<style scoped>\n",
       "    .dataframe tbody tr th:only-of-type {\n",
       "        vertical-align: middle;\n",
       "    }\n",
       "\n",
       "    .dataframe tbody tr th {\n",
       "        vertical-align: top;\n",
       "    }\n",
       "\n",
       "    .dataframe thead th {\n",
       "        text-align: right;\n",
       "    }\n",
       "</style>\n",
       "<table border=\"1\" class=\"dataframe\">\n",
       "  <thead>\n",
       "    <tr style=\"text-align: right;\">\n",
       "      <th></th>\n",
       "      <th>Klasse</th>\n",
       "    </tr>\n",
       "  </thead>\n",
       "  <tbody>\n",
       "    <tr>\n",
       "      <th>234</th>\n",
       "      <td>F7</td>\n",
       "    </tr>\n",
       "    <tr>\n",
       "      <th>100</th>\n",
       "      <td>F7</td>\n",
       "    </tr>\n",
       "    <tr>\n",
       "      <th>557</th>\n",
       "      <td>F7</td>\n",
       "    </tr>\n",
       "    <tr>\n",
       "      <th>132</th>\n",
       "      <td>F7</td>\n",
       "    </tr>\n",
       "    <tr>\n",
       "      <th>383</th>\n",
       "      <td>F7</td>\n",
       "    </tr>\n",
       "  </tbody>\n",
       "</table>\n",
       "</div>"
      ],
      "text/plain": [
       "    Klasse\n",
       "234     F7\n",
       "100     F7\n",
       "557     F7\n",
       "132     F7\n",
       "383     F7"
      ]
     },
     "execution_count": 61,
     "metadata": {},
     "output_type": "execute_result"
    }
   ],
   "source": [
    "dataset_filter_cat = dataset_filter[[\"Klasse\"]]\n",
    "dataset_filter_cat.head()"
   ]
  },
  {
   "cell_type": "code",
   "execution_count": 62,
   "id": "1435d148",
   "metadata": {},
   "outputs": [
    {
     "data": {
      "text/plain": [
       "array([[1.],\n",
       "       [1.],\n",
       "       [1.],\n",
       "       [1.],\n",
       "       [1.],\n",
       "       [1.],\n",
       "       [1.],\n",
       "       [1.],\n",
       "       [1.],\n",
       "       [1.],\n",
       "       [1.],\n",
       "       [1.],\n",
       "       [1.],\n",
       "       [1.],\n",
       "       [1.],\n",
       "       [1.],\n",
       "       [1.],\n",
       "       [1.],\n",
       "       [1.],\n",
       "       [1.],\n",
       "       [1.],\n",
       "       [1.],\n",
       "       [1.],\n",
       "       [1.],\n",
       "       [1.],\n",
       "       [1.],\n",
       "       [1.],\n",
       "       [1.],\n",
       "       [1.],\n",
       "       [1.],\n",
       "       [1.],\n",
       "       [1.],\n",
       "       [1.],\n",
       "       [1.],\n",
       "       [1.],\n",
       "       [1.],\n",
       "       [1.],\n",
       "       [1.],\n",
       "       [1.],\n",
       "       [1.],\n",
       "       [1.],\n",
       "       [1.],\n",
       "       [1.],\n",
       "       [1.],\n",
       "       [1.],\n",
       "       [1.],\n",
       "       [1.],\n",
       "       [1.],\n",
       "       [1.],\n",
       "       [1.],\n",
       "       [1.],\n",
       "       [1.],\n",
       "       [1.],\n",
       "       [1.],\n",
       "       [1.],\n",
       "       [1.],\n",
       "       [1.],\n",
       "       [1.],\n",
       "       [1.],\n",
       "       [1.],\n",
       "       [1.],\n",
       "       [1.],\n",
       "       [1.],\n",
       "       [1.],\n",
       "       [1.],\n",
       "       [1.],\n",
       "       [1.],\n",
       "       [1.],\n",
       "       [1.],\n",
       "       [1.],\n",
       "       [1.],\n",
       "       [1.],\n",
       "       [1.],\n",
       "       [1.],\n",
       "       [1.],\n",
       "       [1.],\n",
       "       [1.],\n",
       "       [1.],\n",
       "       [1.],\n",
       "       [1.],\n",
       "       [1.],\n",
       "       [1.],\n",
       "       [1.],\n",
       "       [1.],\n",
       "       [1.],\n",
       "       [1.],\n",
       "       [1.],\n",
       "       [1.],\n",
       "       [1.],\n",
       "       [1.],\n",
       "       [1.],\n",
       "       [1.],\n",
       "       [1.],\n",
       "       [1.],\n",
       "       [1.],\n",
       "       [1.],\n",
       "       [1.],\n",
       "       [1.],\n",
       "       [1.],\n",
       "       [1.],\n",
       "       [1.],\n",
       "       [1.],\n",
       "       [1.],\n",
       "       [1.],\n",
       "       [1.],\n",
       "       [1.],\n",
       "       [1.],\n",
       "       [1.],\n",
       "       [1.],\n",
       "       [1.],\n",
       "       [1.],\n",
       "       [1.],\n",
       "       [1.],\n",
       "       [1.],\n",
       "       [1.],\n",
       "       [1.],\n",
       "       [1.],\n",
       "       [1.],\n",
       "       [1.],\n",
       "       [1.],\n",
       "       [1.],\n",
       "       [1.],\n",
       "       [1.],\n",
       "       [1.],\n",
       "       [1.],\n",
       "       [1.],\n",
       "       [1.],\n",
       "       [1.],\n",
       "       [1.],\n",
       "       [1.],\n",
       "       [1.],\n",
       "       [1.],\n",
       "       [1.],\n",
       "       [1.],\n",
       "       [1.],\n",
       "       [1.],\n",
       "       [1.],\n",
       "       [1.],\n",
       "       [1.],\n",
       "       [1.],\n",
       "       [1.],\n",
       "       [1.],\n",
       "       [1.],\n",
       "       [1.],\n",
       "       [1.],\n",
       "       [1.],\n",
       "       [1.],\n",
       "       [1.],\n",
       "       [1.],\n",
       "       [1.],\n",
       "       [1.],\n",
       "       [1.],\n",
       "       [1.],\n",
       "       [1.],\n",
       "       [1.],\n",
       "       [1.],\n",
       "       [1.],\n",
       "       [1.],\n",
       "       [1.],\n",
       "       [1.],\n",
       "       [1.],\n",
       "       [1.],\n",
       "       [1.],\n",
       "       [1.],\n",
       "       [1.],\n",
       "       [1.],\n",
       "       [1.],\n",
       "       [1.],\n",
       "       [1.],\n",
       "       [1.],\n",
       "       [1.],\n",
       "       [1.],\n",
       "       [1.],\n",
       "       [1.],\n",
       "       [1.],\n",
       "       [1.],\n",
       "       [1.],\n",
       "       [1.],\n",
       "       [1.],\n",
       "       [1.],\n",
       "       [1.],\n",
       "       [1.],\n",
       "       [1.],\n",
       "       [1.],\n",
       "       [1.],\n",
       "       [1.],\n",
       "       [1.],\n",
       "       [1.],\n",
       "       [1.],\n",
       "       [1.],\n",
       "       [1.],\n",
       "       [1.],\n",
       "       [1.],\n",
       "       [1.],\n",
       "       [1.],\n",
       "       [1.],\n",
       "       [1.],\n",
       "       [1.],\n",
       "       [1.],\n",
       "       [1.],\n",
       "       [1.],\n",
       "       [1.],\n",
       "       [1.],\n",
       "       [1.],\n",
       "       [1.],\n",
       "       [1.],\n",
       "       [1.],\n",
       "       [1.],\n",
       "       [1.],\n",
       "       [1.],\n",
       "       [1.],\n",
       "       [1.],\n",
       "       [1.],\n",
       "       [1.],\n",
       "       [1.],\n",
       "       [1.],\n",
       "       [1.],\n",
       "       [1.],\n",
       "       [1.],\n",
       "       [1.],\n",
       "       [1.],\n",
       "       [1.],\n",
       "       [1.],\n",
       "       [1.],\n",
       "       [1.],\n",
       "       [1.],\n",
       "       [1.],\n",
       "       [1.],\n",
       "       [1.],\n",
       "       [1.],\n",
       "       [1.],\n",
       "       [1.],\n",
       "       [1.],\n",
       "       [1.],\n",
       "       [1.],\n",
       "       [1.],\n",
       "       [1.],\n",
       "       [1.],\n",
       "       [1.],\n",
       "       [1.],\n",
       "       [1.],\n",
       "       [1.],\n",
       "       [1.],\n",
       "       [1.],\n",
       "       [1.],\n",
       "       [1.],\n",
       "       [1.],\n",
       "       [1.],\n",
       "       [1.],\n",
       "       [1.],\n",
       "       [1.],\n",
       "       [1.],\n",
       "       [1.],\n",
       "       [1.],\n",
       "       [1.],\n",
       "       [1.],\n",
       "       [1.],\n",
       "       [1.],\n",
       "       [1.],\n",
       "       [1.],\n",
       "       [1.],\n",
       "       [1.],\n",
       "       [1.],\n",
       "       [1.],\n",
       "       [1.],\n",
       "       [1.],\n",
       "       [1.],\n",
       "       [1.],\n",
       "       [1.],\n",
       "       [1.],\n",
       "       [1.],\n",
       "       [1.],\n",
       "       [1.],\n",
       "       [1.],\n",
       "       [1.],\n",
       "       [1.],\n",
       "       [1.],\n",
       "       [1.],\n",
       "       [1.],\n",
       "       [1.],\n",
       "       [1.],\n",
       "       [1.],\n",
       "       [1.],\n",
       "       [1.],\n",
       "       [1.],\n",
       "       [1.],\n",
       "       [1.],\n",
       "       [1.],\n",
       "       [1.],\n",
       "       [1.],\n",
       "       [1.],\n",
       "       [1.],\n",
       "       [1.],\n",
       "       [1.],\n",
       "       [1.],\n",
       "       [1.],\n",
       "       [1.],\n",
       "       [1.],\n",
       "       [1.],\n",
       "       [1.],\n",
       "       [1.],\n",
       "       [1.],\n",
       "       [1.],\n",
       "       [1.],\n",
       "       [1.],\n",
       "       [1.],\n",
       "       [1.],\n",
       "       [1.],\n",
       "       [1.],\n",
       "       [1.],\n",
       "       [1.],\n",
       "       [1.],\n",
       "       [1.],\n",
       "       [1.],\n",
       "       [1.],\n",
       "       [1.],\n",
       "       [1.],\n",
       "       [1.],\n",
       "       [1.],\n",
       "       [1.],\n",
       "       [1.],\n",
       "       [1.],\n",
       "       [1.],\n",
       "       [1.],\n",
       "       [1.],\n",
       "       [1.],\n",
       "       [1.],\n",
       "       [1.],\n",
       "       [1.],\n",
       "       [1.],\n",
       "       [1.],\n",
       "       [1.],\n",
       "       [1.],\n",
       "       [1.],\n",
       "       [1.],\n",
       "       [1.],\n",
       "       [1.],\n",
       "       [1.],\n",
       "       [1.],\n",
       "       [1.],\n",
       "       [1.],\n",
       "       [1.],\n",
       "       [1.],\n",
       "       [1.],\n",
       "       [1.],\n",
       "       [1.],\n",
       "       [1.],\n",
       "       [1.],\n",
       "       [1.],\n",
       "       [1.],\n",
       "       [1.],\n",
       "       [1.],\n",
       "       [1.],\n",
       "       [1.],\n",
       "       [1.],\n",
       "       [1.],\n",
       "       [1.],\n",
       "       [1.],\n",
       "       [1.],\n",
       "       [1.],\n",
       "       [1.],\n",
       "       [1.],\n",
       "       [1.],\n",
       "       [1.],\n",
       "       [1.],\n",
       "       [1.],\n",
       "       [1.],\n",
       "       [1.],\n",
       "       [1.],\n",
       "       [1.],\n",
       "       [1.],\n",
       "       [1.],\n",
       "       [1.],\n",
       "       [1.],\n",
       "       [1.],\n",
       "       [1.],\n",
       "       [1.],\n",
       "       [1.],\n",
       "       [1.],\n",
       "       [1.],\n",
       "       [1.],\n",
       "       [1.],\n",
       "       [1.],\n",
       "       [1.],\n",
       "       [1.],\n",
       "       [1.],\n",
       "       [1.],\n",
       "       [1.],\n",
       "       [1.],\n",
       "       [1.],\n",
       "       [1.],\n",
       "       [1.],\n",
       "       [1.],\n",
       "       [1.],\n",
       "       [1.],\n",
       "       [1.],\n",
       "       [1.],\n",
       "       [1.],\n",
       "       [1.],\n",
       "       [1.],\n",
       "       [1.],\n",
       "       [1.],\n",
       "       [1.],\n",
       "       [1.],\n",
       "       [1.],\n",
       "       [1.],\n",
       "       [1.],\n",
       "       [1.],\n",
       "       [1.],\n",
       "       [1.],\n",
       "       [1.],\n",
       "       [1.],\n",
       "       [1.],\n",
       "       [1.],\n",
       "       [1.],\n",
       "       [1.],\n",
       "       [1.],\n",
       "       [1.],\n",
       "       [1.],\n",
       "       [1.],\n",
       "       [1.],\n",
       "       [1.],\n",
       "       [1.],\n",
       "       [1.],\n",
       "       [1.],\n",
       "       [1.],\n",
       "       [1.],\n",
       "       [1.],\n",
       "       [1.],\n",
       "       [1.],\n",
       "       [1.],\n",
       "       [1.],\n",
       "       [1.],\n",
       "       [1.],\n",
       "       [1.],\n",
       "       [1.],\n",
       "       [1.],\n",
       "       [1.],\n",
       "       [1.],\n",
       "       [1.],\n",
       "       [1.],\n",
       "       [1.],\n",
       "       [1.],\n",
       "       [1.],\n",
       "       [1.],\n",
       "       [1.],\n",
       "       [1.],\n",
       "       [1.],\n",
       "       [1.],\n",
       "       [1.],\n",
       "       [1.],\n",
       "       [1.],\n",
       "       [1.],\n",
       "       [1.],\n",
       "       [1.],\n",
       "       [1.],\n",
       "       [1.],\n",
       "       [1.],\n",
       "       [1.],\n",
       "       [1.],\n",
       "       [1.],\n",
       "       [1.],\n",
       "       [1.],\n",
       "       [1.],\n",
       "       [1.],\n",
       "       [1.],\n",
       "       [1.],\n",
       "       [1.],\n",
       "       [1.],\n",
       "       [1.],\n",
       "       [1.],\n",
       "       [1.],\n",
       "       [1.],\n",
       "       [1.],\n",
       "       [1.],\n",
       "       [1.],\n",
       "       [1.],\n",
       "       [1.],\n",
       "       [1.],\n",
       "       [1.],\n",
       "       [1.],\n",
       "       [1.],\n",
       "       [1.],\n",
       "       [1.],\n",
       "       [1.],\n",
       "       [1.],\n",
       "       [1.],\n",
       "       [1.],\n",
       "       [1.],\n",
       "       [1.],\n",
       "       [1.],\n",
       "       [1.],\n",
       "       [1.],\n",
       "       [1.],\n",
       "       [1.],\n",
       "       [1.],\n",
       "       [1.],\n",
       "       [1.],\n",
       "       [1.],\n",
       "       [1.],\n",
       "       [1.],\n",
       "       [1.],\n",
       "       [1.],\n",
       "       [1.],\n",
       "       [1.],\n",
       "       [1.],\n",
       "       [1.],\n",
       "       [1.],\n",
       "       [1.],\n",
       "       [1.],\n",
       "       [1.],\n",
       "       [1.],\n",
       "       [1.],\n",
       "       [1.],\n",
       "       [1.],\n",
       "       [1.],\n",
       "       [1.],\n",
       "       [1.],\n",
       "       [1.],\n",
       "       [1.],\n",
       "       [1.],\n",
       "       [1.],\n",
       "       [1.],\n",
       "       [1.],\n",
       "       [1.],\n",
       "       [1.],\n",
       "       [1.],\n",
       "       [1.],\n",
       "       [1.],\n",
       "       [1.],\n",
       "       [1.],\n",
       "       [1.],\n",
       "       [1.],\n",
       "       [1.],\n",
       "       [1.],\n",
       "       [1.],\n",
       "       [1.],\n",
       "       [1.],\n",
       "       [1.],\n",
       "       [1.],\n",
       "       [1.],\n",
       "       [1.],\n",
       "       [1.],\n",
       "       [1.],\n",
       "       [1.],\n",
       "       [1.],\n",
       "       [1.],\n",
       "       [1.],\n",
       "       [1.],\n",
       "       [1.],\n",
       "       [1.],\n",
       "       [1.],\n",
       "       [1.],\n",
       "       [1.],\n",
       "       [1.],\n",
       "       [1.],\n",
       "       [1.],\n",
       "       [1.]])"
      ]
     },
     "execution_count": 62,
     "metadata": {},
     "output_type": "execute_result"
    }
   ],
   "source": [
    "from sklearn.preprocessing import OneHotEncoder\n",
    "\n",
    "cat_encoder = OneHotEncoder()\n",
    "dataset_filter_cat_hot = cat_encoder.fit_transform(dataset_filter_cat)\n",
    "dataset_filter_cat_hot.toarray()"
   ]
  },
  {
   "cell_type": "code",
   "execution_count": 63,
   "id": "70fa142e",
   "metadata": {},
   "outputs": [
    {
     "data": {
      "text/plain": [
       "[array(['F7'], dtype=object)]"
      ]
     },
     "execution_count": 63,
     "metadata": {},
     "output_type": "execute_result"
    }
   ],
   "source": [
    "cat_encoder.categories_"
   ]
  },
  {
   "cell_type": "code",
   "execution_count": 64,
   "id": "4256a4ce",
   "metadata": {
    "scrolled": true
   },
   "outputs": [
    {
     "data": {
      "text/html": [
       "<div>\n",
       "<style scoped>\n",
       "    .dataframe tbody tr th:only-of-type {\n",
       "        vertical-align: middle;\n",
       "    }\n",
       "\n",
       "    .dataframe tbody tr th {\n",
       "        vertical-align: top;\n",
       "    }\n",
       "\n",
       "    .dataframe thead th {\n",
       "        text-align: right;\n",
       "    }\n",
       "</style>\n",
       "<table border=\"1\" class=\"dataframe\">\n",
       "  <thead>\n",
       "    <tr style=\"text-align: right;\">\n",
       "      <th></th>\n",
       "      <th>Aansturing Ventilator</th>\n",
       "      <th>Fijnstofconcentratie PM10</th>\n",
       "      <th>Fijnstofconcentratie PM2.5</th>\n",
       "      <th>Filteroppervlak</th>\n",
       "      <th>Totale Flow</th>\n",
       "      <th>Voltooide Levensduur</th>\n",
       "    </tr>\n",
       "  </thead>\n",
       "  <tbody>\n",
       "    <tr>\n",
       "      <th>count</th>\n",
       "      <td>558.000000</td>\n",
       "      <td>558.000000</td>\n",
       "      <td>558.000000</td>\n",
       "      <td>5.580000e+02</td>\n",
       "      <td>558.000000</td>\n",
       "      <td>558.000000</td>\n",
       "    </tr>\n",
       "    <tr>\n",
       "      <th>mean</th>\n",
       "      <td>34.869158</td>\n",
       "      <td>19.178086</td>\n",
       "      <td>11.253294</td>\n",
       "      <td>5.978144e+01</td>\n",
       "      <td>7327.045667</td>\n",
       "      <td>3707.200717</td>\n",
       "    </tr>\n",
       "    <tr>\n",
       "      <th>std</th>\n",
       "      <td>29.424070</td>\n",
       "      <td>9.455749</td>\n",
       "      <td>7.416019</td>\n",
       "      <td>2.133541e-14</td>\n",
       "      <td>7299.628009</td>\n",
       "      <td>200.359621</td>\n",
       "    </tr>\n",
       "    <tr>\n",
       "      <th>min</th>\n",
       "      <td>0.000000</td>\n",
       "      <td>4.310345</td>\n",
       "      <td>2.271875</td>\n",
       "      <td>5.978144e+01</td>\n",
       "      <td>362.407862</td>\n",
       "      <td>3363.000000</td>\n",
       "    </tr>\n",
       "    <tr>\n",
       "      <th>25%</th>\n",
       "      <td>0.000000</td>\n",
       "      <td>12.689655</td>\n",
       "      <td>5.711864</td>\n",
       "      <td>5.978144e+01</td>\n",
       "      <td>366.945004</td>\n",
       "      <td>3531.250000</td>\n",
       "    </tr>\n",
       "    <tr>\n",
       "      <th>50%</th>\n",
       "      <td>47.490000</td>\n",
       "      <td>18.157435</td>\n",
       "      <td>9.832956</td>\n",
       "      <td>5.978144e+01</td>\n",
       "      <td>7283.312264</td>\n",
       "      <td>3705.500000</td>\n",
       "    </tr>\n",
       "    <tr>\n",
       "      <th>75%</th>\n",
       "      <td>52.435000</td>\n",
       "      <td>25.134953</td>\n",
       "      <td>14.451808</td>\n",
       "      <td>5.978144e+01</td>\n",
       "      <td>11121.264291</td>\n",
       "      <td>3879.750000</td>\n",
       "    </tr>\n",
       "    <tr>\n",
       "      <th>max</th>\n",
       "      <td>89.570000</td>\n",
       "      <td>43.666667</td>\n",
       "      <td>33.430508</td>\n",
       "      <td>5.978144e+01</td>\n",
       "      <td>24976.102971</td>\n",
       "      <td>4057.000000</td>\n",
       "    </tr>\n",
       "  </tbody>\n",
       "</table>\n",
       "</div>"
      ],
      "text/plain": [
       "       Aansturing Ventilator  Fijnstofconcentratie PM10  \\\n",
       "count             558.000000                 558.000000   \n",
       "mean               34.869158                  19.178086   \n",
       "std                29.424070                   9.455749   \n",
       "min                 0.000000                   4.310345   \n",
       "25%                 0.000000                  12.689655   \n",
       "50%                47.490000                  18.157435   \n",
       "75%                52.435000                  25.134953   \n",
       "max                89.570000                  43.666667   \n",
       "\n",
       "       Fijnstofconcentratie PM2.5  Filteroppervlak   Totale Flow  \\\n",
       "count                  558.000000     5.580000e+02    558.000000   \n",
       "mean                    11.253294     5.978144e+01   7327.045667   \n",
       "std                      7.416019     2.133541e-14   7299.628009   \n",
       "min                      2.271875     5.978144e+01    362.407862   \n",
       "25%                      5.711864     5.978144e+01    366.945004   \n",
       "50%                      9.832956     5.978144e+01   7283.312264   \n",
       "75%                     14.451808     5.978144e+01  11121.264291   \n",
       "max                     33.430508     5.978144e+01  24976.102971   \n",
       "\n",
       "       Voltooide Levensduur  \n",
       "count            558.000000  \n",
       "mean            3707.200717  \n",
       "std              200.359621  \n",
       "min             3363.000000  \n",
       "25%             3531.250000  \n",
       "50%             3705.500000  \n",
       "75%             3879.750000  \n",
       "max             4057.000000  "
      ]
     },
     "execution_count": 64,
     "metadata": {},
     "output_type": "execute_result"
    }
   ],
   "source": [
    "dataset_filter.describe()"
   ]
  },
  {
   "cell_type": "code",
   "execution_count": 65,
   "id": "87c60f98",
   "metadata": {
    "scrolled": true
   },
   "outputs": [
    {
     "name": "stdout",
     "output_type": "stream",
     "text": [
      "Saving figure boxplot_aansturing\n"
     ]
    },
    {
     "data": {
      "image/png": "[encoded data removed]",
      "text/plain": [
       "<Figure size 432x288 with 1 Axes>"
      ]
     },
     "metadata": {
      "needs_background": "light"
     },
     "output_type": "display_data"
    }
   ],
   "source": [
    "from pandas.plotting import boxplot\n",
    "kenmerken = ['Aansturing Ventilator']\n",
    "dataset_filter.boxplot(column=kenmerken)\n",
    "save_fig(\"boxplot_aansturing\")"
   ]
  },
  {
   "cell_type": "code",
   "execution_count": 66,
   "id": "39f6b66a",
   "metadata": {},
   "outputs": [
    {
     "name": "stdout",
     "output_type": "stream",
     "text": [
      "Saving figure boxplot_fijnstof_drukverschil\n"
     ]
    },
    {
     "data": {
      "image/png": "[encoded data removed]",
      "text/plain": [
       "<Figure size 432x288 with 1 Axes>"
      ]
     },
     "metadata": {
      "needs_background": "light"
     },
     "output_type": "display_data"
    }
   ],
   "source": [
    "kenmerken = ['Fijnstofconcentratie PM2.5', 'Fijnstofconcentratie PM10']\n",
    "dataset_filter.boxplot(column=kenmerken, fontsize=9)\n",
    "save_fig(\"boxplot_fijnstof_drukverschil\")"
   ]
  },
  {
   "cell_type": "code",
   "execution_count": 67,
   "id": "0fb9f46b",
   "metadata": {},
   "outputs": [
    {
     "data": {
      "text/plain": [
       "pandas.core.series.Series"
      ]
     },
     "execution_count": 67,
     "metadata": {},
     "output_type": "execute_result"
    }
   ],
   "source": [
    "type(dataset_filter_labels)"
   ]
  },
  {
   "cell_type": "code",
   "execution_count": 68,
   "id": "e66ba79b",
   "metadata": {},
   "outputs": [
    {
     "name": "stdout",
     "output_type": "stream",
     "text": [
      "Saving figure boxplot_fijnstof_drukverschil\n"
     ]
    },
    {
     "data": {
      "image/png": "[encoded data removed]",
      "text/plain": [
       "<Figure size 432x288 with 1 Axes>"
      ]
     },
     "metadata": {
      "needs_background": "light"
     },
     "output_type": "display_data"
    }
   ],
   "source": [
    "dataframe_filter_labels = dataset_filter_labels.to_frame()\n",
    "kenmerken = ['Drukverschil Filter']\n",
    "dataframe_filter_labels.boxplot(column=kenmerken, fontsize=9)\n",
    "save_fig(\"boxplot_fijnstof_drukverschil\")"
   ]
  },
  {
   "cell_type": "code",
   "execution_count": 69,
   "id": "86cec650",
   "metadata": {
    "scrolled": true
   },
   "outputs": [
    {
     "name": "stdout",
     "output_type": "stream",
     "text": [
      "Saving figure boxplot_flow\n"
     ]
    },
    {
     "data": {
      "image/png": "[encoded data removed]",
      "text/plain": [
       "<Figure size 432x288 with 1 Axes>"
      ]
     },
     "metadata": {
      "needs_background": "light"
     },
     "output_type": "display_data"
    }
   ],
   "source": [
    "kenmerken = ['Totale Flow']\n",
    "dataset_filter.boxplot(column=kenmerken)\n",
    "save_fig(\"boxplot_flow\")"
   ]
  },
  {
   "cell_type": "markdown",
   "id": "eb2d611f",
   "metadata": {},
   "source": [
    "De boxplots tonen aan dat er niet tot nauwelijks uitschieters gedecteerd zijn bij de kenmerken met een hoge relevantie. Alleen bij 'Fijnstofconcentratie PM2.5'. Echter is de correlatie tot 'Drukverschil filter' maar rond de 0.7; erg laag dus.\n",
    "\n",
    "Ook bij het kenmerk 'Drukverschil Filter' zijn er een aantal. Echter is schaling niet van toepassing bij het label van de dataset. Voor dit project zal gekozen worden voor normalisering (`MinMaxScaler`)."
   ]
  },
  {
   "cell_type": "markdown",
   "id": "e26ba719",
   "metadata": {},
   "source": [
    "**Pipeline**"
   ]
  },
  {
   "cell_type": "markdown",
   "id": "62cd2ff2",
   "metadata": {},
   "source": [
    "Het is mogelijk om bovenstaande transformaties samen te voegen in één functie; dit wordt ook wel een pipeline genoemd. Deze werkt alleen op numerieke waardes.\n",
    "\n",
    "Het toevoegen van kolommen, door middel van berekeningen, kan ook in deze pipeline worden toegevoegd. Voor dit project is dit echter al aan het begin van het project gedaan. Voorbeeld hiervan is het opsommen van de individuele flowsensoren tot 'Totale flow'.\n",
    "\n",
    "De pipeline zal bestaan uit de `imputer` (toevoegen van missende waardes door `SimpleImputer`) en `norm_scaler` (verschalen van waardes door `MinMaxScaler`)"
   ]
  },
  {
   "cell_type": "code",
   "execution_count": 70,
   "id": "fe0f3011",
   "metadata": {},
   "outputs": [],
   "source": [
    "from sklearn.pipeline import Pipeline\n",
    "from sklearn.preprocessing import MinMaxScaler\n",
    "\n",
    "num_pipeline = Pipeline([\n",
    "        ('imputer', SimpleImputer(strategy=\"mean\")),\n",
    "        ('norm_scaler', MinMaxScaler()),\n",
    "    ])\n",
    "\n",
    "dataset_filter_num_tr = num_pipeline.fit_transform(dataset_filter_num)"
   ]
  },
  {
   "cell_type": "code",
   "execution_count": 71,
   "id": "416f59e7",
   "metadata": {},
   "outputs": [
    {
     "data": {
      "text/plain": [
       "array([[0.00000000e+00, 6.80383055e-01, 5.85384840e-01, 0.00000000e+00,\n",
       "        2.76123301e-04, 3.34293948e-01],\n",
       "       [5.52640393e-01, 3.29545314e-01, 2.42524261e-01, 0.00000000e+00,\n",
       "        4.16054291e-01, 1.41210375e-01],\n",
       "       [0.00000000e+00, 2.37441589e-01, 1.23511964e-01, 0.00000000e+00,\n",
       "        3.40503982e-03, 7.99711816e-01],\n",
       "       ...,\n",
       "       [5.81667969e-01, 2.20839324e-02, 6.01759382e-03, 0.00000000e+00,\n",
       "        4.31620393e-01, 7.47838617e-01],\n",
       "       [0.00000000e+00, 3.61140382e-01, 2.40122162e-01, 0.00000000e+00,\n",
       "        1.34333700e-04, 2.53602305e-01],\n",
       "       [0.00000000e+00, 4.98880452e-01, 3.48371878e-01, 0.00000000e+00,\n",
       "        9.22485643e-05, 6.71469741e-01]])"
      ]
     },
     "execution_count": 71,
     "metadata": {},
     "output_type": "execute_result"
    }
   ],
   "source": [
    "dataset_filter_num_tr"
   ]
  },
  {
   "cell_type": "markdown",
   "id": "7fe42e06",
   "metadata": {},
   "source": [
    "Op dit moment worden numerieke en alfabetische waardes beide individeel voorbereid. SciKit-Learn heeft een waarbij de pipeline alles tegelijk kan uitvoeren; alfabetisch én numeriek."
   ]
  },
  {
   "cell_type": "code",
   "execution_count": 72,
   "id": "b2f941c6",
   "metadata": {},
   "outputs": [],
   "source": [
    "from sklearn.compose import ColumnTransformer\n",
    "\n",
    "num_kenmerken = list(dataset_filter_num)\n",
    "cat_kenmerken = [\"Klasse\"]\n",
    "\n",
    "voll_pipeline = ColumnTransformer([\n",
    "        (\"num\", num_pipeline, num_kenmerken),\n",
    "        (\"cat\", OneHotEncoder(), cat_kenmerken),\n",
    "    ])\n",
    "\n",
    "dataset_filter_voorbereid = voll_pipeline.fit_transform(dataset_filter)"
   ]
  },
  {
   "cell_type": "code",
   "execution_count": 73,
   "id": "cecdbf94",
   "metadata": {},
   "outputs": [
    {
     "data": {
      "text/plain": [
       "array([[0.00000000e+00, 6.80383055e-01, 5.85384840e-01, ...,\n",
       "        2.76123301e-04, 3.34293948e-01, 1.00000000e+00],\n",
       "       [5.52640393e-01, 3.29545314e-01, 2.42524261e-01, ...,\n",
       "        4.16054291e-01, 1.41210375e-01, 1.00000000e+00],\n",
       "       [0.00000000e+00, 2.37441589e-01, 1.23511964e-01, ...,\n",
       "        3.40503982e-03, 7.99711816e-01, 1.00000000e+00],\n",
       "       ...,\n",
       "       [5.81667969e-01, 2.20839324e-02, 6.01759382e-03, ...,\n",
       "        4.31620393e-01, 7.47838617e-01, 1.00000000e+00],\n",
       "       [0.00000000e+00, 3.61140382e-01, 2.40122162e-01, ...,\n",
       "        1.34333700e-04, 2.53602305e-01, 1.00000000e+00],\n",
       "       [0.00000000e+00, 4.98880452e-01, 3.48371878e-01, ...,\n",
       "        9.22485643e-05, 6.71469741e-01, 1.00000000e+00]])"
      ]
     },
     "execution_count": 73,
     "metadata": {},
     "output_type": "execute_result"
    }
   ],
   "source": [
    "dataset_filter_voorbereid"
   ]
  },
  {
   "cell_type": "code",
   "execution_count": 74,
   "id": "4262ea1e",
   "metadata": {},
   "outputs": [
    {
     "data": {
      "text/plain": [
       "(558, 7)"
      ]
     },
     "execution_count": 74,
     "metadata": {},
     "output_type": "execute_result"
    }
   ],
   "source": [
    "dataset_filter_voorbereid.shape"
   ]
  },
  {
   "cell_type": "markdown",
   "id": "fd3fecf1",
   "metadata": {},
   "source": [
    "# 4 Modeleren"
   ]
  },
  {
   "cell_type": "markdown",
   "id": "0073a625",
   "metadata": {},
   "source": [
    "Als het voorbereiden van de data is voltooid is, kan het modeleren beginnen. Ten opzichte van voorgaande stappen, neemt deze taak aanzienlijk minder tijd is beslag.\n",
    "\n",
    "Eerst worden een aantal modellen gekozen op basis van het probleem dat zich in het project voordoet. Deze modellen worden ieder getest, op basis van nauwkeurigheid, met een ‘testprogramma’. Het model dat als best uit deze test komt, zal verder ontwikkelt worden. In dit hoofdstuk word beschreven hoe de student bij dit project te werk is gegaan omtrent modeleren. \n"
   ]
  },
  {
   "cell_type": "markdown",
   "id": "416fae48",
   "metadata": {},
   "source": [
    "**4.1 Selecteer Machine Learning modellen**"
   ]
  },
  {
   "cell_type": "markdown",
   "id": "e33adc7b",
   "metadata": {},
   "source": [
    "De eerste stap bij het modeleren bestaat uit het maken van een selectie met verschillende ML modellen. Hierbij is het belangrijk dat de eisen van de klant mee worden genomen bij het besluit. In dit project is dit echter minder belangrijk, omdat het om een Proof of Concept gaat. Er moet bewezen worden of de mogelijkheid er is."
   ]
  },
  {
   "cell_type": "code",
   "execution_count": 75,
   "id": "765e59a7",
   "metadata": {},
   "outputs": [
    {
     "data": {
      "text/plain": [
       "LinearRegression()"
      ]
     },
     "execution_count": 75,
     "metadata": {},
     "output_type": "execute_result"
    }
   ],
   "source": [
    "from sklearn.linear_model import LinearRegression\n",
    "\n",
    "lin_reg = LinearRegression()\n",
    "lin_reg.fit(dataset_filter_voorbereid, dataset_filter_labels)"
   ]
  },
  {
   "cell_type": "markdown",
   "id": "8769004e",
   "metadata": {},
   "source": [
    "Maak een selectie van een groep random data uit de dataset (`df`,`df_labels` en `df_voorbereid`)."
   ]
  },
  {
   "cell_type": "code",
   "execution_count": 76,
   "id": "57f8f6ad",
   "metadata": {},
   "outputs": [
    {
     "name": "stdout",
     "output_type": "stream",
     "text": [
      "voorspellingen: [ 3.55737352 29.05414242  3.29383272  2.77420049 59.93716324]\n"
     ]
    }
   ],
   "source": [
    "df = dataset_filter.iloc[:5]\n",
    "df_labels = dataset_filter_labels.iloc[:5]\n",
    "df_voorbereid = voll_pipeline.transform(df)\n",
    "\n",
    "print(\"voorspellingen:\", lin_reg.predict(df_voorbereid))"
   ]
  },
  {
   "cell_type": "code",
   "execution_count": 77,
   "id": "dc0ea343",
   "metadata": {},
   "outputs": [
    {
     "name": "stdout",
     "output_type": "stream",
     "text": [
      "Labels: [1.5, 28.404761904761905, 1.3333333333333333, 2.0, 57.53448275862069]\n"
     ]
    }
   ],
   "source": [
    "print(\"Labels:\", list(df_labels))"
   ]
  },
  {
   "cell_type": "code",
   "execution_count": 78,
   "id": "7539d4e4",
   "metadata": {},
   "outputs": [
    {
     "data": {
      "text/plain": [
       "array([[0.00000000e+00, 6.80383055e-01, 5.85384840e-01, 0.00000000e+00,\n",
       "        2.76123301e-04, 3.34293948e-01, 1.00000000e+00],\n",
       "       [5.52640393e-01, 3.29545314e-01, 2.42524261e-01, 0.00000000e+00,\n",
       "        4.16054291e-01, 1.41210375e-01, 1.00000000e+00],\n",
       "       [0.00000000e+00, 2.37441589e-01, 1.23511964e-01, 0.00000000e+00,\n",
       "        3.40503982e-03, 7.99711816e-01, 1.00000000e+00],\n",
       "       [0.00000000e+00, 3.44332217e-01, 2.51134093e-01, 0.00000000e+00,\n",
       "        1.85506384e-04, 1.87319885e-01, 1.00000000e+00],\n",
       "       [8.52852518e-01, 2.26489486e-01, 1.14047001e-01, 0.00000000e+00,\n",
       "        8.38999380e-01, 5.48991354e-01, 1.00000000e+00]])"
      ]
     },
     "execution_count": 78,
     "metadata": {},
     "output_type": "execute_result"
    }
   ],
   "source": [
    "df_voorbereid"
   ]
  },
  {
   "cell_type": "markdown",
   "id": "5b9b7b87",
   "metadata": {},
   "source": [
    "Het eerste model dat geïmporteerd wordt, is het lineaire regressie model. "
   ]
  },
  {
   "cell_type": "code",
   "execution_count": 79,
   "id": "1461eeb5",
   "metadata": {},
   "outputs": [
    {
     "data": {
      "text/plain": [
       "2.7119965620276894"
      ]
     },
     "execution_count": 79,
     "metadata": {},
     "output_type": "execute_result"
    }
   ],
   "source": [
    "from sklearn.metrics import mean_squared_error\n",
    "\n",
    "dataset_filter_voorspellingen = lin_reg.predict(dataset_filter_voorbereid)\n",
    "lin_mse = mean_squared_error(dataset_filter_labels, dataset_filter_voorspellingen)\n",
    "lin_rmse = np.sqrt(lin_mse)\n",
    "lin_rmse"
   ]
  },
  {
   "cell_type": "code",
   "execution_count": 80,
   "id": "2d34eab7",
   "metadata": {},
   "outputs": [
    {
     "data": {
      "text/plain": [
       "2.0754563570315456"
      ]
     },
     "execution_count": 80,
     "metadata": {},
     "output_type": "execute_result"
    }
   ],
   "source": [
    "from sklearn.metrics import mean_absolute_error\n",
    "\n",
    "lin_mae = mean_absolute_error(dataset_filter_labels, dataset_filter_voorspellingen)\n",
    "lin_mae"
   ]
  },
  {
   "cell_type": "code",
   "execution_count": 81,
   "id": "3c296025",
   "metadata": {},
   "outputs": [
    {
     "data": {
      "text/plain": [
       "DecisionTreeRegressor(random_state=42)"
      ]
     },
     "execution_count": 81,
     "metadata": {},
     "output_type": "execute_result"
    }
   ],
   "source": [
    "from sklearn.tree import DecisionTreeRegressor\n",
    "\n",
    "tree_reg = DecisionTreeRegressor(random_state=42)\n",
    "tree_reg.fit(dataset_filter_voorbereid, dataset_filter_labels)"
   ]
  },
  {
   "cell_type": "code",
   "execution_count": 82,
   "id": "eb5f9597",
   "metadata": {},
   "outputs": [
    {
     "data": {
      "text/plain": [
       "2.9725086425717357e-17"
      ]
     },
     "execution_count": 82,
     "metadata": {},
     "output_type": "execute_result"
    }
   ],
   "source": [
    "dataset_filter_voorspellingen = tree_reg.predict(dataset_filter_voorbereid)\n",
    "tree_mse = mean_squared_error(dataset_filter_labels, dataset_filter_voorspellingen)\n",
    "tree_rmse = np.sqrt(tree_mse)\n",
    "tree_rmse"
   ]
  },
  {
   "cell_type": "code",
   "execution_count": 83,
   "id": "a82d0d4b",
   "metadata": {},
   "outputs": [
    {
     "data": {
      "text/plain": [
       "0.8580965401547406"
      ]
     },
     "execution_count": 83,
     "metadata": {},
     "output_type": "execute_result"
    }
   ],
   "source": [
    "from sklearn.ensemble import RandomForestRegressor\n",
    "\n",
    "forest_reg = RandomForestRegressor(n_estimators=100, random_state=42)\n",
    "forest_reg.fit(dataset_filter_voorbereid, dataset_filter_labels)\n",
    "\n",
    "dataset_filter_voorspellingen = forest_reg.predict(dataset_filter_voorbereid)\n",
    "forest_mse = mean_squared_error(dataset_filter_labels, dataset_filter_voorspellingen)\n",
    "forest_rmse = np.sqrt(forest_mse)\n",
    "forest_rmse"
   ]
  },
  {
   "cell_type": "code",
   "execution_count": 84,
   "id": "b5058cf8",
   "metadata": {},
   "outputs": [
    {
     "data": {
      "text/plain": [
       "5.820070626338437"
      ]
     },
     "execution_count": 84,
     "metadata": {},
     "output_type": "execute_result"
    }
   ],
   "source": [
    "from sklearn.svm import SVR\n",
    "\n",
    "svm_reg = SVR(kernel=\"linear\")\n",
    "svm_reg.fit(dataset_filter_voorbereid, dataset_filter_labels)\n",
    "dataset_filter_voorspellingen = svm_reg.predict(dataset_filter_voorbereid)\n",
    "svm_mse = mean_squared_error(dataset_filter_labels, dataset_filter_voorspellingen)\n",
    "svm_rmse = np.sqrt(svm_mse)\n",
    "svm_rmse"
   ]
  },
  {
   "cell_type": "markdown",
   "id": "296bf9ff",
   "metadata": {},
   "source": [
    "**4.2 Testontwerp**"
   ]
  },
  {
   "cell_type": "markdown",
   "id": "19ca87ad",
   "metadata": {},
   "source": [
    "Het resultaat van het testontwerp bestaat uit een ontwerp dat de modellen test op nauwkeurigheid. Hieronder worden modellen getest aan de hand van de Cross-Validation methode."
   ]
  },
  {
   "cell_type": "code",
   "execution_count": 85,
   "id": "d8b29a23",
   "metadata": {
    "scrolled": true
   },
   "outputs": [],
   "source": [
    "# Functie om RMSE scores te weergeven\n",
    "def weergave_rmse_scores(scores):\n",
    "    print(\"RMSE scores:\", scores)\n",
    "    print(\"Gemiddelde RMSE score:\", scores.mean())\n",
    "    print(\"Standaard deviatie:\", scores.std())"
   ]
  },
  {
   "cell_type": "code",
   "execution_count": 86,
   "id": "19b9d0d5",
   "metadata": {},
   "outputs": [],
   "source": [
    "# Functie om RMSE scores te berekenen middels Cross-Validation\n",
    "from sklearn.model_selection import cross_val_score\n",
    "\n",
    "def cross_val_test(model):\n",
    "    scores = cross_val_score(model, dataset_filter_voorbereid, dataset_filter_labels,\n",
    "                         scoring=\"neg_mean_squared_error\", cv=10)\n",
    "    rmse_score = np.sqrt(-scores)\n",
    "    return rmse_score"
   ]
  },
  {
   "cell_type": "code",
   "execution_count": 87,
   "id": "79b581ef",
   "metadata": {},
   "outputs": [
    {
     "name": "stdout",
     "output_type": "stream",
     "text": [
      "RMSE scores: [2.86843778 3.22610932 2.05921369 2.94822072 2.94915851 3.06051373\n",
      " 3.04605012 2.45737317 2.22043943 2.42945418]\n",
      "Gemiddelde RMSE score: 2.7264970651608693\n",
      "Standaard deviatie: 0.38002683440846896\n"
     ]
    },
    {
     "data": {
      "text/plain": [
       "count    10.000000\n",
       "mean      2.726497\n",
       "std       0.400583\n",
       "min       2.059214\n",
       "25%       2.436434\n",
       "50%       2.908329\n",
       "75%       3.021827\n",
       "max       3.226109\n",
       "dtype: float64"
      ]
     },
     "execution_count": 87,
     "metadata": {},
     "output_type": "execute_result"
    }
   ],
   "source": [
    "# Cross-Validation op lineair regressie model\n",
    "lin_reg_scores = cross_val_test(lin_reg)\n",
    "weergave_rmse_scores(lin_reg_scores)\n",
    "pd.Series(lin_reg_scores).describe()"
   ]
  },
  {
   "cell_type": "code",
   "execution_count": 88,
   "id": "6637b802",
   "metadata": {},
   "outputs": [
    {
     "name": "stdout",
     "output_type": "stream",
     "text": [
      "RMSE scores: [1.83623762 7.73989931 1.76881261 1.82135234 2.90177003 2.20378955\n",
      " 1.53167858 1.58667144 1.98536776 2.25948348]\n",
      "Gemiddelde RMSE score: 2.563506273042206\n",
      "Standaard deviatie: 1.7662293798816233\n"
     ]
    },
    {
     "data": {
      "text/plain": [
       "count    10.000000\n",
       "mean      2.563506\n",
       "std       1.861769\n",
       "min       1.531679\n",
       "25%       1.781948\n",
       "50%       1.910803\n",
       "75%       2.245560\n",
       "max       7.739899\n",
       "dtype: float64"
      ]
     },
     "execution_count": 88,
     "metadata": {},
     "output_type": "execute_result"
    }
   ],
   "source": [
    "# Cross-Validation op decision tree model\n",
    "tree_rmse_scores = cross_val_test(tree_reg)\n",
    "weergave_rmse_scores(tree_rmse_scores)\n",
    "pd.Series(tree_rmse_scores).describe()"
   ]
  },
  {
   "cell_type": "code",
   "execution_count": 89,
   "id": "36e145e7",
   "metadata": {},
   "outputs": [
    {
     "name": "stdout",
     "output_type": "stream",
     "text": [
      "RMSE scores: [1.51810272 6.29135068 1.20079241 1.76455847 1.99836376 1.57706734\n",
      " 1.97374024 1.62580099 1.64766369 1.19542175]\n",
      "Gemiddelde RMSE score: 2.079286204036272\n",
      "Standaard deviatie: 1.4272454014906257\n"
     ]
    },
    {
     "data": {
      "text/plain": [
       "count    10.000000\n",
       "mean      2.079286\n",
       "std       1.504449\n",
       "min       1.195422\n",
       "25%       1.532844\n",
       "50%       1.636732\n",
       "75%       1.921445\n",
       "max       6.291351\n",
       "dtype: float64"
      ]
     },
     "execution_count": 89,
     "metadata": {},
     "output_type": "execute_result"
    }
   ],
   "source": [
    "# Cross-Validation op random forest model\n",
    "forest_scores = cross_val_test(forest_reg)\n",
    "weergave_rmse_scores(forest_scores)\n",
    "pd.Series(forest_scores).describe()"
   ]
  },
  {
   "cell_type": "code",
   "execution_count": 90,
   "id": "64ccb860",
   "metadata": {
    "scrolled": true
   },
   "outputs": [
    {
     "name": "stdout",
     "output_type": "stream",
     "text": [
      "RMSE scores: [6.90182692 6.91877396 6.26013777 6.10280402 5.16586848 6.65596632\n",
      " 5.56532505 4.97552393 5.40254664 5.76507722]\n",
      "Gemiddelde RMSE score: 5.9713850311790875\n",
      "Standaard deviatie: 0.6711325890053242\n"
     ]
    },
    {
     "data": {
      "text/plain": [
       "count    10.000000\n",
       "mean      5.971385\n",
       "std       0.707436\n",
       "min       4.975524\n",
       "25%       5.443241\n",
       "50%       5.933941\n",
       "75%       6.557009\n",
       "max       6.918774\n",
       "dtype: float64"
      ]
     },
     "execution_count": 90,
     "metadata": {},
     "output_type": "execute_result"
    }
   ],
   "source": [
    "# Cross-Validation op SVM model\n",
    "svm_scores = cross_val_test(svm_reg)\n",
    "weergave_rmse_scores(svm_scores)\n",
    "pd.Series(svm_scores).describe()"
   ]
  },
  {
   "cell_type": "markdown",
   "id": "4296540b",
   "metadata": {},
   "source": [
    "**Finetuning van modellen**"
   ]
  },
  {
   "cell_type": "markdown",
   "id": "3c62cbf5",
   "metadata": {},
   "source": [
    "Na het kiezen van een aantal modellen, moeten deze gefinetuned worden. Er zijn verschillende methodes om dit mogelijk te maken:\n",
    "- Grid Search: Zoeken van de beste combinatie van hyperparameters met specifieke waardes.\n",
    "- Randomized Search: \n",
    "- Ensamble: Net als bij Random Forest (opeenstapeling van decision trees) is het mogelijk om verschillende modellen naast elkaar te gebruiken.\n"
   ]
  },
  {
   "cell_type": "markdown",
   "id": "3404696a",
   "metadata": {},
   "source": [
    "**Grid Search**"
   ]
  },
  {
   "cell_type": "markdown",
   "id": "633cceb6",
   "metadata": {},
   "source": [
    "Het is natuurlijk mogelijk om de hyperparameters handmatig te stellen. Dit zal echter veel te lang duren. \n",
    "\n",
    "Grid Search zoekt uit welke combinatie van waardes voor hyperparameters het beste zijn. De ontwerper hoeft alleen maar aan te geven met welke hyperparameters geëxperimenteerd word en welke waardes daar aan gehangen mogen worden. Vervolgens wordt Cross-Validation gebruikt om de beste combinatie te vinden."
   ]
  },
  {
   "cell_type": "code",
   "execution_count": 91,
   "id": "8a170a7d",
   "metadata": {
    "scrolled": false
   },
   "outputs": [
    {
     "data": {
      "text/plain": [
       "GridSearchCV(cv=10, estimator=RandomForestRegressor(random_state=42),\n",
       "             param_grid=[{'max_features': [2, 4, 6],\n",
       "                          'n_estimators': [3, 10, 20, 50]},\n",
       "                         {'bootstrap': [False], 'max_features': [2, 3, 4],\n",
       "                          'n_estimators': [3, 10]}],\n",
       "             return_train_score=True, scoring='neg_mean_squared_error')"
      ]
     },
     "execution_count": 91,
     "metadata": {},
     "output_type": "execute_result"
    }
   ],
   "source": [
    "from sklearn.model_selection import GridSearchCV\n",
    "\n",
    "param_grid = [\n",
    "    # try 12 (4×3) combinations of hyperparameters\n",
    "    {'n_estimators': [3, 10, 20, 50], 'max_features': [2, 4, 6]},\n",
    "    # then try 6 (2×3) combinations with bootstrap set as False\n",
    "    {'bootstrap': [False], 'n_estimators': [3, 10], 'max_features': [2, 3, 4]},\n",
    "  ]\n",
    "\n",
    "forest_reg = RandomForestRegressor(random_state=42)\n",
    "# train across 5 folds, that's a total of (12+6)*5=90 rounds of training \n",
    "grid_search = GridSearchCV(forest_reg, param_grid, cv=10,\n",
    "                           scoring='neg_mean_squared_error',\n",
    "                           return_train_score=True)\n",
    "grid_search.fit(dataset_filter_voorbereid, dataset_filter_labels)"
   ]
  },
  {
   "cell_type": "code",
   "execution_count": 92,
   "id": "7701c8c8",
   "metadata": {},
   "outputs": [
    {
     "data": {
      "text/plain": [
       "{'max_features': 4, 'n_estimators': 50}"
      ]
     },
     "execution_count": 92,
     "metadata": {},
     "output_type": "execute_result"
    }
   ],
   "source": [
    "# De beste combinatie voor waardes tussen hyperparameters\n",
    "grid_search.best_params_"
   ]
  },
  {
   "cell_type": "code",
   "execution_count": 93,
   "id": "25c1dfb3",
   "metadata": {},
   "outputs": [
    {
     "data": {
      "text/plain": [
       "RandomForestRegressor(max_features=4, n_estimators=50, random_state=42)"
      ]
     },
     "execution_count": 93,
     "metadata": {},
     "output_type": "execute_result"
    }
   ],
   "source": [
    "grid_search.best_estimator_"
   ]
  },
  {
   "cell_type": "markdown",
   "id": "2b42c4bd",
   "metadata": {},
   "source": [
    "Let's look at the score of each hyperparameter combination tested during the grid search:"
   ]
  },
  {
   "cell_type": "code",
   "execution_count": 94,
   "id": "70c73ef6",
   "metadata": {},
   "outputs": [
    {
     "name": "stdout",
     "output_type": "stream",
     "text": [
      "5.141920862932979 {'max_features': 2, 'n_estimators': 3}\n",
      "3.32234229483422 {'max_features': 2, 'n_estimators': 10}\n",
      "3.0838626841261667 {'max_features': 2, 'n_estimators': 20}\n",
      "3.056790159294012 {'max_features': 2, 'n_estimators': 50}\n",
      "3.1257969139785504 {'max_features': 4, 'n_estimators': 3}\n",
      "2.3389102153820156 {'max_features': 4, 'n_estimators': 10}\n",
      "2.3171749732640903 {'max_features': 4, 'n_estimators': 20}\n",
      "2.0499103803021956 {'max_features': 4, 'n_estimators': 50}\n",
      "2.813847305977745 {'max_features': 6, 'n_estimators': 3}\n",
      "2.403192433439042 {'max_features': 6, 'n_estimators': 10}\n",
      "2.3076519519354997 {'max_features': 6, 'n_estimators': 20}\n",
      "2.26552115511061 {'max_features': 6, 'n_estimators': 50}\n",
      "4.294982990428239 {'bootstrap': False, 'max_features': 2, 'n_estimators': 3}\n",
      "4.024253591181775 {'bootstrap': False, 'max_features': 2, 'n_estimators': 10}\n",
      "2.733076182950944 {'bootstrap': False, 'max_features': 3, 'n_estimators': 3}\n",
      "2.3193851052484025 {'bootstrap': False, 'max_features': 3, 'n_estimators': 10}\n",
      "2.3686329829456962 {'bootstrap': False, 'max_features': 4, 'n_estimators': 3}\n",
      "2.070023654242426 {'bootstrap': False, 'max_features': 4, 'n_estimators': 10}\n"
     ]
    }
   ],
   "source": [
    "cv_res = grid_search.cv_results_\n",
    "for mean_score, params in zip(cv_res[\"mean_test_score\"], cv_res[\"params\"]):\n",
    "    print(np.sqrt(-mean_score), params)"
   ]
  },
  {
   "cell_type": "markdown",
   "id": "d5fc474c",
   "metadata": {},
   "source": [
    "**Randomized Search**"
   ]
  },
  {
   "cell_type": "markdown",
   "id": "4ec85ff8",
   "metadata": {},
   "source": [
    "Randomized Search is een methode die het mogelijk maakt om meer waardes en meer combinaties te testen dan bij de Grid Search. Hierbij wordt een willekeurige waarde gekozen voor een willekeurige combinatie. De ontwerper moet het aantal combinaties kiezen en het bereik voor de waardes die ingevuld worden voor de hyperparameters. Daarnaast kan de ontwerper waardes invullen voor Cross-Validation."
   ]
  },
  {
   "cell_type": "code",
   "execution_count": 95,
   "id": "d9ee9437",
   "metadata": {},
   "outputs": [
    {
     "data": {
      "text/plain": [
       "RandomizedSearchCV(cv=10, estimator=RandomForestRegressor(random_state=42),\n",
       "                   n_iter=20,\n",
       "                   param_distributions={'max_features': <scipy.stats._distn_infrastructure.rv_frozen object at 0x000001D113A2D670>,\n",
       "                                        'n_estimators': <scipy.stats._distn_infrastructure.rv_frozen object at 0x000001D113ADD460>},\n",
       "                   random_state=42, scoring='neg_mean_squared_error')"
      ]
     },
     "execution_count": 95,
     "metadata": {},
     "output_type": "execute_result"
    }
   ],
   "source": [
    "from sklearn.model_selection import RandomizedSearchCV\n",
    "from scipy.stats import randint\n",
    "\n",
    "# Bereik voor waardes van hyperparameters\n",
    "param_distribs = {\n",
    "        'n_estimators': randint(low=10, high=200),\n",
    "        'max_features': randint(low=3, high=7),\n",
    "    }\n",
    "\n",
    "# 'n_iter=x' geeft aantal combinaties aan\n",
    "# 'cv=x' geeft aantal 'folds' (= hoeveelheid subsets gecreërd uit trainset) aan\n",
    "forest_reg = RandomForestRegressor(random_state=42)\n",
    "rnd_search = RandomizedSearchCV(forest_reg, param_distributions=param_distribs,\n",
    "                                n_iter=20, cv=10, scoring='neg_mean_squared_error', random_state=42)\n",
    "rnd_search.fit(dataset_filter_voorbereid, dataset_filter_labels)"
   ]
  },
  {
   "cell_type": "code",
   "execution_count": 96,
   "id": "768e7cad",
   "metadata": {},
   "outputs": [
    {
     "name": "stdout",
     "output_type": "stream",
     "text": [
      "2.0843143350227287 {'max_features': 5, 'n_estimators': 189}\n",
      "2.4931814314222818 {'max_features': 3, 'n_estimators': 24}\n",
      "2.0733220044206395 {'max_features': 5, 'n_estimators': 81}\n",
      "2.3837701944557574 {'max_features': 3, 'n_estimators': 30}\n",
      "2.0308746540788407 {'max_features': 5, 'n_estimators': 131}\n",
      "2.083631965734928 {'max_features': 5, 'n_estimators': 84}\n",
      "2.0825678785044746 {'max_features': 5, 'n_estimators': 97}\n",
      "2.302016371632877 {'max_features': 3, 'n_estimators': 109}\n",
      "2.3108401792045568 {'max_features': 6, 'n_estimators': 161}\n",
      "2.078156852693699 {'max_features': 5, 'n_estimators': 159}\n",
      "2.6415945319510437 {'max_features': 3, 'n_estimators': 11}\n",
      "2.3089196434329744 {'max_features': 6, 'n_estimators': 167}\n",
      "2.080305637530681 {'max_features': 4, 'n_estimators': 139}\n",
      "2.3441581373215636 {'max_features': 6, 'n_estimators': 197}\n",
      "2.2657264639027597 {'max_features': 3, 'n_estimators': 170}\n",
      "2.2968036910758314 {'max_features': 6, 'n_estimators': 67}\n",
      "2.0367147477039813 {'max_features': 4, 'n_estimators': 98}\n",
      "2.2890114813086395 {'max_features': 3, 'n_estimators': 68}\n",
      "2.0712412153543167 {'max_features': 5, 'n_estimators': 179}\n",
      "2.3441581373215636 {'max_features': 6, 'n_estimators': 197}\n"
     ]
    }
   ],
   "source": [
    "cv_res = rnd_search.cv_results_\n",
    "for mean_score, params in zip(cv_res[\"mean_test_score\"], cv_res[\"params\"]):\n",
    "    print(np.sqrt(-mean_score), params)"
   ]
  },
  {
   "cell_type": "code",
   "execution_count": 97,
   "id": "b40abeb9",
   "metadata": {},
   "outputs": [
    {
     "data": {
      "text/plain": [
       "array([0.36865389, 0.01759161, 0.00917023, 0.        , 0.59615725,\n",
       "       0.00842702, 0.        ])"
      ]
     },
     "execution_count": 97,
     "metadata": {},
     "output_type": "execute_result"
    }
   ],
   "source": [
    "feature_importances = grid_search.best_estimator_.feature_importances_\n",
    "feature_importances"
   ]
  },
  {
   "cell_type": "code",
   "execution_count": 98,
   "id": "9378efa5",
   "metadata": {
    "scrolled": true
   },
   "outputs": [
    {
     "data": {
      "text/plain": [
       "[(0.5961572503438652, 'Totale Flow'),\n",
       " (0.3686538866528061, 'Aansturing Ventilator'),\n",
       " (0.01759161031070911, 'Fijnstofconcentratie PM10'),\n",
       " (0.009170233165228187, 'Fijnstofconcentratie PM2.5'),\n",
       " (0.008427019527391439, 'Voltooide Levensduur'),\n",
       " (0.0, 'Filteroppervlak'),\n",
       " (0.0, 'F7')]"
      ]
     },
     "execution_count": 98,
     "metadata": {},
     "output_type": "execute_result"
    }
   ],
   "source": [
    "cat_encoder = voll_pipeline.named_transformers_[\"cat\"]\n",
    "cat_one_hot_kenmerken = list(cat_encoder.categories_[0])\n",
    "kenmerken = num_kenmerken + cat_one_hot_kenmerken\n",
    "sorted(zip(feature_importances, kenmerken), reverse=True)"
   ]
  },
  {
   "cell_type": "code",
   "execution_count": 104,
   "id": "c92d0658",
   "metadata": {},
   "outputs": [
    {
     "data": {
      "text/plain": [
       "1.7891260325319271"
      ]
     },
     "execution_count": 104,
     "metadata": {},
     "output_type": "execute_result"
    }
   ],
   "source": [
    "def_model = rnd_search#.best_estimator_\n",
    "\n",
    "X_test = strat_test_set.drop(\"Drukverschil Filter\", axis=1)\n",
    "y_test = strat_test_set[\"Drukverschil Filter\"].copy()\n",
    "\n",
    "X_test_voorbereid = voll_pipeline.transform(X_test)\n",
    "def_voorspellingen = def_model.predict(X_test_voorbereid)\n",
    "\n",
    "def_mse = mean_squared_error(y_test, def_voorspellingen)\n",
    "def_rmse = np.sqrt(def_mse)\n",
    "def_rmse"
   ]
  },
  {
   "cell_type": "markdown",
   "id": "bc825567",
   "metadata": {},
   "source": [
    "Het is mogelijk om een betrouwbaarheidsinterval te berekenen. Hierdoor kan er iets gezegd worden over het interval waar de afwijking daadwerkelijk in zal vallen."
   ]
  },
  {
   "cell_type": "code",
   "execution_count": 106,
   "id": "9861f563",
   "metadata": {},
   "outputs": [
    {
     "data": {
      "text/plain": [
       "array([1.34767583, 2.14142798])"
      ]
     },
     "execution_count": 106,
     "metadata": {},
     "output_type": "execute_result"
    }
   ],
   "source": [
    "from scipy import stats\n",
    "\n",
    "betrouwbaarheid = 0.95\n",
    "squared_errors = (def_voorspellingen - y_test) ** 2\n",
    "np.sqrt(stats.t.interval(betrouwbaarheid, len(squared_errors) - 1,\n",
    "                         loc=squared_errors.mean(),\n",
    "                         scale=stats.sem(squared_errors)))"
   ]
  },
  {
   "cell_type": "markdown",
   "id": "5a7f1c6d",
   "metadata": {},
   "source": [
    "Het kiezen van een Random Forrest model, met de daarbij horende hyperparameters, zal resulteren in een afwijking van 1.79 Pascal op het drukverschil. Er kan met 95% betrouwbaarheid gezegd worden dat de daadwerkelijke afwijking tussen 1.34 en 2.14 Pascal ligt."
   ]
  },
  {
   "cell_type": "markdown",
   "id": "b746ce65",
   "metadata": {},
   "source": [
    "# Model opslaan"
   ]
  },
  {
   "cell_type": "code",
   "execution_count": 108,
   "id": "f26721b0",
   "metadata": {},
   "outputs": [
    {
     "data": {
      "text/plain": [
       "array([ 1.5694293 , 28.66949926,  1.53256997,  2.05407125, 57.98342265])"
      ]
     },
     "execution_count": 108,
     "metadata": {},
     "output_type": "execute_result"
    }
   ],
   "source": [
    "# Creëeren van een pipeline met voorbereiding en model\n",
    "voll_pipeline_model = Pipeline([\n",
    "        (\"voorbereiding\", voll_pipeline),\n",
    "        (\"rand_forest\", def_model)\n",
    "    ])\n",
    "\n",
    "voll_pipeline_model.fit(dataset_filter, dataset_filter_labels)\n",
    "voll_pipeline_model.predict(df)"
   ]
  },
  {
   "cell_type": "code",
   "execution_count": 109,
   "id": "2d7b0239",
   "metadata": {},
   "outputs": [],
   "source": [
    "def_model_123 = voll_pipeline_model"
   ]
  },
  {
   "cell_type": "code",
   "execution_count": 110,
   "id": "f78dae3b",
   "metadata": {},
   "outputs": [],
   "source": [
    "import joblib\n",
    "\n",
    "# Model opslaan als .pkl bestand\n",
    "joblib.dump(def_model_123, \"def_model_123.pkl\")\n",
    "# Model ophalen\n",
    "def_model_loaded = joblib.load(\"def_model_123.pkl\")"
   ]
  },
  {
   "cell_type": "markdown",
   "id": "a8a66c1b",
   "metadata": {},
   "source": [
    "# Model testen"
   ]
  },
  {
   "cell_type": "code",
   "execution_count": null,
   "id": "c809e52f",
   "metadata": {},
   "outputs": [],
   "source": []
  }
 ],
 "metadata": {
  "kernelspec": {
   "display_name": "Python 3 (ipykernel)",
   "language": "python",
   "name": "python3"
  },
  "language_info": {
   "codemirror_mode": {
    "name": "ipython",
    "version": 3
   },
   "file_extension": ".py",
   "mimetype": "text/x-python",
   "name": "python",
   "nbconvert_exporter": "python",
   "pygments_lexer": "ipython3",
   "version": "3.9.9"
  }
 },
 "nbformat": 4,
 "nbformat_minor": 5
}
